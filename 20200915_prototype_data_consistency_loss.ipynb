{
 "cells": [
  {
   "cell_type": "markdown",
   "metadata": {},
   "source": [
    "## Notebook Purpose\n",
    "\n",
    "Make the data consistency step differentiable in pytorch so it can be applied to the loss function during network fitting"
   ]
  },
  {
   "cell_type": "code",
   "execution_count": 1,
   "metadata": {},
   "outputs": [],
   "source": [
    "import os, sys\n",
    "import h5py\n",
    "import numpy as np\n",
    "import torch\n",
    "import matplotlib.pyplot as plt\n",
    "import time\n",
    "\n",
    "from utils.transform import np_to_tt, np_to_var, apply_mask, ifft_2d, fft_2d, \\\n",
    "                            reshape_complex_channels_to_sep_dimn, \\\n",
    "                            reshape_complex_channels_to_be_adj, \\\n",
    "                            split_complex_vals, combine_complex_channels, \\\n",
    "                            crop_center, root_sum_of_squares\n",
    "from utils.helpers import num_params\n",
    "from include.decoder_conv import convdecoder\n",
    "from include.mri_helpers import get_scale_factor\n",
    "from include.fit import fit\n",
    "\n",
    "from pytorch_msssim import ms_ssim\n",
    "from common.evaluate import vifp_mscale, ssim, psnr"
   ]
  },
  {
   "cell_type": "code",
   "execution_count": 16,
   "metadata": {},
   "outputs": [],
   "source": [
    "file_id = '1000411'\n",
    "filename = '/bmrNAS/people/dvv/multicoil_test_v2/file{}_v2.h5'.format(file_id)\n",
    "f = h5py.File(filename, 'r') \n",
    "slice_idx = f['kspace'].shape[0] // 2\n",
    "slice_ksp = f['kspace'][slice_idx]\n",
    "\n",
    "\n",
    "\n",
    "# duplicated from other ipynb to get variables for testing purposes\n",
    "in_ksp = np_to_tt(reshape_complex_channels_to_be_adj(split_complex_vals(slice_ksp)))\n",
    "_, _, mask1d = get_masks(f)\n",
    "img_out = in_ksp # same shape as net output for testing purposes -- actually ksp meas tho\n",
    "\n",
    "# pre-processing for new inputs into fit() -- added in main script\n",
    "ksp_orig = np_to_tt(split_complex_vals(slice_ksp)) # ([15, 640, 368, 2]); slice_ksp (15,640,368) complex\n",
    "mask1d = torch.from_numpy(np.array(mask1d, dtype=np.uint8)) # shape: torch.Size([368]) w 41 non-zero elements"
   ]
  },
  {
   "cell_type": "markdown",
   "metadata": {},
   "source": [
    "   ### make everything below differentiable, create a new function for use in `fit.py`\n",
    "\n",
    "##### TODO: \n",
    "- recon_ksp_to_img(). everything else might be good\n",
    "- at each step, want to test original vs. new version and verify shape of torch tensors is the same\n",
    "\n",
    "##### input shapes\n",
    "- in_ksp (tt): [30,x,y]\n",
    "- ksp_orig (tt): [15,x,y,2]\n",
    "- mask1d (tt): [368]"
   ]
  },
  {
   "cell_type": "code",
   "execution_count": null,
   "metadata": {},
   "outputs": [],
   "source": [
    "## DO THIS INSIDE LOOP, once recon_ksp_to_img is differentiable\n",
    "\n",
    "img_out = reshape_complex_channels_to_sep_dimn(in_ksp)\n",
    "ksp_est = fft_2d(img_out)\n",
    "ksp_est[:,:,mask1d==1,:] = ksp_orig[:,:,mask1d==1,:]\n",
    "ksp_dc = ksp_est\n",
    "\n",
    "img_dc = recon_ksp_to_img(ksp_dc)"
   ]
  },
  {
   "cell_type": "code",
   "execution_count": null,
   "metadata": {},
   "outputs": [],
   "source": [
    "def recon_ksp_to_img(ksp, dim=320):\n",
    "\n",
    "    arr = ifft_2d(ksp).cpu().numpy()\n",
    "    arr = reshape_complex_channels_to_be_adj(arr)\n",
    "    arr = combine_complex_channels(arr) # e.g. shape (30,x,y) --> (15,x,y)\n",
    "    arr = root_sum_of_squares(arr) # e.g. (15,x,y) --> (x,y)\n",
    "    arr = crop_center(arr, dim, dim) # e.g. (x,y) --> (dim,dim)\n",
    "    \n",
    "    return arr"
   ]
  },
  {
   "cell_type": "code",
   "execution_count": null,
   "metadata": {},
   "outputs": [],
   "source": []
  },
  {
   "cell_type": "code",
   "execution_count": null,
   "metadata": {},
   "outputs": [],
   "source": []
  },
  {
   "cell_type": "markdown",
   "metadata": {},
   "source": [
    "### Below: duplicate functions. Delete later"
   ]
  },
  {
   "cell_type": "code",
   "execution_count": 15,
   "metadata": {},
   "outputs": [],
   "source": [
    "def get_masks(file_h5):\n",
    "    ''' given h5 file, return three different versions of masks:\n",
    "            mask: used for masking k-space as network input\n",
    "            mask2d: 2D mask used to fit network \n",
    "            mask1d: 1D mask used for data consistency step '''\n",
    "    try:\n",
    "        mask1d = np.array([1 if e else 0 for e in file_h5[\"mask\"]]) # load 1D binary mask\n",
    "    except:\n",
    "        print('Implement method for generating a mask')\n",
    "        sys.exit()\n",
    "\n",
    "    # zero out mask in outer regions e.g. mask and data have last dimn 368, but actual data is size 320\n",
    "    # TODO: if actual data is size 320, then why do we have dimn 368?\n",
    "    idxs_zero = (mask1d.shape[-1] - 320) // 2 # e.g. zero first/last (368-320)/2=24 indices\n",
    "    mask1d[:idxs_zero], mask1d[-idxs_zero:] = 0, 0\n",
    "\n",
    "    # create 2d mask. zero pad if dimensions don't line up - is this necessary?\n",
    "    mask2d = np.repeat(mask1d[None,:], slice_ksp.shape[1], axis=0)#.astype(int)\n",
    "    mask2d = np.pad(mask2d, ((0,),((slice_ksp.shape[-1]-mask2d.shape[-1])//2,)), mode='constant')\n",
    "\n",
    "    # convert shape e.g. (368,) --> (1, 1, 368, 1)\n",
    "    mask = np_to_tt(np.array([[mask2d[0][np.newaxis].T]])).type(torch.FloatTensor)\n",
    "    #print('under-sampling factor:', round(len(mask1d) / sum(mask1d), 2))\n",
    "    \n",
    "    return mask, mask2d, mask1d"
   ]
  }
 ],
 "metadata": {
  "kernelspec": {
   "display_name": "Python 3",
   "language": "python",
   "name": "python3"
  },
  "language_info": {
   "codemirror_mode": {
    "name": "ipython",
    "version": 3
   },
   "file_extension": ".py",
   "mimetype": "text/x-python",
   "name": "python",
   "nbconvert_exporter": "python",
   "pygments_lexer": "ipython3",
   "version": "3.8.2"
  }
 },
 "nbformat": 4,
 "nbformat_minor": 4
}
