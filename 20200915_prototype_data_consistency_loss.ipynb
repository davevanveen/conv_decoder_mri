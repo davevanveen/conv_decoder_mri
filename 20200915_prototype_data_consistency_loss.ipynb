{
 "cells": [
  {
   "cell_type": "markdown",
   "metadata": {},
   "source": [
    "## Notebook Purpose\n",
    "\n",
    "Make the data consistency step differentiable in pytorch so it can be applied to the loss function during network fitting"
   ]
  },
  {
   "cell_type": "code",
   "execution_count": 1,
   "metadata": {},
   "outputs": [],
   "source": [
    "import os, sys\n",
    "import h5py\n",
    "import numpy as np\n",
    "import torch\n",
    "import matplotlib.pyplot as plt\n",
    "import time\n",
    "\n",
    "from utils.transform import np_to_tt, np_to_var, apply_mask, ifft_2d, fft_2d, \\\n",
    "                            reshape_complex_channels_to_sep_dimn, \\\n",
    "                            reshape_complex_channels_to_be_adj, \\\n",
    "                            split_complex_vals, combine_complex_channels, \\\n",
    "                            crop_center, root_sum_of_squares\n",
    "from utils.helpers import num_params, get_masks, load_h5\n",
    "from include.decoder_conv import convdecoder\n",
    "from include.mri_helpers import get_scale_factor\n",
    "from include.fit import fit"
   ]
  },
  {
   "cell_type": "code",
   "execution_count": 3,
   "metadata": {},
   "outputs": [],
   "source": [
    "file_id = '1000267'\n",
    "f, slice_ksp = load_h5(file_id)\n",
    "\n",
    "\n",
    "# duplicated from other ipynb to get variables for testing purposes\n",
    "in_ksp = np_to_tt(reshape_complex_channels_to_be_adj(split_complex_vals(slice_ksp)))\n",
    "_, _, mask1d = get_masks(f, slice_ksp)\n",
    "img_out = in_ksp # same shape as net output for testing purposes -- actually ksp meas tho\n",
    "\n",
    "# pre-processing for new inputs into fit() -- added in main script\n",
    "ksp_orig = np_to_tt(split_complex_vals(slice_ksp)) # ([15, 640, 368, 2]); slice_ksp (15,640,368) complex\n",
    "mask1d = torch.from_numpy(np.array(mask1d, dtype=np.uint8)) # shape: torch.Size([368]) w 41 non-zero elements"
   ]
  },
  {
   "cell_type": "markdown",
   "metadata": {},
   "source": [
    "   ### make everything below differentiable, create a new function for use in `fit.py`\n",
    "\n",
    "##### TODO: \n",
    "- recon_ksp_to_img(). everything else might be good\n",
    "- at each step, want to test original vs. new version and verify shape of torch tensors is the same\n",
    "\n",
    "##### input shapes\n",
    "- in_ksp (tt): [30,x,y]\n",
    "- ksp_orig (tt): [15,x,y,2]\n",
    "- mask1d (tt): [368]"
   ]
  },
  {
   "cell_type": "code",
   "execution_count": 46,
   "metadata": {},
   "outputs": [],
   "source": [
    "## DO THIS INSIDE LOOP, once recon_ksp_to_img is differentiable\n",
    "\n",
    "img_out = reshape_complex_channels_to_sep_dimn(in_ksp) #[15,x,y,2]\n",
    "ksp_est = fft_2d(img_out) #[15,x,y,2]\n",
    "ksp_est[:,:,mask1d==1,:] = ksp_orig[:,:,mask1d==1,:]\n",
    "ksp_dc = ksp_est #[15,x,y,2]\n",
    "\n",
    "img_dc = ifft_2d(ksp_dc) #[15,x,y,2]\n",
    "\n",
    "# don't want to recon img\n",
    "# img_dc = reshape_complex_channels_to_be_adj_tt(img_dc) #[30,x,y]\n",
    "# img_dc = combine_complex_channels_tt(img_dc) #[15,x,y]\n",
    "# img_dc = root_sum_of_squares_tt(img_dc)\n",
    "# img_dc = crop_center(img_dc, 320, 320)\n",
    "\n",
    "#img_dc = recon_ksp_to_img(ksp_dc)"
   ]
  },
  {
   "cell_type": "code",
   "execution_count": 49,
   "metadata": {},
   "outputs": [
    {
     "data": {
      "text/plain": [
       "torch.Size([1, 15, 640, 400, 2])"
      ]
     },
     "execution_count": 49,
     "metadata": {},
     "output_type": "execute_result"
    }
   ],
   "source": [
    "ksp_orig[None, :].shape"
   ]
  },
  {
   "cell_type": "code",
   "execution_count": null,
   "metadata": {},
   "outputs": [],
   "source": [
    "# want output [1,15,x,y,2]"
   ]
  },
  {
   "cell_type": "code",
   "execution_count": 4,
   "metadata": {},
   "outputs": [],
   "source": [
    "def recon_ksp_to_img(ksp, dim=320):\n",
    "\n",
    "    #arr = ifft_2d(ksp).cpu().numpy()\n",
    "    #arr = reshape_complex_channels_to_be_adj(arr)\n",
    "    arr = combine_complex_channels(arr) # e.g. shape (30,x,y) --> (15,x,y)\n",
    "    arr = root_sum_of_squares(arr) # e.g. (15,x,y) --> (x,y)\n",
    "    arr = crop_center(arr, dim, dim) # e.g. (x,y) --> (dim,dim)\n",
    "    \n",
    "    return arr"
   ]
  },
  {
   "cell_type": "code",
   "execution_count": 41,
   "metadata": {},
   "outputs": [],
   "source": [
    "def reshape_complex_channels_to_be_adj_tt(arr):\n",
    "    ''' (15,x,y,2) --> (30,x,y) '''\n",
    "\n",
    "    arr_out = torch.empty(2*arr.shape[0], arr.shape[1], arr.shape[2])\n",
    "    for idx, a in enumerate(arr):\n",
    "        arr_out[2*idx], arr_out[2*idx+1] = a[:,:,0], a[:,:,1]\n",
    "\n",
    "    return arr_out\n",
    "\n",
    "def combine_complex_channels_tt(arr):\n",
    "    ''' (30,x,y) --> (15,x,y) via combining real/complex vals into single magnitude '''\n",
    "\n",
    "    num_coils = int(arr.shape[0] / 2)\n",
    "    arr_out = torch.empty(num_coils, arr.shape[1], arr.shape[2])\n",
    "    for idx in range(num_coils):\n",
    "        arr_out[idx] = torch.sqrt(torch.square(arr[2*idx]) + torch.square(arr[2*idx+1]))\n",
    "    return arr_out\n",
    "\n",
    "def root_sum_of_squares_tt(arr):\n",
    "    ''' given 3D torch tensor e.g. 2D slices from multiple coils\n",
    "        combine each slice into a single 2D tensor via rss '''\n",
    "    return torch.sqrt(torch.sum(torch.square(arr), axis=0))"
   ]
  },
  {
   "cell_type": "code",
   "execution_count": null,
   "metadata": {},
   "outputs": [],
   "source": []
  }
 ],
 "metadata": {
  "kernelspec": {
   "display_name": "Python 3",
   "language": "python",
   "name": "python3"
  },
  "language_info": {
   "codemirror_mode": {
    "name": "ipython",
    "version": 3
   },
   "file_extension": ".py",
   "mimetype": "text/x-python",
   "name": "python",
   "nbconvert_exporter": "python",
   "pygments_lexer": "ipython3",
   "version": "3.8.2"
  }
 },
 "nbformat": 4,
 "nbformat_minor": 4
}
