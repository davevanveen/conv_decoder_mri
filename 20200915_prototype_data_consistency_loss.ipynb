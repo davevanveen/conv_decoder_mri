{
 "cells": [
  {
   "cell_type": "markdown",
   "metadata": {},
   "source": [
    "## Notebook Purpose\n",
    "\n",
    "Make the data consistency step differentiable in pytorch so it can be applied to the loss function during network fitting"
   ]
  },
  {
   "cell_type": "code",
   "execution_count": 1,
   "metadata": {},
   "outputs": [],
   "source": [
    "import os, sys\n",
    "import h5py\n",
    "import numpy as np\n",
    "import torch\n",
    "import matplotlib.pyplot as plt\n",
    "import time\n",
    "\n",
    "from utils.transform import np_to_tt, np_to_var, apply_mask, ifft_2d, fft_2d, \\\n",
    "                            reshape_complex_channels_to_sep_dimn, \\\n",
    "                            reshape_complex_channels_to_be_adj, \\\n",
    "                            split_complex_vals, combine_complex_channels, \\\n",
    "                            crop_center, root_sum_of_squares\n",
    "from utils.helpers import num_params\n",
    "from include.decoder_conv import convdecoder\n",
    "from include.mri_helpers import get_scale_factor\n",
    "from include.fit import fit\n",
    "\n",
    "from pytorch_msssim import ms_ssim\n",
    "from common.evaluate import vifp_mscale, ssim, psnr"
   ]
  },
  {
   "cell_type": "code",
   "execution_count": 4,
   "metadata": {},
   "outputs": [],
   "source": [
    "file_id = '1000411'\n",
    "filename = '/bmrNAS/people/dvv/multicoil_test_v2/file{}_v2.h5'.format(file_id)\n",
    "f = h5py.File(filename, 'r') \n",
    "slice_idx = f['kspace'].shape[0] // 2\n",
    "slice_ksp = f['kspace'][slice_idx]\n",
    "\n",
    "in_ksp = np_to_tt(reshape_complex_channels_to_be_adj(split_complex_vals(slice_ksp)))"
   ]
  },
  {
   "cell_type": "markdown",
   "metadata": {},
   "source": [
    "### make everything below differentiable\n",
    "\n",
    "### TODO: recon_ksp_to_img(). everything else might be good"
   ]
  },
  {
   "cell_type": "code",
   "execution_count": null,
   "metadata": {},
   "outputs": [],
   "source": [
    "## DO THIS OUTSIDE OF LOOP\n",
    "\n",
    "ksp_orig = np_to_tt(split_complex_vals(slice_ksp)) # ([15, 640, 368, 2]); slice_ksp (15,640,368) complex\n",
    "\n",
    "mask1d = torch.from_numpy(np.array(mask1d, dtype=np.uint8)) # shape: torch.Size([368]) w 41 non-zero elements"
   ]
  },
  {
   "cell_type": "code",
   "execution_count": null,
   "metadata": {},
   "outputs": [],
   "source": [
    "## DO THIS INSIDE LOOP, once recon_ksp_to_img is differentiable\n",
    "\n",
    "img_out = in_ksp\n",
    "img_out = reshape_complex_channels_to_sep_dimn(in_ksp)\n",
    "ksp_est = fft_2d(img_out) # ([15, 640, 368, 2])\n",
    "ksp_est[:,:,mask1d==1,:] = ksp_orig[:,:,mask1d==1,:]\n",
    "ksp_dc = ksp_est\n",
    "\n",
    "img_dc = recon_ksp_to_img(ksp_dc)"
   ]
  },
  {
   "cell_type": "code",
   "execution_count": null,
   "metadata": {},
   "outputs": [],
   "source": [
    "def recon_ksp_to_img(ksp, dim=320):\n",
    "\n",
    "    arr = ifft_2d(ksp).cpu().numpy()\n",
    "    arr = reshape_complex_channels_to_be_adj(arr)\n",
    "    arr = combine_complex_channels(arr) # e.g. shape (30,x,y) --> (15,x,y)\n",
    "    arr = root_sum_of_squares(arr) # e.g. (15,x,y) --> (x,y)\n",
    "    arr = crop_center(arr, dim, dim) # e.g. (x,y) --> (dim,dim)\n",
    "    \n",
    "    return arr"
   ]
  }
 ],
 "metadata": {
  "kernelspec": {
   "display_name": "Python 3",
   "language": "python",
   "name": "python3"
  },
  "language_info": {
   "codemirror_mode": {
    "name": "ipython",
    "version": 3
   },
   "file_extension": ".py",
   "mimetype": "text/x-python",
   "name": "python",
   "nbconvert_exporter": "python",
   "pygments_lexer": "ipython3",
   "version": "3.8.2"
  }
 },
 "nbformat": 4,
 "nbformat_minor": 4
}
