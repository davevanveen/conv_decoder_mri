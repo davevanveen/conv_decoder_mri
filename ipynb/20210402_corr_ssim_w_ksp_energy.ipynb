{
 "cells": [
  {
   "cell_type": "markdown",
   "metadata": {},
   "source": [
    "### notebook purpose\n",
    "\n",
    "- compute energy coefficient of k-space\n",
    "- see if there's a correlation w ssim output"
   ]
  },
  {
   "cell_type": "code",
   "execution_count": 7,
   "metadata": {},
   "outputs": [],
   "source": [
    "import os, sys\n",
    "from os import listdir\n",
    "from os.path import isfile, join, isdir\n",
    "import numpy as np\n",
    "import matplotlib.pyplot as plt\n",
    "import torch\n",
    "\n",
    "sys.path.append('/home/vanveen/ConvDecoder/')\n",
    "from utils.evaluate import calc_metrics_imgs, plot_row_qdess, scale_0_1\n",
    "from utils.data_io import get_mtr_ids_and, load_imgs, load_h5_qdess\n",
    "from utils.transform import reshape_adj_channels_to_complex_vals, \\\n",
    "                            reshape_complex_vals_to_adj_channels"
   ]
  },
  {
   "cell_type": "code",
   "execution_count": 30,
   "metadata": {},
   "outputs": [],
   "source": [
    "def load_gt_ksp(file_id_list):\n",
    "    \n",
    "    NUM_SAMPS = len(file_id_list)\n",
    "    ksp_set = np.empty((NUM_SAMPS, 2, 512, 160))\n",
    "    \n",
    "    for file_id in file_id_list:\n",
    "\n",
    "        # load, concat both echo slices\n",
    "        ksp = load_h5_qdess(file_id)\n",
    "        idx_kx = ksp.shape[0] // 2 # want central slice in kx (axial) b/c we undersample in (ky,kz)\n",
    "        ksp_echo1 = ksp[:,:,:,0,:].permute(3,0,1,2)[:, idx_kx, :, :]\n",
    "        ksp_echo2 = ksp[:,:,:,1,:].permute(3,0,1,2)[:, idx_kx, :, :]\n",
    "        ksp_orig = torch.cat((ksp_echo1, ksp_echo2), 0)\n",
    "\n",
    "        print(ksp_orig.shape)\n",
    "        \n",
    "    return "
   ]
  },
  {
   "cell_type": "markdown",
   "metadata": {},
   "source": [
    "# TODO\n",
    "\n",
    "### load ksp data\n",
    "\n",
    "- load gt\n",
    "    - if slow, may want to save middle slice as proxy\n",
    "- load dc (running over weekend)\n",
    "- get matching shapes, scale range"
   ]
  },
  {
   "cell_type": "code",
   "execution_count": null,
   "metadata": {},
   "outputs": [],
   "source": [
    "load_gt_ksp(mtr_id_list)"
   ]
  },
  {
   "cell_type": "markdown",
   "metadata": {},
   "source": [
    "### load images, but need in ksp"
   ]
  },
  {
   "cell_type": "code",
   "execution_count": 18,
   "metadata": {},
   "outputs": [],
   "source": [
    "accel = 4\n",
    "path_base = '/bmrNAS/people/dvv/out_qdess/accel_{}x/'.format(accel)\n",
    "\n",
    "path_gt = path_base + 'gt/'\n",
    "path_bl = path_base + 'baseline/'\n",
    "# path_new = path_base + 'mask_dual/'\n",
    "\n",
    "path_mask = '/home/vanveen/ConvDecoder/masks/mask_poisson_disc_{}x.npy'.format(accel)\n",
    "\n",
    "mask = abs(np.load(path_mask)).astype(np.uint8)"
   ]
  },
  {
   "cell_type": "code",
   "execution_count": 23,
   "metadata": {},
   "outputs": [],
   "source": [
    "mtr_id_list = ['005', '006', '030'] #get_mtr_ids_and(path_bl, path_gt)\n",
    "\n",
    "imgs_gt = load_imgs(mtr_id_list, path=path_gt)\n",
    "imgs_bl = load_imgs(mtr_id_list, path=path_bl)\n",
    "\n",
    "metrics_bl = calc_metrics_imgs(imgs_gt, imgs_bl)\n",
    "# mu_bl = np.around(np.mean(metrics_bl, 0), 4)"
   ]
  },
  {
   "cell_type": "code",
   "execution_count": 15,
   "metadata": {},
   "outputs": [
    {
     "data": {
      "text/plain": [
       "((34, 2, 4), (34, 2, 512, 160))"
      ]
     },
     "execution_count": 15,
     "metadata": {},
     "output_type": "execute_result"
    }
   ],
   "source": [
    "metrics_bl.shape, imgs_bl.shape"
   ]
  }
 ],
 "metadata": {
  "kernelspec": {
   "display_name": "Python 3",
   "language": "python",
   "name": "python3"
  },
  "language_info": {
   "codemirror_mode": {
    "name": "ipython",
    "version": 3
   },
   "file_extension": ".py",
   "mimetype": "text/x-python",
   "name": "python",
   "nbconvert_exporter": "python",
   "pygments_lexer": "ipython3",
   "version": "3.8.5"
  }
 },
 "nbformat": 4,
 "nbformat_minor": 4
}
