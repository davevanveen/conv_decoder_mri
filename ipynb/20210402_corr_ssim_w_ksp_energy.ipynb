{
 "cells": [
  {
   "cell_type": "markdown",
   "metadata": {},
   "source": [
    "### notebook purpose\n",
    "\n",
    "- compute energy coefficient of k-space\n",
    "    - fraction of signal energy concentrated on low, fully-sampled center frequencies over the energy of the whole of k-space\n",
    "- see if there's a correlation w metric output"
   ]
  },
  {
   "cell_type": "code",
   "execution_count": 2,
   "metadata": {},
   "outputs": [],
   "source": [
    "import os, sys\n",
    "from os import listdir\n",
    "from os.path import isfile, join, isdir\n",
    "import numpy as np\n",
    "import matplotlib.pyplot as plt\n",
    "import torch\n",
    "\n",
    "sys.path.append('/home/vanveen/ConvDecoder/')\n",
    "from utils.evaluate import calc_metrics_imgs, plot_row_qdess, scale_0_1\n",
    "from utils.data_io import get_mtr_ids_and, load_imgs, load_h5_qdess\n",
    "from utils.transform import reshape_adj_channels_to_complex_vals, \\\n",
    "                            reshape_complex_vals_to_adj_channels"
   ]
  },
  {
   "cell_type": "code",
   "execution_count": 130,
   "metadata": {},
   "outputs": [],
   "source": [
    "def load_ksp(file_id_list, path_ksp, file_type):\n",
    "    ''' given list of mtr_ids\n",
    "              path_ksp: directory of ksp files, size (16,512,160)\n",
    "              file_type: gt or dc \n",
    "        return ksp_set, all ksp samples in one array'''\n",
    "    \n",
    "    NUM_SAMPS = len(file_id_list)\n",
    "    ksp_set = torch.empty((NUM_SAMPS, 16, 512, 160))\n",
    "    \n",
    "    for idx, file_id in enumerate(file_id_list):\n",
    "        \n",
    "        ksp_fn = '{}MTR_{}_ksp_{}.npy'.format(path_ksp, file_id, file_type)\n",
    "        ksp = torch.from_numpy(np.load(ksp_fn))\n",
    "        ksp = torch.abs(ksp)\n",
    "        \n",
    "        if ksp.shape != (16, 512, 160):\n",
    "            print(file_id + ' skipped. update mtr_id_list')\n",
    "            continue\n",
    "            \n",
    "        ksp_set[idx] = ksp\n",
    "        \n",
    "    return ksp_set\n",
    "\n",
    "def compute_energy_coef(ksp_set, C):\n",
    "    ''' given a set of ksp samples (NUM_SAMPS, 16, 512, 160)\n",
    "              and the calibration region size C\n",
    "        return coefs, a 1d array of length NUM_SAMPS w \n",
    "               the energy coefficient for each ksp sample\n",
    "               coef = energy(calib region) / energy(total ksp) '''\n",
    "    \n",
    "    # indices for isolating calibration region\n",
    "    C_ = C // 2\n",
    "    x0, x1 = 256-C_, 256+C_\n",
    "    y0, y1 = 80-C_, 80+C_\n",
    "    \n",
    "    coef_list = np.empty(len(ksp_set))\n",
    "    \n",
    "    for idx, ksp in enumerate(ksp_set):\n",
    "        assert ksp.shape[-2:] == (512, 160)\n",
    "        \n",
    "        energy_lo = torch.sum(ksp[:, x0:x1, y0:y1])\n",
    "        energy_hi = torch.sum(ksp) - energy_lo\n",
    "\n",
    "        coef = energy_lo / energy_hi\n",
    "        \n",
    "        coef_list[idx] = coef\n",
    "        \n",
    "    return coef_list"
   ]
  },
  {
   "cell_type": "markdown",
   "metadata": {},
   "source": [
    "### compute ssim"
   ]
  },
  {
   "cell_type": "code",
   "execution_count": 124,
   "metadata": {},
   "outputs": [],
   "source": [
    "accel = 4\n",
    "path_base = '/bmrNAS/people/dvv/out_qdess/accel_{}x/'.format(accel)\n",
    "\n",
    "path_gt = path_base + 'gt/'\n",
    "path_bl = path_base + 'mask_incorrect/'"
   ]
  },
  {
   "cell_type": "code",
   "execution_count": 125,
   "metadata": {},
   "outputs": [
    {
     "data": {
      "text/plain": [
       "(32, 2, 4)"
      ]
     },
     "execution_count": 125,
     "metadata": {},
     "output_type": "execute_result"
    }
   ],
   "source": [
    "mtr_id_list = get_mtr_ids_and(path_gt, path_bl)\n",
    "mtr_ids_to_remove = ['066', '173'] # due to shape mismatch\n",
    "for mtr_id_ in mtr_ids_to_remove:\n",
    "    if mtr_id_ in mtr_id_list: mtr_id_list.remove(mtr_id_)\n",
    "\n",
    "imgs_gt = load_imgs(mtr_id_list, path=path_gt)\n",
    "imgs_bl = load_imgs(mtr_id_list, path=path_bl)\n",
    "    \n",
    "metrics_bl = calc_metrics_imgs(imgs_gt, imgs_bl)\n",
    "metrics_bl.shape"
   ]
  },
  {
   "cell_type": "markdown",
   "metadata": {},
   "source": [
    "### compute corr(metric, energy coefficient)"
   ]
  },
  {
   "cell_type": "markdown",
   "metadata": {},
   "source": [
    "# TODO\n",
    "\n",
    "- update `path_bl/`. make sure yesterday's observations agree w the new baseline\n",
    "    - new baseline was created w proper sampling pattern\n",
    "- once ksp_gt is confirmed, look at ksp_dc\n",
    "    - if comparing gt/dc: get matching shapes, scale range\n",
    "- message akshay w results"
   ]
  },
  {
   "cell_type": "code",
   "execution_count": 127,
   "metadata": {},
   "outputs": [],
   "source": [
    "path_ksp = path_base + 'gt/ksp/' # gt\n",
    "# path_ksp = path_base + 'baseline/' # dc \n",
    "\n",
    "ksp_set = load_ksp(mtr_id_list, path_ksp, file_type='gt')"
   ]
  },
  {
   "cell_type": "code",
   "execution_count": 129,
   "metadata": {},
   "outputs": [
    {
     "name": "stdout",
     "output_type": "stream",
     "text": [
      "\n",
      " calib size 40\n",
      "echo 1\n",
      "metric 0: 0.71\n",
      "metric 1: 0.26\n",
      "metric 2: 0.3\n",
      "metric 3: 0.07\n",
      "echo 2\n",
      "metric 0: 0.81\n",
      "metric 1: 0.51\n",
      "metric 2: 0.54\n",
      "metric 3: 0.5\n"
     ]
    }
   ],
   "source": [
    "for C in [40]: #[24, 32, 40, 64]:\n",
    "    \n",
    "    print('\\n calib size {}'.format(C))\n",
    "    coef_list = compute_energy_coef(ksp_set, C)\n",
    "\n",
    "    for ee in [0, 1]: # echo1, echo2\n",
    "        print('echo {}'.format(ee+1))\n",
    "        for mm in [0, 1, 2, 3]: # vif, msssim, ssim, psnr\n",
    "\n",
    "            metric_bl = metrics_bl[:, ee, mm]\n",
    "\n",
    "            corr = np.around(np.corrcoef(metric_bl, coef_list)[0,1], 2)\n",
    "            print('metric {}: {}'.format(mm, corr))    "
   ]
  },
  {
   "cell_type": "code",
   "execution_count": null,
   "metadata": {},
   "outputs": [],
   "source": [
    "ee = 0 # 0,1: echo1, echo2\n",
    "mm = 2 # 0,1,2,3: vif, msssim, ssim, psnr\n",
    "\n",
    "metric_bl = metrics_bl[:, ee, mm]"
   ]
  },
  {
   "cell_type": "code",
   "execution_count": 110,
   "metadata": {},
   "outputs": [
    {
     "data": {
      "image/png": "[encoded data removed]",
      "text/plain": [
       "<Figure size 432x288 with 1 Axes>"
      ]
     },
     "metadata": {
      "needs_background": "light"
     },
     "output_type": "display_data"
    }
   ],
   "source": [
    "plt.plot(coef_list, metric_bl, 'bo')\n",
    "plt.show()"
   ]
  }
 ],
 "metadata": {
  "kernelspec": {
   "display_name": "Python 3",
   "language": "python",
   "name": "python3"
  },
  "language_info": {
   "codemirror_mode": {
    "name": "ipython",
    "version": 3
   },
   "file_extension": ".py",
   "mimetype": "text/x-python",
   "name": "python",
   "nbconvert_exporter": "python",
   "pygments_lexer": "ipython3",
   "version": "3.8.5"
  }
 },
 "nbformat": 4,
 "nbformat_minor": 4
}
