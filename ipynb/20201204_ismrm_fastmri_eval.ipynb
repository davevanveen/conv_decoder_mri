{
 "cells": [
  {
   "cell_type": "code",
   "execution_count": 15,
   "metadata": {},
   "outputs": [],
   "source": [
    "import os, sys\n",
    "from os import listdir\n",
    "from os.path import isfile, join\n",
    "import numpy as np\n",
    "import torch\n",
    "import matplotlib.pyplot as plt\n",
    "\n",
    "sys.path.append('/home/vanveen/ConvDecoder/')\n",
    "from utils.data_io import load_h5\n",
    "from utils.evaluate import calc_metrics\n",
    "from utils.transform import fft_2d, ifft_2d, root_sum_squares, \\\n",
    "                            reshape_complex_vals_to_adj_channels, \\\n",
    "                            reshape_adj_channels_to_complex_vals, \\\n",
    "                            crop_center"
   ]
  },
  {
   "cell_type": "code",
   "execution_count": 17,
   "metadata": {},
   "outputs": [],
   "source": [
    "def load_gt(file_id):\n",
    "    _, ksp_orig = load_h5(file_id)\n",
    "    ksp_orig = torch.from_numpy(ksp_orig)\n",
    "    return crop_center(root_sum_squares(ifft_2d(ksp_orig)), DIM, DIM)\n",
    "\n",
    "def norm_im(im):\n",
    "    ''' normalize img to [0,1] range '''\n",
    "    return (im - im.min()) * (1. / im.max())\n",
    "\n",
    "def plot_list(arr_list, clim=None):\n",
    "    \n",
    "    NUM_COLS = len(arr_list)\n",
    "    title_list = ['ground-truth', 'dc', 'fm', 'diff']\n",
    "    \n",
    "    fig = plt.figure(figsize=(20,20))\n",
    "    \n",
    "    for idx in range(NUM_COLS):\n",
    "        ax = fig.add_subplot(1,NUM_COLS,idx+1)\n",
    "        ax.imshow(arr_list[idx], cmap='gray', clim=clim)\n",
    "        ax.set_title(title_list[idx], fontsize=20)\n",
    "        ax.axis('off')"
   ]
  },
  {
   "cell_type": "markdown",
   "metadata": {},
   "source": [
    "### compare old dd+ (pytorch==1.5) vs new dd+ (pytorch==1.7)\n",
    "\n",
    "from the baseline directory `/bmrNAS/people/dvv/out_fastmri/`...\n",
    "- (1) `old_pytorch1.5/orig_alpha_search/` (n=11): using dd+ pt==1.5 before code re-work \n",
    "- (2) `old_pytorch1.5/sf0.1/` (n=5): using dd+ pt==1.5 after code re-work, then converted back\n",
    "    - not sure if this is actually in pt==1.5 or if i just took pt==1.7 and used the deprecated fft/ifft functions in a hacky way. either way, i might have this stashed in a branch somewhere?\n",
    "- (3) `new_pytorch1.7/sf0.1/` (n=5): using dd+ pt==1.7 sf0.1 w `fit.py`\n",
    "- (4) `expmt_fm_loss/trials_best/` (n=11): using dd+ pt==1.7 sf=0.1 w `fit_feat_map_loss.py` instead of `fit.py`\n",
    "    - i.e. looking at trial_id = `0000_10k`\n",
    "\n",
    "##### results\n",
    "- 1 > 4\n",
    "- 2 > 1, but we only have five samples for 2\n",
    "- 2, 3 are comparable\n",
    "- ssim, psnr\n",
    "    - (1)\n",
    "        - n=5: 0.7884340675904544 31.730754973365197\n",
    "        - n=11: 0.7569765714478369 30.87466793360071\n",
    "    - (2) 0.796467652242989 32.034361010080524\n",
    "    - (3) 0.793504546953909 31.93507930075753\n",
    "    - (4)\n",
    "        - n=5: 0.7647340218936469 30.56831878262691\n",
    "        - n=11: 0.7399233683613828 29.98914482917978\n",
    "\n",
    "# TODO\n",
    "- try to re-create (3) by following the current codebase, i.e. same process for (4) but using `fit.py`\n",
    "    - i.e. compare to files in `path_3` across n=5\n",
    "- if that fails, look at old ipynb's and branches. try to re-create (3) first, but fall back to (2) if necessary\n",
    "- once i re-create decent results, want to run this over a larger validation set. send to arjun"
   ]
  },
  {
   "cell_type": "code",
   "execution_count": 49,
   "metadata": {},
   "outputs": [],
   "source": [
    "path_base = '/bmrNAS/people/dvv/out_fastmri/'\n",
    "path_1 = path_base + 'old_pytorch1.5/orig_alpha_search/'\n",
    "path_2 = path_base + 'old_pytorch1.5/sf0.1/'\n",
    "path_3 = path_base + 'new_pytorch1.7/sf0.1/'\n",
    "path_4 = path_base + '/expmt_fm_loss/trials_best/'\n",
    "\n",
    "# file_id_list = ['1000273', '1000325', '1000464', \\\n",
    "#                 '1000537', '1000818', '1001140', '1001219', \\\n",
    "#                 '1001338', '1001598', '1001533', '1001798']\n",
    "file_id_list = ['1000273', '1000325', '1000464', '1000537', '1000818']"
   ]
  },
  {
   "cell_type": "code",
   "execution_count": 50,
   "metadata": {
    "scrolled": false
   },
   "outputs": [
    {
     "name": "stdout",
     "output_type": "stream",
     "text": [
      "0.7569765714478369 30.87466793360071\n",
      "0.7399233683613828 29.98914482917978\n"
     ]
    }
   ],
   "source": [
    "DIM = 320\n",
    "nf = len(file_id_list)\n",
    "\n",
    "s_o_list, p_o_list, s_n_list, p_n_list = np.empty(nf), np.empty(nf), np.empty(nf), np.empty(nf)\n",
    "\n",
    "for idx, file_id in enumerate(file_id_list):\n",
    "    \n",
    "    img_gt = load_gt(file_id)\n",
    "\n",
    "#     img_old = np.load('{}{}_iter10000_alpha0.npy'.format(path_1, file_id))\n",
    "    img_old = np.load('{}{}_dc.npy'.format(path_3, file_id))\n",
    "#     img_new = np.load('{}0000_10k_{}_dc.npy'.format(path_4, file_id))\n",
    "\n",
    "    img_new = XXXXXXXXXXXXXXXXXXXXXXXXXXX\n",
    "\n",
    "    _, _, s_o_list[idx], p_o_list[idx] = calc_metrics(img_old, np.array(img_gt))\n",
    "    _, _, s_n_list[idx], p_n_list[idx] = calc_metrics(img_new, np.array(img_gt))\n",
    "\n",
    "    img_diff = np.abs(norm_im(img_old) - norm_im(img_new))\n",
    "\n",
    "#     plot_list([img_gt, img_old, img_new, img_diff])\n",
    "\n",
    "print(s_o_list.mean(), p_o_list.mean()) \n",
    "print(s_n_list.mean(), p_n_list.mean())"
   ]
  }
 ],
 "metadata": {
  "kernelspec": {
   "display_name": "Python 3",
   "language": "python",
   "name": "python3"
  },
  "language_info": {
   "codemirror_mode": {
    "name": "ipython",
    "version": 3
   },
   "file_extension": ".py",
   "mimetype": "text/x-python",
   "name": "python",
   "nbconvert_exporter": "python",
   "pygments_lexer": "ipython3",
   "version": "3.8.5"
  }
 },
 "nbformat": 4,
 "nbformat_minor": 4
}
