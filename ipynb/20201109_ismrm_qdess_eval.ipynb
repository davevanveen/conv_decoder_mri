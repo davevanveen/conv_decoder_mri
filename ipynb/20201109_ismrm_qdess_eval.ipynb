{
 "cells": [
  {
   "cell_type": "markdown",
   "metadata": {},
   "source": [
    "## Notebook Purpose\n",
    "\n",
    "Quantitative evaluation of qdess recon experiments"
   ]
  },
  {
   "cell_type": "code",
   "execution_count": 1,
   "metadata": {},
   "outputs": [],
   "source": [
    "import os, sys\n",
    "from os import listdir\n",
    "from os.path import isfile, join\n",
    "from matplotlib import pyplot as plt\n",
    "import numpy as np\n",
    "import torch\n",
    "\n",
    "sys.path.append('/home/vanveen/ConvDecoder/')\n",
    "from utils.evaluate import calc_metrics, normalize_img"
   ]
  },
  {
   "cell_type": "code",
   "execution_count": 2,
   "metadata": {},
   "outputs": [],
   "source": [
    "def plot_list(arr_list, clim=None):\n",
    "    \n",
    "    # stretch_factor = 0.8/(160/512) = 2.56 \n",
    "    # 0.8 = slice thickness, 160 = FOV in phase encode direction and 512 = number of kspace samples in the phase direction\n",
    "    STRETCH_FACTOR = 2.56 \n",
    "    \n",
    "    NUM_COLS = len(arr_list)\n",
    "    title_list = ['ground-truth', 'recon, 4x', 'recon, 6x', 'recon, 8x']\n",
    "    \n",
    "    fig = plt.figure(figsize=(40,40))\n",
    "    \n",
    "    for idx in range(NUM_COLS):\n",
    "        ax = fig.add_subplot(1,NUM_COLS,idx+1)\n",
    "        ax.imshow(arr_list[idx], cmap='gray', clim=clim, aspect=(1./STRETCH_FACTOR))\n",
    "        ax.set_title(title_list[idx], fontsize=20)\n",
    "        ax.axis('off')"
   ]
  },
  {
   "cell_type": "markdown",
   "metadata": {},
   "source": [
    "### define test set\n",
    "\n",
    "based off `/bmrNAS/people/arjun/data/stanford-qDESS/annotations/v0.0.2/splits.xlsx`, which has pathology-relevant samples `MTR_065` and `MTR_066` in its test set"
   ]
  },
  {
   "cell_type": "code",
   "execution_count": 9,
   "metadata": {},
   "outputs": [],
   "source": [
    "path = '/bmrNAS/people/arjun/data/qdess_knee_2020/files_recon_calib-16/'\n",
    "\n",
    "mtr_list = ['065', '066', '240', '156', '188', '199', '224', '198', '219', '096', '052', '196', '221', '241', '223', '178', '227', '099', '218', '248', '006', '005', '173', '048', '158', '080', '034', '144', '176', '244', '120', '235', '237', '030']\n",
    "fn_list = ['MTR_{}.h5'.format(f) for f in mtr_list]"
   ]
  },
  {
   "cell_type": "markdown",
   "metadata": {},
   "source": [
    "### slices of clinical relevance"
   ]
  },
  {
   "cell_type": "code",
   "execution_count": null,
   "metadata": {},
   "outputs": [],
   "source": [
    "idx_kx_dict = {'MTR_065.h5': [219, 220, 221, 372, 373, 374],\n",
    "               'MTR_066.h5': [277, 278, 279, 280]}"
   ]
  },
  {
   "cell_type": "markdown",
   "metadata": {},
   "source": [
    "### compute metrics"
   ]
  },
  {
   "cell_type": "code",
   "execution_count": 5,
   "metadata": {},
   "outputs": [
    {
     "name": "stdout",
     "output_type": "stream",
     "text": [
      "\n",
      " 4x accel\n",
      "ssim ~N(0.8662, 0.0237)\n",
      "psnr ~N(32.8236, 1.257)\n"
     ]
    }
   ],
   "source": [
    "ACCEL_LIST = [4]\n",
    "ECHO_NUM = 1\n",
    "\n",
    "NUM_VARS = len(ACCEL_LIST) + 1 #\n",
    "\n",
    "im_list = np.empty((len(files_gt),NUM_VARS,512,160))\n",
    "\n",
    "for idx_a, ACCEL in enumerate(ACCEL_LIST):\n",
    "    \n",
    "    path = '/bmrNAS/people/dvv/out_qdess/accel_{}x/echo{}/'.format(ACCEL, ECHO_NUM)\n",
    "    files = [f for f in listdir(path) if isfile(join(path, f))]\n",
    "    \n",
    "    # filter\n",
    "    \n",
    "    files_gt = [f for f in files if '_gt.npy' in f]\n",
    "    NUM_SAMPS = len(files_gt)\n",
    "\n",
    "    ssim_list, psnr_list = [], []\n",
    "\n",
    "    for idx_f, f in enumerate(files_gt):\n",
    "        \n",
    "        idx_ = idx_f + idx_a*NUM_SAMPS\n",
    "\n",
    "        img_gt = np.load(path + f)\n",
    "        img_dc = np.load(path + f.split('_gt.npy')[0] + '_dc.npy')\n",
    "        \n",
    "        # save to im_list - wonky order b/c want diff accels of same sample adjacent\n",
    "        # vs. calculating psnr/ssim want diff samples of same accels adjacent\n",
    "        if idx_a == 0: # save img_gt to position 0\n",
    "            im_list[idx_f, idx_a] = img_gt\n",
    "        im_list[idx_f, idx_a+1] = img_dc # save img_dc=x_accel to position 1,2,3\n",
    "\n",
    "        _, _, ssim_, psnr_ = calc_metrics(img_dc, img_gt)\n",
    "        ssim_list.append(ssim_), psnr_list.append(psnr_)\n",
    "\n",
    "    ssim_list, psnr_list = np.asarray(ssim_list), np.asarray(psnr_list)\n",
    "    \n",
    "\n",
    "    print('\\n {}x accel'.format(ACCEL))\n",
    "    print('ssim ~N({}, {})'.format(np.round(ssim_list.mean(), 4), \\\n",
    "                                   np.round(ssim_list.std(), 4)))\n",
    "    print('psnr ~N({}, {})'.format(np.round(psnr_list.mean(), 4), \\\n",
    "                                   np.round(psnr_list.std(), 4)))\n",
    "im_list = np.asarray(im_list)"
   ]
  },
  {
   "cell_type": "markdown",
   "metadata": {},
   "source": [
    "### echo2 results\n",
    "4x accel\n",
    "ssim ~N(0.772, 0.0535)\n",
    "psnr ~N(32.8001, 1.487)\n",
    "\n",
    " 6x accel\n",
    "ssim ~N(0.7339, 0.0537)\n",
    "psnr ~N(31.8721, 1.514)\n",
    "\n",
    " 8x accel\n",
    "ssim ~N(0.7166, 0.0505)\n",
    "psnr ~N(31.4235, 1.1096)"
   ]
  },
  {
   "cell_type": "markdown",
   "metadata": {},
   "source": [
    "### cast all range of pixel values to be on [0,1]\n",
    "\n",
    "network output has .mean() ~2, while gt has .mean() ~20000"
   ]
  },
  {
   "cell_type": "code",
   "execution_count": 6,
   "metadata": {},
   "outputs": [],
   "source": [
    "im_list_norm = np.empty(im_list.shape)\n",
    "\n",
    "for idx_s, samp in enumerate(im_list): # for each sample    \n",
    "    for idx_v, var in enumerate(samp): # for each variation of that sample\n",
    "        \n",
    "        im_list_norm[idx_s, idx_v] = (var - var.min()) * (1. / var.max())"
   ]
  },
  {
   "cell_type": "markdown",
   "metadata": {},
   "source": [
    "### apply stretch factor to images\n",
    "\n",
    "- 0.8/(160/512) = 2.56 stretch factor\n",
    "    - 0.8 = slice thickness, 160 = FOV in phase encode direction and 512 = number of kspace samples in the phase direction\n",
    "        - FOV: distance over which an MR image is acquired or displayed\n",
    "- qdess data in shape [nc, kx, ky, kz] = [16, 512, 512, 160] \n",
    "    - take central slice in kx. then undersample in [ky, kz]\n",
    "    - in-plane voxels [kx, ky] are taken at 0.3mm x 0.3mm and thru-plane voxels are taken at spacing of 0.8mm\n",
    "        - here \"in-plane\" refers to the sagittal plane, even though we are sampling in [ky,kz] and hence viewing axial images\n",
    "\n",
    "if we want to view each true voxel equally...\n",
    "\n",
    "### TODO: reason through this using FOV and k-space notes in g doc"
   ]
  },
  {
   "cell_type": "markdown",
   "metadata": {},
   "source": [
    "### make difference maps w gt"
   ]
  },
  {
   "cell_type": "code",
   "execution_count": 7,
   "metadata": {},
   "outputs": [],
   "source": [
    "im_diff_list = np.empty(im_list.shape)\n",
    "\n",
    "for idx_s, samp in enumerate(im_list_norm): # for each sample\n",
    "    \n",
    "    gt = samp[0]\n",
    "\n",
    "    for idx_v, var in enumerate(samp): # for each variation of that sample\n",
    "\n",
    "        if idx_v == 0:\n",
    "            im_diff = np.zeros(gt.shape)\n",
    "        else:\n",
    "            var_norm = normalize_img(gt, var) # normalizes arg 2\n",
    "            im_diff = np.abs(var_norm - gt)    \n",
    "        \n",
    "        im_diff_list[idx_s, idx_v]  = im_diff"
   ]
  },
  {
   "cell_type": "code",
   "execution_count": 12,
   "metadata": {
    "scrolled": false
   },
   "outputs": [],
   "source": [
    "# for idx in np.arange(NUM_SAMPS):\n",
    "#     plot_list(im_list_norm[idx])\n",
    "#     plot_list(im_diff_list[idx], clim=(0,im_diff_list[idx].max()))"
   ]
  }
 ],
 "metadata": {
  "kernelspec": {
   "display_name": "Python 3",
   "language": "python",
   "name": "python3"
  },
  "language_info": {
   "codemirror_mode": {
    "name": "ipython",
    "version": 3
   },
   "file_extension": ".py",
   "mimetype": "text/x-python",
   "name": "python",
   "nbconvert_exporter": "python",
   "pygments_lexer": "ipython3",
   "version": "3.8.5"
  }
 },
 "nbformat": 4,
 "nbformat_minor": 4
}
