{
 "cells": [
  {
   "cell_type": "markdown",
   "metadata": {},
   "source": [
    "## Notebook Purpose\n",
    "\n",
    "Quantitative evaluation of qdess recon experiments"
   ]
  },
  {
   "cell_type": "code",
   "execution_count": 1,
   "metadata": {},
   "outputs": [],
   "source": [
    "import os, sys\n",
    "from os import listdir\n",
    "from os.path import isfile, join\n",
    "from matplotlib import pyplot as plt\n",
    "import numpy as np\n",
    "import torch\n",
    "\n",
    "sys.path.append('/home/vanveen/ConvDecoder/')\n",
    "from utils.evaluate import calc_metrics, norm_imgs"
   ]
  },
  {
   "cell_type": "code",
   "execution_count": 2,
   "metadata": {},
   "outputs": [],
   "source": [
    "path_baseline = '/bmrNAS/people/arjun/results/mtr/toy/recon_only/version_004/test_results/stanford_qdess_v0.0.2_test/'\n",
    "\n",
    "def load_qdess_baseline(mtr_id, idx_kx=None):\n",
    "    ''' given mtr_id e.g. MTR_123, load from pre-defined directory\n",
    "              idx_kx: index in kx at which to get axial slice \n",
    "        loads .npy file of shape (x,y,z,1,2) \n",
    "        returns array of shape (y,z) '''\n",
    "    \n",
    "    arr = torch.from_numpy(np.load('{}MTR_{}.npy'.format(path_baseline, mtr_id))) # shape (x,y,z,1,2)\n",
    "    \n",
    "    if not idx_kx: # get central slice if unspecified\n",
    "        idx_kx = arr.shape[0] // 2\n",
    "    arr = arr[int(idx_kx), :, :, :, :]\n",
    "    \n",
    "    # combine real/complex values\n",
    "    arr_new = torch.empty((arr.shape[0], arr.shape[1]), dtype=torch.complex64)\n",
    "    arr_new.real = arr[:, :, 0, 0]\n",
    "    arr_new.imag = arr[:, :, 0, 1]\n",
    "    \n",
    "    return np.array(torch.absolute(arr_new))\n",
    "\n",
    "def plot_list(arr_list, clim=None):\n",
    "    \n",
    "    # stretch_factor = 0.8/(160/512) = 2.56 \n",
    "    # 0.8 = slice thickness, 160 = FOV in phase encode direction and 512 = number of kspace samples in the phase direction\n",
    "    STRETCH_FACTOR = 2.56 \n",
    "    \n",
    "    NUM_COLS = len(arr_list)\n",
    "#     title_list = ['ground-truth', 'recon, 4x', 'recon, 6x', 'recon, 8x']\n",
    "    title_list = ['ground_truth', 'dd+', 'u-net']\n",
    "    \n",
    "    fig = plt.figure(figsize=(20,20))\n",
    "    \n",
    "    for idx in range(NUM_COLS):\n",
    "        ax = fig.add_subplot(1,NUM_COLS,idx+1)\n",
    "        ax.imshow(arr_list[idx], cmap='gray', clim=clim, aspect=(1./STRETCH_FACTOR))\n",
    "        ax.set_title(title_list[idx], fontsize=20)\n",
    "        ax.axis('off')"
   ]
  },
  {
   "cell_type": "markdown",
   "metadata": {},
   "source": [
    "### define test set\n",
    "\n",
    "based off `/bmrNAS/people/arjun/data/stanford-qDESS/annotations/v0.0.2/splits.xlsx`, which has pathology-relevant samples `MTR_065` and `MTR_066` in its test set"
   ]
  },
  {
   "cell_type": "code",
   "execution_count": 3,
   "metadata": {},
   "outputs": [
    {
     "data": {
      "text/plain": [
       "[None, None]"
      ]
     },
     "execution_count": 3,
     "metadata": {},
     "output_type": "execute_result"
    }
   ],
   "source": [
    "path = '/bmrNAS/people/arjun/data/qdess_knee_2020/files_recon_calib-16/'\n",
    "\n",
    "MTR_ID_LIST = ['065', '066', '240', '156', '188', '199', '224', '198', '219', '096', '052', '196', '221', '241', '223', '178', '227', '099', '218', '248', '006', '005', '173', '048', '158', '080', '034', '144', '176', '244', '120', '235', '237', '030']\n",
    "# fn_list = ['MTR_{}.h5'.format(f) for f in mtr_list]\n",
    "\n",
    "# skip these samples b/c baselines have the incorrect dimensions\n",
    "MTR_IDS_TO_SKIP = ['178', '223'] \n",
    "[MTR_ID_LIST.remove(mtr_id) for mtr_id in MTR_IDS_TO_SKIP]"
   ]
  },
  {
   "cell_type": "markdown",
   "metadata": {},
   "source": [
    "### compute metrics"
   ]
  },
  {
   "cell_type": "markdown",
   "metadata": {},
   "source": [
    "# TODO\n",
    "\n",
    "- figure out why metrics (vif, msssim) not computed correctly\n",
    "    - note: img_dc and img_bl have very different ranges\n",
    "    - compare calculations to fastmri\n",
    "- figure out plotting clim, i.e. w diff maps\n",
    "- look at particular samples of interest\n",
    "- look at clinically relevant slices from MTR_065, MTR_066\n",
    "    - play with windowing, see if we can get one of akshay's four annotations as a good example\n",
    "    - so far MTR_066, idx_kx=279 might be a candidate?\n",
    "- create plotting utils for zoom, arrow"
   ]
  },
  {
   "cell_type": "code",
   "execution_count": 4,
   "metadata": {},
   "outputs": [
    {
     "name": "stderr",
     "output_type": "stream",
     "text": [
      "/home/vanveen/heck/lib/python3.8/site-packages/pytorch_msssim/ssim.py:50: UserWarning: Skipping Gaussian Smoothing at dimension 2+1 for input: torch.Size([1, 1, 32, 10]) and win size: 11\n",
      "  warnings.warn(\n"
     ]
    },
    {
     "name": "stdout",
     "output_type": "stream",
     "text": [
      "dd+\n",
      "[ 0.90623197  0.97175826  0.87102744 33.00638277]\n",
      "\n",
      "u-net\n",
      "[ 0.86974168  0.97289299  0.87535098 32.56962   ]\n"
     ]
    }
   ],
   "source": [
    "path_recons = '/bmrNAS/people/dvv/out_qdess/accel_4x/echo1/'\n",
    "\n",
    "NUM_SAMPS = len(MTR_ID_LIST)\n",
    "NUM_VARS = 3 # ground-truth, our output, original baseline\n",
    "NUM_METRICS = 4 # vif, msssim, ssim, psnr\n",
    "\n",
    "im_list = np.empty((NUM_SAMPS, NUM_VARS, 512, 160))\n",
    "metric_dc_list = np.empty((NUM_SAMPS, NUM_METRICS))\n",
    "metric_bl_list = np.empty((NUM_SAMPS, NUM_METRICS))\n",
    "\n",
    "for idx, mtr_id in enumerate(MTR_ID_LIST):\n",
    "\n",
    "    img_gt = np.load('{}MTR_{}_gt.npy'.format(path_recons, mtr_id))\n",
    "    img_dc = np.load('{}MTR_{}_dc.npy'.format(path_recons, mtr_id))\n",
    "    img_bl = load_qdess_baseline(mtr_id)\n",
    "    \n",
    "    img_gt, img_dc = norm_imgs(img_gt, img_dc)\n",
    "    img_gt, img_bl = norm_imgs(img_gt, img_bl)\n",
    "        \n",
    "    metric_dc_list[idx] = calc_metrics(img_gt, img_dc, imgs_already_normed=True)\n",
    "    metric_bl_list[idx] = calc_metrics(img_gt, img_bl, imgs_already_normed=True)\n",
    "    im_list[idx] = [img_gt, img_dc, img_bl]\n",
    "\n",
    "print('dd+')\n",
    "print(np.mean(metric_dc_list, axis=0))\n",
    "\n",
    "print('\\nu-net')\n",
    "print(np.mean(metric_bl_list, axis=0))"
   ]
  },
  {
   "cell_type": "code",
   "execution_count": 5,
   "metadata": {},
   "outputs": [
    {
     "ename": "SystemExit",
     "evalue": "",
     "output_type": "error",
     "traceback": [
      "An exception has occurred, use %tb to see the full traceback.\n",
      "\u001b[0;31mSystemExit\u001b[0m\n"
     ]
    },
    {
     "name": "stderr",
     "output_type": "stream",
     "text": [
      "/home/vanveen/heck/lib/python3.8/site-packages/IPython/core/interactiveshell.py:3425: UserWarning: To exit: use 'exit', 'quit', or Ctrl-D.\n",
      "  warn(\"To exit: use 'exit', 'quit', or Ctrl-D.\", stacklevel=1)\n"
     ]
    }
   ],
   "source": [
    "sys.exit()"
   ]
  },
  {
   "cell_type": "markdown",
   "metadata": {},
   "source": [
    "### cast all range of pixel values to be on [0,1]\n",
    "\n",
    "network output has .mean() ~2, while gt has .mean() ~20000"
   ]
  },
  {
   "cell_type": "code",
   "execution_count": null,
   "metadata": {},
   "outputs": [],
   "source": [
    "# im_list_norm = np.empty(im_list.shape)\n",
    "\n",
    "# for idx_s, samp in enumerate(im_list): # for each sample    \n",
    "#     for idx_v, var in enumerate(samp): # for each variation of that sample\n",
    "        \n",
    "#         im_list_norm[idx_s, idx_v] = (var - var.min()) * (1. / var.max())"
   ]
  },
  {
   "cell_type": "markdown",
   "metadata": {},
   "source": [
    "### apply stretch factor to images\n",
    "\n",
    "- 0.8/(160/512) = 2.56 stretch factor\n",
    "    - 0.8 = slice thickness, 160 = FOV in phase encode direction and 512 = number of kspace samples in the phase direction\n",
    "        - FOV: distance over which an MR image is acquired or displayed\n",
    "- qdess data in shape [nc, kx, ky, kz] = [16, 512, 512, 160] \n",
    "    - take central slice in kx. then undersample in [ky, kz]\n",
    "    - in-plane voxels [kx, ky] are taken at 0.3mm x 0.3mm and thru-plane voxels are taken at spacing of 0.8mm\n",
    "        - here \"in-plane\" refers to the sagittal plane, even though we are sampling in [ky,kz] and hence viewing axial images\n",
    "\n",
    "if we want to view each true voxel equally...\n",
    "\n",
    "### TODO: reason through this using FOV and k-space notes in g doc"
   ]
  },
  {
   "cell_type": "markdown",
   "metadata": {},
   "source": [
    "### make difference maps w gt"
   ]
  },
  {
   "cell_type": "code",
   "execution_count": null,
   "metadata": {},
   "outputs": [],
   "source": [
    "im_diff_list = np.empty(im_list.shape)\n",
    "\n",
    "for idx_s, samp in enumerate(im_list_norm): # for each sample\n",
    "    \n",
    "    gt = samp[0]\n",
    "\n",
    "    for idx_v, var in enumerate(samp): # for each variation of that sample\n",
    "\n",
    "        if idx_v == 0:\n",
    "            im_diff = np.zeros(gt.shape)\n",
    "        else:\n",
    "            var_norm = normalize_img(gt, var) # normalizes arg 2\n",
    "            im_diff = np.abs(var_norm - gt)    \n",
    "        \n",
    "        im_diff_list[idx_s, idx_v]  = im_diff"
   ]
  },
  {
   "cell_type": "code",
   "execution_count": null,
   "metadata": {
    "scrolled": false
   },
   "outputs": [],
   "source": [
    "for idx in np.arange(NUM_SAMPS):\n",
    "    plot_list(im_list_norm[idx])\n",
    "    plot_list(im_diff_list[idx], clim=(0,im_diff_list[idx].max()))\n",
    "    sys.exit()"
   ]
  },
  {
   "cell_type": "markdown",
   "metadata": {},
   "source": [
    "### plot slices of clinical relevance"
   ]
  },
  {
   "cell_type": "code",
   "execution_count": null,
   "metadata": {},
   "outputs": [],
   "source": [
    "idx_kx_dict = {'MTR_065.h5': [219, 220, 221, 372, 373, 374],\n",
    "               'MTR_066.h5': [277, 278, 279, 280]}\n",
    "\n",
    "path_spec_slices = '/bmrNAS/people/dvv/out_qdess/specific_slices/accel_4x/echo1/'\n",
    "\n",
    "mtr_id = '066' # '065' or '066'\n",
    "idx_kx = '279'\n",
    "\n",
    "img_gt = np.load('{}MTR_{}_gt_slice{}.npy'.format(path_spec_slices, mtr_id, idx_kx))\n",
    "img_dc = np.load('{}MTR_{}_dc_slice{}.npy'.format(path_spec_slices, mtr_id, idx_kx))\n",
    "img_bl = load_qdess_baseline(mtr_id, idx_kx=idx_kx)\n",
    "\n",
    "plot_list([img_gt, img_dc, img_bl])\n",
    "# plot_list([img_bl])"
   ]
  }
 ],
 "metadata": {
  "kernelspec": {
   "display_name": "Python 3",
   "language": "python",
   "name": "python3"
  },
  "language_info": {
   "codemirror_mode": {
    "name": "ipython",
    "version": 3
   },
   "file_extension": ".py",
   "mimetype": "text/x-python",
   "name": "python",
   "nbconvert_exporter": "python",
   "pygments_lexer": "ipython3",
   "version": "3.8.5"
  }
 },
 "nbformat": 4,
 "nbformat_minor": 4
}
