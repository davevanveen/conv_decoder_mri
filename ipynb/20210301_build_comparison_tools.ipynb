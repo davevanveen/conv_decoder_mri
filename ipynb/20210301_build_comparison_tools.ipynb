{
 "cells": [
  {
   "cell_type": "markdown",
   "metadata": {},
   "source": [
    "### notebook purpose\n",
    "\n",
    "- build tools for efficiently comparing across multiple directories"
   ]
  },
  {
   "cell_type": "code",
   "execution_count": 27,
   "metadata": {},
   "outputs": [],
   "source": [
    "import os, sys\n",
    "from os import listdir\n",
    "from os.path import isfile, join, isdir\n",
    "import numpy as np\n",
    "\n",
    "sys.path.append('/home/vanveen/ConvDecoder/')\n",
    "from utils.evaluate import calc_metrics"
   ]
  },
  {
   "cell_type": "code",
   "execution_count": 4,
   "metadata": {},
   "outputs": [],
   "source": [
    "path_base = '/bmrNAS/people/dvv/out_qdess/accel_4x/echo_joint/'\n",
    "\n",
    "path_1 = path_base + 'mask_rect/'\n",
    "path_2 = path_base + 'mask_square/'\n",
    "path_gt = path_base + 'gt/'"
   ]
  },
  {
   "cell_type": "code",
   "execution_count": 33,
   "metadata": {},
   "outputs": [],
   "source": [
    "def get_file_list(path):\n",
    "    files = [f for f in listdir(path) if isfile(join(path, f))]\n",
    "    files.sort()\n",
    "    return files\n",
    "\n",
    "def get_mtr_ids(file_list):\n",
    "    ''' given list of files \n",
    "        return list of unique XXX entries in MTR_XXX_... ''' \n",
    "    mtr_ids = list(set([s.split('MTR_')[1][:3] for s in file_list]))\n",
    "    mtr_ids.sort()    \n",
    "    return mtr_ids\n",
    "\n",
    "def get_mtr_ids_and(path_1, path_2):\n",
    "    ''' given two paths, return list of matching filenames in each directory '''\n",
    "    \n",
    "    # get list of mtr ids in each directory\n",
    "    mtr_ids_1 = get_mtr_ids(get_file_list(path_1))\n",
    "    mtr_ids_2 = get_mtr_ids(get_file_list(path_2))\n",
    "    \n",
    "    mtr_ids_and = [a and b for a, b in zip(mtr_ids_1, mtr_ids_2)]\n",
    "    mtr_ids_and.sort()\n",
    "    \n",
    "    if len(mtr_ids_and) == 0:\n",
    "        raise ValueError('no overlapping files between paths')\n",
    "        \n",
    "    return mtr_ids_and\n",
    "\n",
    "def load_imgs(mtr_id_list, path):\n",
    "    ''' given list of mtr_ids and a directory \n",
    "        return single array w all imgs '''\n",
    "    \n",
    "    # indicator string if loading gt\n",
    "    gt_str = '_gt' if '/gt/' in path else '' \n",
    "\n",
    "    num_samps = len(mtr_id_list)\n",
    "    num_echos, num_y, num_z = 2, 512, 160\n",
    "    arr = np.empty((num_samps, num_echos, num_y, num_z))\n",
    "        \n",
    "    for idx_s, mtr_id in enumerate(mtr_id_list):\n",
    "        \n",
    "        arr[idx_s, 0] = np.load('{}MTR_{}_e1{}.npy'.format(path, mtr_id, gt_str))\n",
    "        arr[idx_s, 1] = np.load('{}MTR_{}_e2{}.npy'.format(path, mtr_id, gt_str))\n",
    "        \n",
    "    return arr\n",
    "\n",
    "def calc_metrics_imgs(imgs_gt, imgs_out):\n",
    "    ''' given (gt, out) imgs over many samples / echos\n",
    "        compute metrics for each '''\n",
    "    \n",
    "    assert imgs_gt.shape == imgs_out.shape\n",
    "    assert imgs_gt.shape[-2:] == (512, 160)\n",
    "    assert imgs_gt.ndim == 4\n",
    "    \n",
    "    num_samps = imgs_gt.shape[0]\n",
    "    num_echos = imgs_gt.shape[1]\n",
    "    num_metrics = 4 # vif, msssim, ssim, psnr\n",
    "    \n",
    "    metrics = np.empty((num_samps, num_echos, num_metrics))\n",
    "    \n",
    "    for idx_s in np.arange(num_samps):\n",
    "        for idx_e in np.arange(num_echos):\n",
    "            \n",
    "            im_gt, im_out = imgs_gt[idx_s, idx_e], imgs_out[idx_s, idx_e]\n",
    "            \n",
    "            metrics[idx_s, idx_e] = np.array(calc_metrics(im_gt, im_out))\n",
    "            \n",
    "    return metrics"
   ]
  },
  {
   "cell_type": "markdown",
   "metadata": {},
   "source": [
    "# TODO\n",
    "\n",
    "- x"
   ]
  },
  {
   "cell_type": "code",
   "execution_count": 34,
   "metadata": {},
   "outputs": [],
   "source": [
    "mtr_id_list = get_mtr_ids_and(path_1, path_2)\n",
    "\n",
    "imgs_gt = load_imgs(mtr_id_list, path=path_gt)\n",
    "imgs_rect = load_imgs(mtr_id_list, path=path_1)\n",
    "imgs_square = load_imgs(mtr_id_list, path=path_2)"
   ]
  },
  {
   "cell_type": "code",
   "execution_count": 35,
   "metadata": {},
   "outputs": [
    {
     "name": "stderr",
     "output_type": "stream",
     "text": [
      "/home/vanveen/heck/lib/python3.8/site-packages/pytorch_msssim/ssim.py:50: UserWarning: Skipping Gaussian Smoothing at dimension 2+1 for input: torch.Size([1, 1, 32, 10]) and win size: 11\n",
      "  warnings.warn(\n"
     ]
    }
   ],
   "source": [
    "metrics_square = calc_metrics_imgs(imgs_gt, imgs_square)\n",
    "metrics_rect = calc_metrics_imgs(imgs_gt, imgs_rect)"
   ]
  },
  {
   "cell_type": "code",
   "execution_count": 39,
   "metadata": {},
   "outputs": [
    {
     "data": {
      "text/plain": [
       "['005',\n",
       " '006',\n",
       " '030',\n",
       " '034',\n",
       " '048',\n",
       " '052',\n",
       " '065',\n",
       " '066',\n",
       " '080',\n",
       " '096',\n",
       " '099',\n",
       " '120']"
      ]
     },
     "execution_count": 39,
     "metadata": {},
     "output_type": "execute_result"
    }
   ],
   "source": [
    "mtr_id_list"
   ]
  },
  {
   "cell_type": "code",
   "execution_count": 44,
   "metadata": {},
   "outputs": [
    {
     "data": {
      "text/plain": [
       "array([[[False, False, False, False],\n",
       "        [False, False, False, False]],\n",
       "\n",
       "       [[False, False, False, False],\n",
       "        [False, False, False, False]],\n",
       "\n",
       "       [[False, False, False, False],\n",
       "        [False, False, False, False]],\n",
       "\n",
       "       [[ True, False, False, False],\n",
       "        [ True, False, False, False]],\n",
       "\n",
       "       [[ True, False, False, False],\n",
       "        [False, False, False, False]],\n",
       "\n",
       "       [[ True, False, False, False],\n",
       "        [ True, False, False, False]],\n",
       "\n",
       "       [[False,  True,  True,  True],\n",
       "        [False, False,  True, False]],\n",
       "\n",
       "       [[ True, False, False,  True],\n",
       "        [ True, False,  True, False]],\n",
       "\n",
       "       [[ True,  True,  True,  True],\n",
       "        [ True,  True,  True,  True]],\n",
       "\n",
       "       [[ True, False, False, False],\n",
       "        [ True, False,  True,  True]],\n",
       "\n",
       "       [[ True, False, False,  True],\n",
       "        [False, False, False, False]],\n",
       "\n",
       "       [[ True, False, False, False],\n",
       "        [ True, False, False, False]]])"
      ]
     },
     "execution_count": 44,
     "metadata": {},
     "output_type": "execute_result"
    }
   ],
   "source": [
    "metrics_diff = metrics_square - metrics_rect\n",
    "\n",
    "metrics_diff > 0"
   ]
  },
  {
   "cell_type": "code",
   "execution_count": 42,
   "metadata": {},
   "outputs": [
    {
     "name": "stdout",
     "output_type": "stream",
     "text": [
      "005\n",
      "[[ 0.89118162  0.9710165   0.86752419 33.19305799]\n",
      " [ 0.57763716  0.91301724  0.70780414 30.83077188]]\n",
      "[[ 0.8927328   0.97250949  0.86802412 33.30277828]\n",
      " [ 0.60679205  0.9195634   0.70835717 31.20488442]]\n",
      "006\n",
      "[[ 0.89598112  0.97396702  0.87371292 33.43668824]\n",
      " [ 0.77559991  0.96024308  0.84264108 34.80783533]]\n",
      "[[ 0.90811118  0.97720172  0.88886506 33.79967315]\n",
      " [ 0.81692077  0.9654837   0.85961073 35.45608601]]\n",
      "030\n",
      "[[ 0.8796219   0.97784509  0.88509669 34.85960084]\n",
      " [ 0.73243082  0.96131248  0.84339262 35.40080961]]\n",
      "[[ 0.88413535  0.98106572  0.90560929 35.40313779]\n",
      " [ 0.7353292   0.96471274  0.85475883 35.67144364]]\n",
      "034\n",
      "[[ 0.91628186  0.97354171  0.87463565 33.65817557]\n",
      " [ 0.80586251  0.95205645  0.82532896 34.43914388]]\n",
      "[[ 0.90331316  0.97843054  0.88977237 34.13679593]\n",
      " [ 0.80383745  0.96183994  0.84734332 35.1720652 ]]\n",
      "048\n",
      "[[ 0.91875133  0.9712345   0.8585076  33.23861965]\n",
      " [ 0.68384978  0.91087542  0.70782937 30.20192101]]\n",
      "[[ 0.91104326  0.97326936  0.85935268 33.25782159]\n",
      " [ 0.69248399  0.9173816   0.71062076 30.32727053]]\n",
      "052\n",
      "[[ 0.90065148  0.95785496  0.82680769 31.16415042]\n",
      " [ 0.86260451  0.93817596  0.79174628 32.71528835]]\n",
      "[[ 0.87848973  0.96206808  0.84429175 31.3142919 ]\n",
      " [ 0.8520454   0.94755519  0.81334782 33.26820181]]\n",
      "065\n",
      "[[ 0.90811678  0.97115092  0.87499481 33.72436411]\n",
      " [ 0.73574358  0.94448225  0.80806763 34.03843556]]\n",
      "[[ 0.91466197  0.97036448  0.87138594 33.55872374]\n",
      " [ 0.74535142  0.94804319  0.80035101 34.20479968]]\n",
      "066\n",
      "[[ 0.85828087  0.96457381  0.84007636 33.22732531]\n",
      " [ 0.82264133  0.95005936  0.80572179 31.8676579 ]]\n",
      "[[ 0.85384459  0.96577271  0.84476895 33.16510416]\n",
      " [ 0.82052481  0.95465222  0.80554518 31.93341584]]\n",
      "080\n",
      "[[ 0.92448462  0.96896841  0.85054076 32.33917429]\n",
      " [ 0.87271985  0.95338216  0.8325304  33.80794722]]\n",
      "[[ 0.91320715  0.96887806  0.84379982 32.10325914]\n",
      " [ 0.86211238  0.9483425   0.80415516 33.38321717]]\n",
      "096\n",
      "[[ 0.91564134  0.97213822  0.86488867 32.80732529]\n",
      " [ 0.79472254  0.941818    0.80609468 33.31105485]]\n",
      "[[ 0.90311604  0.97529617  0.8729112  32.99561986]\n",
      " [ 0.75751666  0.94366812  0.78566472 33.28675223]]\n",
      "099\n",
      "[[ 0.90532124  0.96249849  0.83465409 31.76796068]\n",
      " [ 0.83922739  0.9407702   0.78091578 32.61414953]]\n",
      "[[ 0.89838382  0.96378009  0.83770614 31.72245246]\n",
      " [ 0.84145264  0.94737123  0.79189054 32.89612245]]\n",
      "120\n",
      "[[ 0.90972182  0.97602002  0.8745033  33.26250824]\n",
      " [ 0.82649256  0.94396935  0.79784952 32.45729644]]\n",
      "[[ 0.90569607  0.98134596  0.89570627 34.05649265]\n",
      " [ 0.82422898  0.94936506  0.81038356 32.77863078]]\n"
     ]
    }
   ],
   "source": [
    "for idx_s, mtr_id in enumerate(mtr_id_list):\n",
    "    \n",
    "    print(mtr_id)\n",
    "    print(metrics_square[idx_s])\n",
    "    print(metrics_rect[idx_s])"
   ]
  },
  {
   "cell_type": "markdown",
   "metadata": {},
   "source": [
    "# OLD"
   ]
  },
  {
   "cell_type": "markdown",
   "metadata": {},
   "source": [
    "### remove `_dc` from filenames"
   ]
  },
  {
   "cell_type": "code",
   "execution_count": null,
   "metadata": {},
   "outputs": [],
   "source": [
    "path_data = '/bmrNAS/people/dvv/out_qdess/'\n",
    "\n",
    "dir_list = [x[0] for x in os.walk(path_data)]\n",
    "\n",
    "for d in dir_list:\n",
    "    \n",
    "    d = d + '/'\n",
    "    file_list = get_file_list(d)\n",
    "    \n",
    "    if len(file_list) > 0:\n",
    "        \n",
    "        for f in file_list:\n",
    "            \n",
    "            if '_dc' not in f:\n",
    "                continue\n",
    "                            \n",
    "            f_new = f.replace('_dc', '')\n",
    "            \n",
    "            arr = np.load(d + f)\n",
    "            np.save(d + f_new, arr)\n",
    "            \n",
    "            os.remove(d + f)   "
   ]
  }
 ],
 "metadata": {
  "kernelspec": {
   "display_name": "Python 3",
   "language": "python",
   "name": "python3"
  },
  "language_info": {
   "codemirror_mode": {
    "name": "ipython",
    "version": 3
   },
   "file_extension": ".py",
   "mimetype": "text/x-python",
   "name": "python",
   "nbconvert_exporter": "python",
   "pygments_lexer": "ipython3",
   "version": "3.8.5"
  }
 },
 "nbformat": 4,
 "nbformat_minor": 4
}
