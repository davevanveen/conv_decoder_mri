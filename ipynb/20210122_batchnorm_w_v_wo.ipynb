{
 "cells": [
  {
   "cell_type": "markdown",
   "metadata": {},
   "source": [
    "### notebook purpose\n",
    "\n",
    "evaluate whether batchnorm helps\n",
    "conclusion: yes"
   ]
  },
  {
   "cell_type": "code",
   "execution_count": 1,
   "metadata": {},
   "outputs": [],
   "source": [
    "import os, sys\n",
    "import numpy as np\n",
    "\n",
    "sys.path.append('/home/vanveen/ConvDecoder/')\n",
    "from utils.evaluate import calc_metrics"
   ]
  },
  {
   "cell_type": "code",
   "execution_count": 18,
   "metadata": {},
   "outputs": [],
   "source": [
    "path_bn = '/bmrNAS/people/dvv/out_qdess/accel_4x/echo1/'\n",
    "path_no = path_bn + 'no_batchnorm/'\n",
    "\n",
    "id_list = ['005', '006', '030', '034', '048', '052', '065',\n",
    "           '080', '096', '099', '120', '144', '156', '158',\n",
    "           '176']"
   ]
  },
  {
   "cell_type": "code",
   "execution_count": 27,
   "metadata": {},
   "outputs": [],
   "source": [
    "NUM_SAMPS = len(id_list)\n",
    "NUM_METRICS = 4\n",
    "\n",
    "metrics_bn = np.empty((NUM_SAMPS, NUM_METRICS))\n",
    "metrics_no = np.empty((NUM_SAMPS, NUM_METRICS))\n",
    "\n",
    "for idx, id_ in enumerate(id_list):\n",
    "    \n",
    "    im_gt = np.load('{}MTR_{}_gt.npy'.format(path_bn, id_))\n",
    "    im_gt_no = np.load('{}MTR_{}_gt.npy'.format(path_no, id_))\n",
    "\n",
    "    if abs(im_gt - im_gt_no).max() != 0:\n",
    "        raise ValueError('ground-truths do not match for MTR_{}'.format(id_))\n",
    "        continue\n",
    "    \n",
    "    im_bn = np.load('{}MTR_{}_dc.npy'.format(path_bn, id_))\n",
    "    im_no = np.load('{}MTR_{}_dc.npy'.format(path_no, id_))\n",
    "\n",
    "    metrics_bn[idx] = calc_metrics(im_gt, im_bn)\n",
    "    metrics_no[idx] = calc_metrics(im_gt, im_no)\n",
    "    \n",
    "vals_bn = np.mean(metrics_bn, axis=1)\n",
    "vals_no = np.mean(metrics_no, axis=1)"
   ]
  },
  {
   "cell_type": "code",
   "execution_count": 26,
   "metadata": {},
   "outputs": [
    {
     "data": {
      "text/plain": [
       "array([[ True,  True,  True,  True],\n",
       "       [ True,  True,  True,  True],\n",
       "       [ True,  True,  True,  True],\n",
       "       [ True,  True,  True,  True],\n",
       "       [ True,  True,  True,  True],\n",
       "       [ True,  True,  True,  True],\n",
       "       [ True,  True,  True,  True],\n",
       "       [ True,  True,  True,  True],\n",
       "       [ True,  True,  True,  True],\n",
       "       [ True,  True,  True,  True],\n",
       "       [ True,  True,  True,  True],\n",
       "       [ True,  True,  True,  True],\n",
       "       [ True,  True,  True,  True],\n",
       "       [ True,  True,  True,  True],\n",
       "       [ True,  True,  True,  True]])"
      ]
     },
     "execution_count": 26,
     "metadata": {},
     "output_type": "execute_result"
    }
   ],
   "source": [
    "metrics_bn - metrics_no > 0"
   ]
  }
 ],
 "metadata": {
  "kernelspec": {
   "display_name": "Python 3",
   "language": "python",
   "name": "python3"
  },
  "language_info": {
   "codemirror_mode": {
    "name": "ipython",
    "version": 3
   },
   "file_extension": ".py",
   "mimetype": "text/x-python",
   "name": "python",
   "nbconvert_exporter": "python",
   "pygments_lexer": "ipython3",
   "version": "3.8.5"
  }
 },
 "nbformat": 4,
 "nbformat_minor": 4
}
