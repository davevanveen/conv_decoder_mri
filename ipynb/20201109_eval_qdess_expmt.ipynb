{
 "cells": [
  {
   "cell_type": "markdown",
   "metadata": {},
   "source": [
    "## Notebook Purpose\n",
    "\n",
    "Quantitative evaluation of qdess recon experiments"
   ]
  },
  {
   "cell_type": "code",
   "execution_count": 1,
   "metadata": {},
   "outputs": [],
   "source": [
    "import os, sys\n",
    "from os import listdir\n",
    "from os.path import isfile, join\n",
    "import numpy as np\n",
    "import torch\n",
    "\n",
    "sys.path.append('/home/vanveen/ConvDecoder/')\n",
    "from utils.evaluate import calc_metrics"
   ]
  },
  {
   "cell_type": "code",
   "execution_count": 8,
   "metadata": {},
   "outputs": [],
   "source": [
    "path = '/bmrNAS/people/dvv/out_qdess/'\n",
    "files = [f for f in listdir(path) if isfile(join(path, f))]\n",
    "files_gt = [f for f in files if '_gt.npy' in f]\n",
    "\n",
    "ssim_list, psnr_list = [], []\n",
    "\n",
    "for f in files_gt:\n",
    "    \n",
    "    img_gt = np.load(path + f)\n",
    "    img_dc = np.load(path + f.split('_gt.npy')[0] + '_dc.npy')\n",
    "    \n",
    "    _, _, ssim_, psnr_ = calc_metrics(img_dc, img_gt)\n",
    "    \n",
    "    ssim_list.append(ssim_), psnr_list.append(psnr_)\n",
    "    \n",
    "ssim_list, psnr_list = np.asarray(ssim_list), np.asarray(psnr_list)"
   ]
  },
  {
   "cell_type": "code",
   "execution_count": 9,
   "metadata": {},
   "outputs": [
    {
     "data": {
      "text/plain": [
       "array([32.74420044, 32.72290871, 32.79304595, 30.25170336, 33.35058309,\n",
       "       32.67082122, 32.68229422, 31.39772735, 34.14990179, 32.5913608 ,\n",
       "       30.09836164])"
      ]
     },
     "execution_count": 9,
     "metadata": {},
     "output_type": "execute_result"
    }
   ],
   "source": [
    "psnr_list"
   ]
  },
  {
   "cell_type": "code",
   "execution_count": 10,
   "metadata": {},
   "outputs": [
    {
     "name": "stdout",
     "output_type": "stream",
     "text": [
      "ssim ~N(0.8376, 0.0232)\n",
      "psnr ~N(32.3139, 1.182)\n"
     ]
    }
   ],
   "source": [
    "print('ssim ~N({}, {})'.format(np.round(ssim_list.mean(), 4), \\\n",
    "                               np.round(ssim_list.std(), 4)))\n",
    "print('psnr ~N({}, {})'.format(np.round(psnr_list.mean(), 4), \\\n",
    "                               np.round(psnr_list.std(), 4)))"
   ]
  },
  {
   "cell_type": "code",
   "execution_count": null,
   "metadata": {},
   "outputs": [],
   "source": []
  }
 ],
 "metadata": {
  "kernelspec": {
   "display_name": "Python 3",
   "language": "python",
   "name": "python3"
  },
  "language_info": {
   "codemirror_mode": {
    "name": "ipython",
    "version": 3
   },
   "file_extension": ".py",
   "mimetype": "text/x-python",
   "name": "python",
   "nbconvert_exporter": "python",
   "pygments_lexer": "ipython3",
   "version": "3.8.5"
  }
 },
 "nbformat": 4,
 "nbformat_minor": 4
}
