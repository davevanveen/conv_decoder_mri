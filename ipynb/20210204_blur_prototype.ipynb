{
 "cells": [
  {
   "cell_type": "code",
   "execution_count": 3,
   "metadata": {},
   "outputs": [],
   "source": [
    "import os, sys\n",
    "from os import listdir\n",
    "from os.path import isfile, join\n",
    "import matplotlib.pyplot as plt\n",
    "import numpy as np\n",
    "import torch\n",
    "import h5py\n",
    "from scipy import signal\n",
    "\n",
    "sys.path.append('/home/vanveen/ConvDecoder/')\n",
    "from utils.data_io import load_h5_qdess"
   ]
  },
  {
   "cell_type": "code",
   "execution_count": null,
   "metadata": {},
   "outputs": [],
   "source": []
  },
  {
   "cell_type": "code",
   "execution_count": 7,
   "metadata": {},
   "outputs": [],
   "source": [
    "def get_file_list(path):\n",
    "    return [f for f in listdir(path) if isfile(join(path, f))]\n",
    "\n",
    "def blurring(F):\n",
    "    \"\"\"This blurs the image in three directions\n",
    "\n",
    "    Parameters\n",
    "    ----------\n",
    "    F: array_like\n",
    "        3D image to be blurred\n",
    "\n",
    "    Returns\n",
    "    -------\n",
    "    images: tuple (array_like, array_like, array_like)\n",
    "        This is a tuple of the three blurred images\n",
    "    \"\"\"\n",
    "    \n",
    "    length = 9\n",
    "    hv = np.ones((length,1,1))/float(length)\n",
    "    hh = np.ones((1,length,1))/float(length)\n",
    "    hd = np.ones((1,1,length))/float(length)\n",
    "\n",
    "    B_v = signal.convolve(F,hv,mode=\"same\")\n",
    "    B_h = signal.convolve(F,hh,mode=\"same\")\n",
    "    B_d = signal.convolve(F,hd,mode=\"same\")\n",
    "    \n",
    "    return B_v, B_h, B_d\n",
    "\n",
    "def blur_estimate(F):\n",
    "    \"\"\"Computes the blurring for some 3D image\n",
    "\n",
    "    Parameters\n",
    "    ----------\n",
    "    F: array_like\n",
    "        3D image to be blurred\n",
    "\n",
    "    Returns\n",
    "    -------\n",
    "    blur_factor: float\n",
    "        The maximum blurring\n",
    "    \"\"\"\n",
    "    \n",
    "    B_v, B_h, B_d = blurring(F)\n",
    "    \n",
    "    D_Fv = abs(F - np.roll(F,1,axis=0))\n",
    "    D_Fh = abs(F - np.roll(F,1,axis=1))\n",
    "    D_Fd = abs(F - np.roll(F,1,axis=2))\n",
    "    \n",
    "    D_Bv = abs(B_v - np.roll(B_v,1,axis=0))\n",
    "    D_Bh = abs(B_h - np.roll(B_h,1,axis=1))\n",
    "    D_Bd = abs(B_d - np.roll(B_d,1,axis=2))\n",
    "\n",
    "    Vv = np.maximum(0,D_Fv-D_Bv)\n",
    "    Vh = np.maximum(0,D_Fh-D_Bh)\n",
    "    Vd = np.maximum(0,D_Fd-D_Bd)\n",
    "\n",
    "    s_Fv = np.sum(D_Fv)\n",
    "    s_Fh = np.sum(D_Fh)\n",
    "    s_Fd = np.sum(D_Fd)\n",
    "    \n",
    "    s_Vv = np.sum(Vv)\n",
    "    s_Vh = np.sum(Vh)\n",
    "    s_Vd = np.sum(Vd)\n",
    "\n",
    "    b_Fv = (s_Fv - s_Vv)/s_Fv\n",
    "    b_Fh = (s_Fh - s_Vh)/s_Fh\n",
    "    b_Fd = (s_Fd - s_Vd)/s_Fd\n",
    "\n",
    "    blur_array = np.array([b_Fv, b_Fh, b_Fd])\n",
    "\n",
    "    print(\"blurring in direction y: %.4f, x: %.4f, z: %.4f\" %\n",
    "          (b_Fv, b_Fh, b_Fd))\n",
    "\n",
    "    \n",
    "    blur= np.amax(blur_array)\n",
    "    index = np.argmax(blur_array)\n",
    "    \n",
    "    return blur, index"
   ]
  },
  {
   "cell_type": "markdown",
   "metadata": {},
   "source": [
    "# TODO\n",
    "\n",
    "- i've reconstructed a 2d slice. how to use this?\n",
    "    - over a volume of adjacent slices? how many?\n",
    "    - modify it to work on 2d?\n",
    "- look at paper"
   ]
  },
  {
   "cell_type": "code",
   "execution_count": 23,
   "metadata": {},
   "outputs": [],
   "source": [
    "id_ = '005'\n",
    "e_num = 2\n",
    "accel = 4\n",
    "\n",
    "path = '/bmrNAS/people/dvv/out_qdess/accel_{}x/echo_joint/specific_slices/'.format(accel)\n",
    "files_all = get_file_list(path)\n",
    "\n",
    "files = [f for f in files_all if '_e{}_'.format(e_num) in f and '_{}_'.format(id_) in f]\n",
    "files.sort()\n",
    "\n",
    "# im_dc = np.load('{}MTR_{}_e{}_dc.npy'.format(path_bl, id_, e_num)) "
   ]
  },
  {
   "cell_type": "code",
   "execution_count": 25,
   "metadata": {},
   "outputs": [
    {
     "name": "stdout",
     "output_type": "stream",
     "text": [
      "(20, 512, 160)\n"
     ]
    }
   ],
   "source": [
    "arr_3d = np.empty((len(files), 512, 160))\n",
    "\n",
    "for idx, f in enumerate(files):\n",
    "    arr_3d[idx] = np.load(path + f)\n",
    "    \n",
    "print(arr_3d.shape)"
   ]
  },
  {
   "cell_type": "code",
   "execution_count": 26,
   "metadata": {},
   "outputs": [
    {
     "name": "stdout",
     "output_type": "stream",
     "text": [
      "blurring in direction y: 0.2206, x: 0.1516, z: 0.2140\n"
     ]
    },
    {
     "data": {
      "text/plain": [
       "(0.2206051052694979, 0)"
      ]
     },
     "execution_count": 26,
     "metadata": {},
     "output_type": "execute_result"
    }
   ],
   "source": [
    "blur_estimate(arr_3d)"
   ]
  },
  {
   "cell_type": "code",
   "execution_count": 16,
   "metadata": {},
   "outputs": [
    {
     "name": "stdout",
     "output_type": "stream",
     "text": [
      "blurring in direction y: 0.2099, x: 0.2344, z: 0.2639\n"
     ]
    },
    {
     "data": {
      "text/plain": [
       "(0.2638992309406652, 2)"
      ]
     },
     "execution_count": 16,
     "metadata": {},
     "output_type": "execute_result"
    }
   ],
   "source": [
    "blur_estimate(arr_3d)"
   ]
  }
 ],
 "metadata": {
  "kernelspec": {
   "display_name": "Python 3",
   "language": "python",
   "name": "python3"
  },
  "language_info": {
   "codemirror_mode": {
    "name": "ipython",
    "version": 3
   },
   "file_extension": ".py",
   "mimetype": "text/x-python",
   "name": "python",
   "nbconvert_exporter": "python",
   "pygments_lexer": "ipython3",
   "version": "3.8.5"
  }
 },
 "nbformat": 4,
 "nbformat_minor": 4
}
