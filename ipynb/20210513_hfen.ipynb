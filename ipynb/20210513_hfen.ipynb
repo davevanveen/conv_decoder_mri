{
 "cells": [
  {
   "cell_type": "markdown",
   "metadata": {},
   "source": [
    "### notebook purpose\n",
    "\n",
    "- prototype hfen"
   ]
  },
  {
   "cell_type": "code",
   "execution_count": 1,
   "metadata": {},
   "outputs": [],
   "source": [
    "import os, sys\n",
    "import torch\n",
    "import torch.nn as nn\n",
    "import math, numbers\n",
    "import numpy as np\n",
    "import matplotlib.pyplot as plt\n",
    "\n",
    "sys.path.insert(0, '../')\n",
    "from utils.evaluate import calc_metrics_imgs, plot_row_qdess, scale_0_1\n",
    "from utils.data_io import get_mtr_ids_and, load_imgs, load_imgs_many_inits\n",
    "from utils.hfen import HFENLoss"
   ]
  },
  {
   "cell_type": "code",
   "execution_count": 4,
   "metadata": {},
   "outputs": [],
   "source": [
    "accel = 8\n",
    "path_base = '/bmrNAS/people/dvv/out_qdess/accel_{}x/'.format(accel)\n",
    "\n",
    "path_gt = path_base + 'gt/'\n",
    "path_bl = path_base + 'calib/24/'\n",
    "path_new = path_base + 'calib/max/'"
   ]
  },
  {
   "cell_type": "code",
   "execution_count": 5,
   "metadata": {},
   "outputs": [
    {
     "data": {
      "text/plain": [
       "((12, 2, 512, 160), (12, 2, 512, 160))"
      ]
     },
     "execution_count": 5,
     "metadata": {},
     "output_type": "execute_result"
    }
   ],
   "source": [
    "mtr_id_list = get_mtr_ids_and(path_bl, path_new)\n",
    "\n",
    "imgs_gt = load_imgs(mtr_id_list, path=path_gt)\n",
    "imgs_bl = load_imgs(mtr_id_list, path=path_bl)\n",
    "imgs_new = load_imgs(mtr_id_list, path=path_new)\n",
    "\n",
    "imgs_gt.shape, imgs_new.shape"
   ]
  },
  {
   "cell_type": "code",
   "execution_count": 7,
   "metadata": {},
   "outputs": [],
   "source": [
    "hfen = HFENLoss()"
   ]
  },
  {
   "cell_type": "code",
   "execution_count": 11,
   "metadata": {},
   "outputs": [
    {
     "name": "stdout",
     "output_type": "stream",
     "text": [
      "tensor(1.6981e+12)\n",
      "tensor(1.7303e+12)\n"
     ]
    }
   ],
   "source": [
    "img_gt = torch.from_numpy(imgs_gt[0, 0]).unsqueeze(0).unsqueeze(0).float()#.expand(3,1,512,160)\n",
    "img_bl = torch.from_numpy(imgs_bl[0, 0]).unsqueeze(0).unsqueeze(0).float()#.expand(3,1,512,160)\n",
    "img_new = torch.from_numpy(imgs_new[0, 0]).unsqueeze(0).unsqueeze(0).float()#.expand(3,1,512,160)\n",
    "\n",
    "print(hfen(img_gt, img_bl))\n",
    "print(hfen(img_gt, img_new))"
   ]
  }
 ],
 "metadata": {
  "kernelspec": {
   "display_name": "Python 3",
   "language": "python",
   "name": "python3"
  },
  "language_info": {
   "codemirror_mode": {
    "name": "ipython",
    "version": 3
   },
   "file_extension": ".py",
   "mimetype": "text/x-python",
   "name": "python",
   "nbconvert_exporter": "python",
   "pygments_lexer": "ipython3",
   "version": "3.8.5"
  }
 },
 "nbformat": 4,
 "nbformat_minor": 4
}
