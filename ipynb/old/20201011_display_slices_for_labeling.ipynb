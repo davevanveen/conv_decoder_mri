{
 "cells": [
  {
   "cell_type": "markdown",
   "metadata": {},
   "source": [
    "### Notebook Purpose\n",
    "\n",
    "Display a grid of knee slices so Akshay can identify the ones which are clinically interesting"
   ]
  },
  {
   "cell_type": "code",
   "execution_count": 17,
   "metadata": {},
   "outputs": [],
   "source": [
    "import os, sys\n",
    "import numpy as np\n",
    "from os import listdir\n",
    "from os.path import isfile, join\n",
    "import h5py\n",
    "import matplotlib.pyplot as plt\n",
    "\n",
    "sys.path.append('/home/vanveen/ConvDecoder/')\n",
    "from utils.transform import recon_ksp_to_img"
   ]
  },
  {
   "cell_type": "code",
   "execution_count": null,
   "metadata": {},
   "outputs": [
    {
     "name": "stderr",
     "output_type": "stream",
     "text": [
      "<ipython-input-39-3a27c2d6ddf2>:22: RuntimeWarning: More than 20 figures have been opened. Figures created through the pyplot interface (`matplotlib.pyplot.figure`) are retained until explicitly closed and may consume too much memory. (To control this warning, see the rcParam `figure.max_open_warning`).\n",
      "  fig = plt.figure(figsize=(40, 40))\n"
     ]
    }
   ],
   "source": [
    "path = '/bmrNAS/people/dvv/multicoil_val/'\n",
    "file_list = [f for f in listdir(path) if isfile(join(path, f))]\n",
    "file_list.sort()\n",
    "\n",
    "NUM_FILES = 25\n",
    "NUM_SLICES = 25\n",
    "\n",
    "for file in file_list[:NUM_FILES]:\n",
    "    \n",
    "    file_id = file.split('file')[1].split('.h5')[0]\n",
    "    \n",
    "    f = h5py.File(path + file, 'r')\n",
    "    slice_mid = f['kspace'].shape[0] // 2\n",
    "    idx_lo, idx_hi = slice_mid - (NUM_SLICES // 2), slice_mid + NUM_SLICES // 2\n",
    "    vol_ksp = f['kspace'][idx_lo:idx_hi]\n",
    "    \n",
    "    vol_img = []\n",
    "    for slice_ksp in vol_ksp:    \n",
    "        vol_img.append(recon_ksp_to_img(slice_ksp))\n",
    "    vol_img = np.array(vol_img)  \n",
    "    \n",
    "    fig = plt.figure(figsize=(40, 40))\n",
    "    for idx, img in enumerate(vol_img):\n",
    "        ax = fig.add_subplot(6, 4, idx+1)\n",
    "        ax.imshow(img, cmap='gray')\n",
    "        ax.set_title('{}: {}'.format(file_id, idx), fontsize=36)\n",
    "        ax.axis('off')\n",
    "        plt.tight_layout()\n",
    "        plt.savefig('slice_grid/slice_grid_id_{}.pdf'.format(file_id), format='pdf')"
   ]
  },
  {
   "cell_type": "code",
   "execution_count": null,
   "metadata": {},
   "outputs": [],
   "source": []
  }
 ],
 "metadata": {
  "kernelspec": {
   "display_name": "Python 3",
   "language": "python",
   "name": "python3"
  },
  "language_info": {
   "codemirror_mode": {
    "name": "ipython",
    "version": 3
   },
   "file_extension": ".py",
   "mimetype": "text/x-python",
   "name": "python",
   "nbconvert_exporter": "python",
   "pygments_lexer": "ipython3",
   "version": "3.8.5"
  }
 },
 "nbformat": 4,
 "nbformat_minor": 4
}
