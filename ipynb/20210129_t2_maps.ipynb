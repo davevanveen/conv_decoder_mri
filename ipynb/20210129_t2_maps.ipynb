{
 "cells": [
  {
   "cell_type": "code",
   "execution_count": 315,
   "metadata": {},
   "outputs": [],
   "source": [
    "import os, sys\n",
    "from os import listdir\n",
    "from os.path import isfile, join, isdir\n",
    "import numpy as np\n",
    "import math\n",
    "import math\n",
    "import pydicom\n",
    "import nibabel as nib\n",
    "import torch\n",
    "import h5py\n",
    "import matplotlib.pyplot as plt\n",
    "from mpl_toolkits.axes_grid1 import make_axes_locatable\n",
    "\n",
    "import dosma\n",
    "from dosma.data_io.dicom_io import DicomReader\n",
    "from dosma.data_io.med_volume import MedicalVolume\n",
    "from dosma.data_io.nifti_io import NiftiReader\n",
    "\n",
    "sys.path.append('/home/vanveen/ConvDecoder/')\n",
    "from include.mri_helpers import generate_t2_map"
   ]
  },
  {
   "cell_type": "code",
   "execution_count": 649,
   "metadata": {},
   "outputs": [],
   "source": [
    "def get_file_list(path):\n",
    "    files = [f for f in listdir(path) if isfile(join(path, f))]\n",
    "    files.sort()\n",
    "    return files\n",
    "\n",
    "def create_background_class(vol):\n",
    "    ''' given a binary 4d volume s.t. fourth dimn corresponds to # classes\n",
    "        create an additional slice in the fourth dimn, making the background a class \n",
    "        e.g. (512,512,160,6) --> (512,512,160,7), where [:,:,:,0] has 1 if background '''\n",
    "    \n",
    "    assert vol.ndim == 4 and vol.shape[-1] == 6\n",
    "    \n",
    "    # binary 3d mask if that voxel doesn't have a segmentation label\n",
    "    background = (~np.max(vol, axis=-1)).astype('int')\n",
    "    \n",
    "    # insert 3d background mask as first 3d slice in output vol\n",
    "    return np.insert(vol, obj=0, values=background, axis=-1)\n",
    "\n",
    "def get_t2_val(t2_map, mask, key_val):\n",
    "    ''' given a t2_map, a 3d mask w vals on [0..6], int key_val on [0..6]\n",
    "        return the average t2 value across the tissue corresponding to key_val '''\n",
    "    \n",
    "    assert(t2_map.shape == mask.shape)\n",
    "    \n",
    "    if len(np.unique(mask)) == 2 and mask.max() == 1:\n",
    "        raise ValueError('make sure this isnt a binary mask')\n",
    "    \n",
    "    # tissue-specific binary mask s.t. 1 if voxel=key_val, 0 otw\n",
    "    mask_tissue = np.where(mask==key_val, 1, 0)\n",
    "    \n",
    "    masked_t2 = t2_map * mask_tissue\n",
    "    masked_t2 = masked_t2[masked_t2 != 0] # remove irrelevant zero entries\n",
    "    \n",
    "    return np.mean(masked_t2)\n",
    "\n",
    "def count_vals(arr):\n",
    "    '''given array, return frequency counts of unique values '''\n",
    "    \n",
    "    y = np.bincount(arr.flatten())\n",
    "    ii = np.nonzero(y)[0]\n",
    "    \n",
    "    return np.vstack((ii,y[ii])).T\n",
    "\n",
    "def plot_list(arr_list, title_list, clim=(0,1)):#None):\n",
    "    \n",
    "    SF = 2.56 # stretch factor\n",
    "    NUM_COLS = len(arr_list)\n",
    "    \n",
    "    fig = plt.figure(figsize=(10,10))\n",
    "    \n",
    "    for idx in range(NUM_COLS):\n",
    "        ax = fig.add_subplot(1,NUM_COLS,idx+1)\n",
    "        ax.imshow(arr_list[idx], cmap='gray', clim=clim, aspect=1./SF)\n",
    "        ax.set_title(title_list[idx], fontsize=20)\n",
    "        ax.axis('off')\n",
    "        \n",
    "def plot_list_t2(arr_list, title_list, clim=None):#None):\n",
    "    \n",
    "    SF = 2.56 # stretch factor\n",
    "    NUM_COLS = len(arr_list)\n",
    "    \n",
    "    fig = plt.figure(figsize=(20,20))\n",
    "    \n",
    "    for idx in range(NUM_COLS):\n",
    "        ax = fig.add_subplot(1,NUM_COLS,idx+1)\n",
    "        plt.imshow(arr_list[idx][0], cmap='gray', clim=None, aspect=1./SF)\n",
    "        ii = plt.imshow(arr_list[idx][1], cmap='jet', alpha=0.3, clim=None, aspect=1./SF)\n",
    "        ax.set_title(title_list[idx], fontsize=20)\n",
    "        \n",
    "        divider = make_axes_locatable(ax)\n",
    "        cax = divider.append_axes(\"right\", size=.5, pad=.1)\n",
    "        plt.colorbar(ii, cax=cax)\n",
    "        ax.axis('off')"
   ]
  },
  {
   "cell_type": "markdown",
   "metadata": {},
   "source": [
    "### overview\n",
    "- i've recon'ed 20 axial slices of (512, 160). compare t2_map(recon) vs t2_map(gt) on e1, e2\n",
    "    - for file_id's ['005', '006', '030', '034']\n",
    "\n",
    "### notes\n",
    "- mask is a (512, 512, 160) int array w values [0..6]\n",
    "- each dcm in `/bmrNAS/people/akshay/dl/qdess_recon/segmentations/dicoms/` alternates b/w t1, t2\n",
    "    - that's why te alternates b/w [.006, .034]\n",
    "    - dimn then makes sense, we have 320/2 = 160 slices of 512x512 each\n",
    "    - - between slices of a scan, (tr, te) values are the same\n",
    "    - note te varies if echo1 or echo2\n",
    "    - across different scans, (tr, te) vary slightly. for now, just accept the constant values\n",
    "    - why use te value from echo1 as default val?\n",
    "- dosma code, e.g. in `qdess.py` or `med_volume.py`\n",
    "    - `t2_map_wrapped = T2(t2_map_wrapped)` step is irrelevant\n",
    "    - `tissue.add_quantitative_value(t2_map_wrapped)` step is irrelevant - adds the t2_map attribute to input tissue\n",
    "\n",
    "### TODO\n",
    "- build this to run over many samples (currently generating more data)\n",
    "- plot this to make sure we don't have bugs\n",
    "- ask why we use te value from echo1 as default val? why not te from echo2?"
   ]
  },
  {
   "cell_type": "markdown",
   "metadata": {},
   "source": [
    "### load gt, mask as MedicalVolume\n",
    "\n",
    "- nifti mask is 3d, where each voxel is on [0..6], where 0 is background\n",
    "- h5 mask is 4d binary, i.e. (x,y,z,6), where a 1 corresponds to the six classes [1..6]\n",
    "- i convert this into (x,y,z,7) s.t. the first 3d slice is a 1 if background\n",
    "- hence doing np.argmax(_, -1) gives us a 3d mask on [0..6] with the same counts as nifti\n",
    "    - note orientation of nifti masks is off"
   ]
  },
  {
   "cell_type": "code",
   "execution_count": 667,
   "metadata": {},
   "outputs": [],
   "source": [
    "file_id = '030'\n",
    "\n",
    "# indices to isolate central axial volumes per dd+ recons\n",
    "IDX_SLICE_MIN = 246\n",
    "IDX_SLICE_MAX = 266"
   ]
  },
  {
   "cell_type": "markdown",
   "metadata": {},
   "source": [
    "### load gt, isolate central volumes"
   ]
  },
  {
   "cell_type": "code",
   "execution_count": 668,
   "metadata": {},
   "outputs": [],
   "source": [
    "path_gt = '/bmrNAS/people/akshay/dl/qdess_recon/segmentations/dicoms/MTR_{}/'.format(file_id)\n",
    "\n",
    "volumes = DicomReader().load(path_gt)\n",
    "echo1 = volumes[0]  # This is a MedicalVolume\n",
    "echo2 = volumes[1]\n",
    "\n",
    "e1_gt = echo1.volume[IDX_SLICE_MIN:IDX_SLICE_MAX, :, :]\n",
    "e2_gt = echo2.volume[IDX_SLICE_MIN:IDX_SLICE_MAX, :, :]"
   ]
  },
  {
   "cell_type": "markdown",
   "metadata": {},
   "source": [
    "### load dc + slice-wise normaliz'n s.t. each recon slice has same range as gt"
   ]
  },
  {
   "cell_type": "code",
   "execution_count": 669,
   "metadata": {},
   "outputs": [],
   "source": [
    "path_dd = '/bmrNAS/people/dvv/out_qdess/accel_4x/echo_joint/specific_slices/'\n",
    "\n",
    "slice_idx_list = np.arange(IDX_SLICE_MIN, IDX_SLICE_MAX)\n",
    "    \n",
    "vol_shape = (IDX_SLICE_MAX-IDX_SLICE_MIN, 512, 160)\n",
    "e1_dc, e2_dc = np.empty(vol_shape), np.empty(vol_shape)\n",
    "\n",
    "for idx_s, slice_idx in enumerate(slice_idx_list):\n",
    "\n",
    "    fn_e1 = 'MTR_{}_e1_dc_slice{}.npy'.format(file_id, slice_idx)\n",
    "    fn_e2 = 'MTR_{}_e2_dc_slice{}.npy'.format(file_id, slice_idx)\n",
    "\n",
    "    e1_dc[idx_s] = np.load(path_dd + fn_e1)\n",
    "    e2_dc[idx_s] = np.load(path_dd + fn_e2)\n",
    "    \n",
    "for idx_s in np.arange(len(e1_gt)):\n",
    "    \n",
    "    # get slices\n",
    "    s1_dc, s1_gt = e1_dc[idx_s], e1_gt[idx_s]\n",
    "    s2_dc, s2_gt = e2_dc[idx_s], e2_gt[idx_s]\n",
    "    \n",
    "    # apply normaliz'n\n",
    "    s1_dc_rng = s1_dc.max() - s1_dc.min()\n",
    "    e1_dc[idx_s] = (s1_dc - s1_dc.min()) * (s1_gt.max() / s1_dc_rng)\n",
    "    s2_dc_rng = s2_dc.max() - s2_dc.min()\n",
    "    e2_dc[idx_s] = (s2_dc - s2_dc.min()) * (s2_gt.max() / s2_dc_rng)"
   ]
  },
  {
   "cell_type": "markdown",
   "metadata": {},
   "source": [
    "### load, orient mask"
   ]
  },
  {
   "cell_type": "code",
   "execution_count": 670,
   "metadata": {},
   "outputs": [],
   "source": [
    "path_m_h5 = '/bmrNAS/people/arjun/data/qdess_knee_2020/image_files/MTR_{}.h5'.format(file_id)\n",
    "path_m_nifti = '/bmrNAS/people/akshay/dl/qdess_recon/segmentations/masks/MTR_{}.nii.gz'.format(file_id)\n",
    "\n",
    "# (512,512,160) where each value has a value from 0-6, where 0 is background\n",
    "mask_nifti = NiftiReader().load(path_m_nifti)\n",
    "\n",
    "with h5py.File(path_m_h5, \"r\") as f:\n",
    "    mask_h5 = f[\"seg\"][()]\n",
    "mask_h5 = create_background_class(mask_h5) # (x,y,z,6) --> (x,y,z,7)\n",
    "mask_h5_ = np.argmax(mask_h5, -1) \n",
    "\n",
    "mask = MedicalVolume(mask_h5_, mask_nifti.affine)\n",
    "\n",
    "mask = mask.reformat(echo1.orientation)\n",
    "\n",
    "# note: must rotate/flip before cropping\n",
    "mask_ = mask.volume\n",
    "mask_ = np.rot90(mask_, k=3, axes=(0,1))\n",
    "mask_ = np.fliplr(mask_)\n",
    "\n",
    "# mask w class vals [0..6]\n",
    "mask_ = mask_[IDX_SLICE_MIN:IDX_SLICE_MAX, :, :] \n",
    "\n",
    "# binary mask: 0 if voxel is backgound, otw 1\n",
    "# used for plotting all non-background tissues\n",
    "mask_bi = np.where(mask_!=0, 1, 0) "
   ]
  },
  {
   "cell_type": "markdown",
   "metadata": {},
   "source": [
    "### compute t2 maps"
   ]
  },
  {
   "cell_type": "code",
   "execution_count": 672,
   "metadata": {},
   "outputs": [],
   "source": [
    "t2_map_dc, stats_dc = generate_t2_map(e1_dc, e2_dc)\n",
    "t2_map_gt, stats_gt = generate_t2_map(e1_gt, e2_gt)"
   ]
  },
  {
   "cell_type": "markdown",
   "metadata": {},
   "source": [
    "### compute mean t2 value for each tissue of interest"
   ]
  },
  {
   "cell_type": "code",
   "execution_count": 673,
   "metadata": {},
   "outputs": [
    {
     "name": "stdout",
     "output_type": "stream",
     "text": [
      "1 32.75780346820808 36.052658959537574\n",
      "2 42.63374609130707 42.903157181571814\n"
     ]
    }
   ],
   "source": [
    "mask_vals = np.unique(mask_)\n",
    "key_val_list = mask_vals[mask_vals != 0]\n",
    "\n",
    "for key_val in key_val_list:\n",
    "    \n",
    "    t2_gt = get_t2_val(t2_map_gt, mask_, key_val=key_val)\n",
    "    t2_dc = get_t2_val(t2_map_dc, mask_, key_val=key_val)\n",
    "    print(key_val, t2_gt, t2_dc)"
   ]
  },
  {
   "cell_type": "markdown",
   "metadata": {},
   "source": [
    "### qual comparison of t2 maps"
   ]
  },
  {
   "cell_type": "code",
   "execution_count": null,
   "metadata": {},
   "outputs": [],
   "source": [
    "# use binary mask to filter for only relevant (non-background) voxels\n",
    "t2_map_gt = mask_bi * t2_map_gt\n",
    "t2_map_dc = mask_bi * t2_map_dc\n",
    "\n",
    "t2_map_diff = abs(t2_map_dc - t2_map_gt)"
   ]
  },
  {
   "cell_type": "markdown",
   "metadata": {},
   "source": [
    "### plot either gt v. dc or diff_map"
   ]
  },
  {
   "cell_type": "code",
   "execution_count": 443,
   "metadata": {
    "scrolled": false
   },
   "outputs": [
    {
     "data": {
      "text/plain": [
       "<Figure size 1440x1440 with 0 Axes>"
      ]
     },
     "metadata": {},
     "output_type": "display_data"
    }
   ],
   "source": [
    "idx = 0 # which axial slice in central volume to plot\n",
    "\n",
    "e1_gt_, e1_dc_ = e1_gt[idx], e1_dc[idx] \n",
    "e2_gt_, e2_dc_ = e2_gt[idx], e2_dc[idx]\n",
    "t2_map_gt_, t2_map_dc_, t2_map_diff_ = t2_map_gt[idx], t2_map_dc[idx], t2_map_diff[idx]\n",
    "\n",
    "fig = plt.figure(figsize=(20,20))\n",
    "\n",
    "# plot_list_t2([[e1_gt_, t2_map_gt_], [e1_dc_, t2_map_dc_]], \n",
    "#              title_list=['t2_map_gt overlayed on gt', \\\n",
    "#                          't2_map_recon overlayed on recon',])\n",
    "\n",
    "# plt.imshow(e1_gt_, cmap='gray', aspect=1./2.56)\n",
    "# plt.imshow(t2_map_diff_, cmap='jet', alpha=0.2, aspect=1./2.56)\n",
    "# plt.title('abs(diff(t2_map_recon, t2_map_gt)) overlayed on gt', fontsize=32)\n",
    "# plt.colorbar()\n",
    "# plt.axis('off')"
   ]
  },
  {
   "cell_type": "markdown",
   "metadata": {},
   "source": [
    "# OLD"
   ]
  },
  {
   "cell_type": "markdown",
   "metadata": {},
   "source": [
    "### check to see if masks align w tissue\n",
    "\n",
    "- to get numpy array from MedicalVolume a, use a.volume"
   ]
  },
  {
   "cell_type": "code",
   "execution_count": 212,
   "metadata": {},
   "outputs": [
    {
     "name": "stdout",
     "output_type": "stream",
     "text": [
      "(512, 512, 160)\n",
      "(512, 512, 160)\n",
      "(512, 512, 160)\n"
     ]
    },
    {
     "data": {
      "image/png": "[encoded data removed]",
      "text/plain": [
       "<Figure size 432x288 with 2 Axes>"
      ]
     },
     "metadata": {
      "needs_background": "light"
     },
     "output_type": "display_data"
    },
    {
     "data": {
      "image/png": "[encoded data removed]",
      "text/plain": [
       "<Figure size 432x288 with 2 Axes>"
      ]
     },
     "metadata": {
      "needs_background": "light"
     },
     "output_type": "display_data"
    }
   ],
   "source": [
    "idx_slice_list = [50, 80, 95, 110] # slices to plot\n",
    "idx_slice_list = [250, 280]\n",
    "\n",
    "ee1 = echo1.volume\n",
    "mm = mask.volume\n",
    "print(mm.shape)\n",
    "\n",
    "# added this outside loop\n",
    "mm = np.rot90(mm, k=3, axes=(0,1))\n",
    "mm = np.fliplr(mm)\n",
    "\n",
    "for idx_slice in idx_slice_list:\n",
    "\n",
    "#     e1_s = ee1[:,:,idx_slice]\n",
    "#     m_s = mm[:,:,idx_slice]\n",
    "    e1_s = ee1[idx_slice,:,:]\n",
    "    m_s = mm[idx_slice,:,:]\n",
    "    \n",
    "    plt.imshow(e1_s, cmap='gray')\n",
    "    plt.imshow(m_s, cmap='jet', clim=(0,5), alpha=0.4)\n",
    "    plt.colorbar()\n",
    "    plt.axis('off')\n",
    "    plt.show()"
   ]
  },
  {
   "cell_type": "code",
   "execution_count": 626,
   "metadata": {},
   "outputs": [],
   "source": [
    "# id_ = '005'\n",
    "# path_mtr = '/bmrNAS/people/akshay/dl/qdess_recon/segmentations/dicoms/MTR_{}/'\n",
    "\n",
    "# ds = pydicom.dcmread(path_mtr_dir + 'I167.dcm')\n",
    "# arr = ds.pixel_array\n",
    "\n",
    "# plt.imshow(arr,cmap='gray')"
   ]
  }
 ],
 "metadata": {
  "kernelspec": {
   "display_name": "Python 3",
   "language": "python",
   "name": "python3"
  },
  "language_info": {
   "codemirror_mode": {
    "name": "ipython",
    "version": 3
   },
   "file_extension": ".py",
   "mimetype": "text/x-python",
   "name": "python",
   "nbconvert_exporter": "python",
   "pygments_lexer": "ipython3",
   "version": "3.8.5"
  }
 },
 "nbformat": 4,
 "nbformat_minor": 4
}
