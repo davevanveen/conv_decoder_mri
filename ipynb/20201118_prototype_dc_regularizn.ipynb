{
 "cells": [
  {
   "cell_type": "markdown",
   "metadata": {},
   "source": [
    "### Notebook Purpose\n",
    "\n",
    "prototype dc regularization of intermediate layers"
   ]
  },
  {
   "cell_type": "code",
   "execution_count": 7,
   "metadata": {},
   "outputs": [],
   "source": [
    "import os, sys\n",
    "import h5py\n",
    "import numpy as np\n",
    "import torch\n",
    "from torch import nn\n",
    "import torch.nn.functional as F\n",
    "import matplotlib.pyplot as plt\n",
    "import copy\n",
    "\n",
    "sys.path.append('/home/vanveen/ConvDecoder/')\n",
    "from utils.data_io import load_h5, get_mask, num_params\n",
    "from include.decoder_conv import init_convdecoder\n",
    "from include.fit import fit\n",
    "from include.subsample import MaskFunc\n",
    "from utils.evaluate import calc_metrics\n",
    "from utils.transform import fft_2d, ifft_2d, root_sum_squares, \\\n",
    "                            reshape_complex_vals_to_adj_channels, \\\n",
    "                            reshape_adj_channels_to_complex_vals, \\\n",
    "                            crop_center\n",
    "\n",
    "if torch.cuda.is_available():\n",
    "    torch.backends.cudnn.enabled = True\n",
    "    torch.backends.cudnn.benchmark = True\n",
    "    dtype = torch.cuda.FloatTensor\n",
    "    torch.cuda.set_device(0)\n",
    "else:\n",
    "    dtype = torch.FloatTensor"
   ]
  },
  {
   "cell_type": "markdown",
   "metadata": {},
   "source": [
    "# TODO\n",
    "\n",
    "- done: extracted feature maps\n",
    "    - actually getting collapsed channels from original feature maps, i.e. 160 --> 30\n",
    "- given ksp_masked, downsample according to the size of each intermediate layer\n",
    "    - might want to normalize ksp_masked s.t. it matches the (mean, std) of the intermediate layer\n",
    "- incorporate this with some loss function into fit()"
   ]
  },
  {
   "cell_type": "markdown",
   "metadata": {},
   "source": [
    "### first prototype ways of extracting feature maps (intermediate layer outputs)"
   ]
  },
  {
   "cell_type": "code",
   "execution_count": 148,
   "metadata": {},
   "outputs": [],
   "source": [
    "class Conv_Model(nn.Module):\n",
    "    def __init__(self, num_layers, num_channels, out_depth, hidden_size,\n",
    "                 upsample_mode='nearest', kernel_size=3, bias=False):\n",
    "\n",
    "        super(Conv_Model, self).__init__()\n",
    "        self.num_layers = num_layers\n",
    "        self.hidden_size = hidden_size\n",
    "        self.upsample_mode = upsample_mode\n",
    "\n",
    "        # define layer types\n",
    "        self.conv = nn.Conv2d(num_channels, num_channels, kernel_size, \\\n",
    "                         stride=1, padding=1, bias=bias)\n",
    "        self.bn = nn.BatchNorm2d(num_channels, affine=True)\n",
    "        self.collapse_channels = nn.Conv2d(num_channels, out_depth, 1, 1, padding=0, bias=bias)\n",
    "        \n",
    "        self.upsamp_list = []\n",
    "        for size in hidden_size:\n",
    "            self.upsamp_list.append(nn.Upsample(size=size, mode=upsample_mode))\n",
    "\n",
    "    def forward(self, x):\n",
    "        ''' run input thru net1 (convdecoder) then net2 (converts number of channels)\n",
    "        provide options for skip connections (default False) and scaling factors (default 1) '''\n",
    "        \n",
    "        feat_maps = []\n",
    "        \n",
    "        for upsamp in self.upsamp_list:\n",
    "            x = self.bn(F.relu(self.conv(upsamp(x))))\n",
    "            feat_maps.append(self.collapse_channels(x)[0])\n",
    "        \n",
    "        # last layer: collapse channels, don't upsample\n",
    "        x = self.collapse_channels(self.bn(F.relu(self.conv(x))))\n",
    "\n",
    "        return x, feat_maps"
   ]
  },
  {
   "cell_type": "code",
   "execution_count": 149,
   "metadata": {},
   "outputs": [],
   "source": [
    "from include.decoder_conv import get_scale_factor, get_net_input, get_hidden_size\n",
    "\n",
    "def init_convdecoder(ksp_orig, mask, \\\n",
    "                     in_size=[8,4], num_layers=8, num_channels=160, kernel_size=3):\n",
    "    ''' wrapper function for initializing convdecoder based on input ksp_orig\n",
    "\n",
    "        parameters:\n",
    "                ksp_orig: original, unmasked k-space measurements\n",
    "                mask: mask used to downsample original k-space\n",
    "        return:\n",
    "                net: initialized convdecoder\n",
    "                net_input: random, scaled input seed\n",
    "                ksp_orig: scaled version of input '''\n",
    "\n",
    "    out_size = ksp_orig.shape[1:] # shape of (x,y) image slice, e.g. (640, 368)\n",
    "    out_depth = ksp_orig.shape[0]*2 # 2*n_c, i.e. 2*15=30 if multi-coil\n",
    "    hidden_size = get_hidden_size(in_size, out_size, num_layers) # list of intermed layer sizes\n",
    "\n",
    "    torch.manual_seed(0)\n",
    "    net = Conv_Model(num_layers, num_channels, out_depth, hidden_size).type(dtype)\n",
    "#     print('# parameters of ConvDecoder:',num_params(net))\n",
    "\n",
    "    net_input = get_net_input(num_channels, in_size)\n",
    "\n",
    "    # create scaled ksp to be compatible w network magnitude\n",
    "    scale_factor = get_scale_factor(net, net_input, ksp_orig)\n",
    "    ksp_orig_ = ksp_orig * scale_factor\n",
    "\n",
    "    return net, net_input, ksp_orig_\n"
   ]
  },
  {
   "cell_type": "code",
   "execution_count": 150,
   "metadata": {},
   "outputs": [],
   "source": [
    "def fit(ksp_masked, img_masked, net, net_input, mask2d, num_iter, lr=0.01):\n",
    "\n",
    "    net_input = net_input.type(dtype)\n",
    "    best_net = copy.deepcopy(net)\n",
    "    best_mse = 10000.0\n",
    "    mse_wrt_ksp, mse_wrt_img = np.zeros(num_iter), np.zeros(num_iter)\n",
    "\n",
    "    p = [x for x in net.parameters()]\n",
    "    optimizer = torch.optim.Adam(p, lr=lr,weight_decay=0)\n",
    "    mse = torch.nn.MSELoss()\n",
    "\n",
    "    # convert complex [nc,x,y] --> real [2*nc,x,y] to match w net output\n",
    "    ksp_masked = reshape_complex_vals_to_adj_channels(ksp_masked).cuda()\n",
    "    img_masked = reshape_complex_vals_to_adj_channels(img_masked)[None,:].cuda()\n",
    "    mask2d = mask2d.cuda()\n",
    "\n",
    "    for i in range(num_iter):\n",
    "        def closure(): # execute this for each iteration (gradient step)\n",
    "\n",
    "            optimizer.zero_grad()\n",
    "\n",
    "            out, _ = net(net_input) # out is in img space\n",
    "            out_ksp_masked = forwardm(out, mask2d).cuda() # convert img to ksp, apply mask\n",
    "\n",
    "            #if DC_STEP: # ... see code inlay at bottom of file\n",
    "            loss_ksp = mse(out_ksp_masked, ksp_masked)\n",
    "\n",
    "            loss_ksp.backward(retain_graph=False)\n",
    "\n",
    "            # store loss over each iteration\n",
    "            mse_wrt_ksp[i] = loss_ksp.data.cpu().numpy()\n",
    "            loss_img = mse(out, img_masked) # loss in img space\n",
    "            mse_wrt_img[i] = loss_img.data.cpu().numpy()\n",
    "\n",
    "            return loss_ksp\n",
    "\n",
    "        loss = optimizer.step(closure)\n",
    "\n",
    "        # at each iteration, check if loss improves by 1%. if so, a new best net\n",
    "        loss_val = loss.data\n",
    "        if best_mse > 1.005*loss_val:\n",
    "            best_mse = loss_val\n",
    "            best_net = copy.deepcopy(net)\n",
    "\n",
    "    return best_net, mse_wrt_ksp, mse_wrt_img\n",
    "\n",
    "\n",
    "def forwardm(img, mask):\n",
    "    ''' convert img --> ksp (must be complex for fft), apply mask\n",
    "        input, output should have dim [2*nc,x,y] '''\n",
    "\n",
    "    img = reshape_adj_channels_to_complex_vals(img[0])\n",
    "    ksp = fft_2d(img).cuda()\n",
    "    ksp_masked_ = ksp * mask\n",
    "\n",
    "    return reshape_complex_vals_to_adj_channels(ksp_masked_)"
   ]
  },
  {
   "cell_type": "code",
   "execution_count": null,
   "metadata": {
    "scrolled": false
   },
   "outputs": [
    {
     "name": "stdout",
     "output_type": "stream",
     "text": [
      "[(15, 8), (28, 15), (53, 28), (98, 53), (183, 102), (343, 193), torch.Size([640, 368])]\n"
     ]
    }
   ],
   "source": [
    "DIM = 320\n",
    "SCALE_FAC = 0.1\n",
    "\n",
    "file_id_list = ['1000273']#, '1000325', '1000464', '1000007', '1000537', '1000818', \\\n",
    "#                  '1001140', '1001219', '1001338', '1001598', '1001533', '1001798']\n",
    "file_id_list.sort()\n",
    "\n",
    "\n",
    "for file_id in file_id_list:\n",
    "\n",
    "    f, ksp_orig = load_h5(file_id)\n",
    "    ksp_orig = torch.from_numpy(ksp_orig)\n",
    "\n",
    "    mask = get_mask(ksp_orig)\n",
    "\n",
    "    net, net_input, ksp_orig_ = init_convdecoder(ksp_orig, mask)\n",
    "\n",
    "    ksp_masked = SCALE_FAC * ksp_orig_ * mask\n",
    "    img_masked = ifft_2d(ksp_masked)\n",
    "\n",
    "    net, mse_wrt_ksp, mse_wrt_img = fit(\n",
    "        ksp_masked=ksp_masked, img_masked=img_masked,\n",
    "        net=net, net_input=net_input, mask2d=mask, num_iter=10000)\n",
    "\n",
    "\n",
    "    # use above two lines when we don't want to access feature maps\n",
    "#     img_out = net(net_input.type(dtype))\n",
    "#     img_out = img_out[0] if type(img_out) is tuple else img_out\n",
    "    img_out, feat_maps = net(net_input.type(dtype))\n",
    "\n",
    "    img_out = reshape_adj_channels_to_complex_vals(img_out[0])\n",
    "    ksp_est = fft_2d(img_out)\n",
    "    ksp_dc = torch.where(mask, ksp_masked, ksp_est)\n",
    "\n",
    "    img_est = crop_center(root_sum_squares(ifft_2d(ksp_est)).detach(), DIM, DIM)\n",
    "    img_dc = crop_center(root_sum_squares(ifft_2d(ksp_dc)).detach(), DIM, DIM)\n",
    "    img_gt = crop_center(root_sum_squares(ifft_2d(ksp_orig)), DIM, DIM)\n",
    "#     print('note: use unscaled ksp_orig to make gt -- different from old fastmri processing')\n",
    "\n",
    "#     np.save('{}{}_est.npy'.format(path_out, file_id), img_est)\n",
    "#     np.save('{}{}_dc.npy'.format(path_out, file_id), img_dc)\n",
    "#     np.save('{}{}_gt.npy'.format(path_out, file_id), img_gt)"
   ]
  },
  {
   "cell_type": "code",
   "execution_count": null,
   "metadata": {},
   "outputs": [],
   "source": []
  },
  {
   "cell_type": "code",
   "execution_count": null,
   "metadata": {},
   "outputs": [],
   "source": [
    "for fm in feat_maps:\n",
    "    print(fm.shape)"
   ]
  },
  {
   "cell_type": "code",
   "execution_count": 117,
   "metadata": {},
   "outputs": [
    {
     "data": {
      "text/plain": [
       "<matplotlib.image.AxesImage at 0x7ff7553900d0>"
      ]
     },
     "execution_count": 117,
     "metadata": {},
     "output_type": "execute_result"
    },
    {
     "data": {
      "image/png": "[encoded data removed]",
      "text/plain": [
       "<Figure size 432x288 with 1 Axes>"
      ]
     },
     "metadata": {
      "needs_background": "light"
     },
     "output_type": "display_data"
    }
   ],
   "source": [
    "plt.imshow(img_dc, cmap='gray')"
   ]
  },
  {
   "cell_type": "code",
   "execution_count": null,
   "metadata": {},
   "outputs": [],
   "source": []
  }
 ],
 "metadata": {
  "kernelspec": {
   "display_name": "Python 3",
   "language": "python",
   "name": "python3"
  },
  "language_info": {
   "codemirror_mode": {
    "name": "ipython",
    "version": 3
   },
   "file_extension": ".py",
   "mimetype": "text/x-python",
   "name": "python",
   "nbconvert_exporter": "python",
   "pygments_lexer": "ipython3",
   "version": "3.8.5"
  }
 },
 "nbformat": 4,
 "nbformat_minor": 4
}
