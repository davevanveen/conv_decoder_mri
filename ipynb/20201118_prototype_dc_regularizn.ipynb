{
 "cells": [
  {
   "cell_type": "markdown",
   "metadata": {},
   "source": [
    "### Notebook Purpose\n",
    "\n",
    "prototype dc regularization of intermediate layers"
   ]
  },
  {
   "cell_type": "code",
   "execution_count": 1,
   "metadata": {},
   "outputs": [],
   "source": [
    "import os, sys\n",
    "import h5py\n",
    "import numpy as np\n",
    "import torch\n",
    "import torchvision\n",
    "from torch import nn\n",
    "import torch.nn.functional as F\n",
    "import matplotlib.pyplot as plt\n",
    "import copy\n",
    "import PIL\n",
    "\n",
    "sys.path.append('/home/vanveen/ConvDecoder/')\n",
    "from utils.data_io import load_h5, get_mask, num_params\n",
    "from include.decoder_conv import init_convdecoder\n",
    "from include.decoder_conv import get_scale_factor, get_net_input, get_hidden_size\n",
    "from include.fit import fit\n",
    "from include.subsample import MaskFunc\n",
    "from utils.evaluate import calc_metrics\n",
    "from utils.transform import fft_2d, ifft_2d, root_sum_squares, \\\n",
    "                            reshape_complex_vals_to_adj_channels, \\\n",
    "                            reshape_adj_channels_to_complex_vals, \\\n",
    "                            crop_center\n",
    "\n",
    "if torch.cuda.is_available():\n",
    "    torch.backends.cudnn.enabled = True\n",
    "    torch.backends.cudnn.benchmark = True\n",
    "    dtype = torch.cuda.FloatTensor\n",
    "    torch.cuda.set_device(0)\n",
    "else:\n",
    "    dtype = torch.FloatTensor"
   ]
  },
  {
   "cell_type": "markdown",
   "metadata": {},
   "source": [
    "# STATUS\n",
    "\n",
    "### done:\n",
    "- done: extracted feature maps\n",
    "    - actually getting collapsed channels from original feature maps, i.e. 160 --> 30 via 1x1 conv\n",
    "    - we'll be computing mse w dimn [2*nc, x_, y_]\n",
    "- applied a mask to the feat_map\n",
    "    - ksp_m_down, shape [x_,y_], has many zero values. feat_map doesn't have zero values\n",
    "    - we compute mse(feat_map, ksp_m_down) for each layer\n",
    "    - do we want to penalize zero values in ksp_m_down? i don't think so\n",
    "        - we just don't have a prior at those indices. the true value is surely not zero\n",
    "        - if we did penalize perfectly, we'd recreate ksp_masked. want to allow the network expressive freedom to re-create ksp_orig\n",
    "- normalized ksp_m_down according to feat_map so we maintain distribution of feat_map\n",
    "- performed weighted mse so we apply the same weight to each pixel\n",
    "    - last layer has 2000x as many pixels as first layer\n",
    "\n",
    "### possible implementation todo's\n",
    "- try only applying feat_map_loss in last x iterations\n",
    "- try weighting earlier/later layers more heavily\n",
    "- currently we downsample ksp_masked according to the size of each hidden layer's feat_map\n",
    "    - instead, we could upsample each feat_map and compute its loss with the original-size ksp_masked\n",
    "        - this would encourage network to learn upsampling according to upsample_mode='nearest' \n",
    "- could use different downsampling methods to create ksp_m_down\n",
    "    - currently using most expressive method, i.e. bicubic\n",
    "    - other options\n",
    "        - nearest, i.e. inverse method used by dd+ for upsampling\n",
    "        - bilinear"
   ]
  },
  {
   "cell_type": "code",
   "execution_count": 2,
   "metadata": {},
   "outputs": [],
   "source": [
    "class Conv_Model(nn.Module):\n",
    "    def __init__(self, num_layers, num_channels, out_depth, hidden_size,\n",
    "                 upsample_mode='nearest', kernel_size=3, bias=False):\n",
    "\n",
    "        super(Conv_Model, self).__init__()\n",
    "        self.num_layers = num_layers\n",
    "        self.hidden_size = hidden_size\n",
    "        self.upsample_mode = upsample_mode\n",
    "\n",
    "        # define layer types\n",
    "        self.conv = nn.Conv2d(num_channels, num_channels, kernel_size, \\\n",
    "                         stride=1, padding=1, bias=bias)\n",
    "        self.bn = nn.BatchNorm2d(num_channels, affine=True)\n",
    "        self.collapse_channels = nn.Conv2d(num_channels, out_depth, 1, 1, padding=0, bias=bias)\n",
    "        \n",
    "        self.upsamp_list = []\n",
    "        for size in hidden_size:\n",
    "            self.upsamp_list.append(nn.Upsample(size=size, mode=upsample_mode))\n",
    "\n",
    "    def forward(self, x):\n",
    "        ''' run input thru net1 (convdecoder) then net2 (converts number of channels)\n",
    "        provide options for skip connections (default False) and scaling factors (default 1) '''\n",
    "        \n",
    "        feat_maps = []\n",
    "        \n",
    "        for upsamp in self.upsamp_list:\n",
    "            x = self.bn(F.relu(self.conv(upsamp(x))))\n",
    "            feat_maps.append(self.collapse_channels(x)[0])\n",
    "        \n",
    "        # last layer: collapse channels, don't upsample\n",
    "        x = self.collapse_channels(self.bn(F.relu(self.conv(x))))\n",
    "\n",
    "        return x, feat_maps"
   ]
  },
  {
   "cell_type": "code",
   "execution_count": 3,
   "metadata": {},
   "outputs": [],
   "source": [
    "def init_convdecoder(ksp_orig, mask, \\\n",
    "                     in_size=[8,4], num_layers=8, num_channels=160, kernel_size=3):\n",
    "    ''' wrapper function for initializing convdecoder based on input ksp_orig\n",
    "\n",
    "        parameters:\n",
    "                ksp_orig: original, unmasked k-space measurements\n",
    "                mask: mask used to downsample original k-space\n",
    "        return:\n",
    "                net: initialized convdecoder\n",
    "                net_input: random, scaled input seed\n",
    "                ksp_orig: scaled version of input '''\n",
    "\n",
    "    out_size = ksp_orig.shape[1:] # shape of (x,y) image slice, e.g. (640, 368)\n",
    "    out_depth = ksp_orig.shape[0]*2 # 2*n_c, i.e. 2*15=30 if multi-coil\n",
    "    hidden_size = get_hidden_size(in_size, out_size, num_layers) # list of intermed layer sizes\n",
    "\n",
    "    torch.manual_seed(0)\n",
    "    net = Conv_Model(num_layers, num_channels, out_depth, hidden_size).type(dtype)\n",
    "#     print('# parameters of ConvDecoder:',num_params(net))\n",
    "\n",
    "    net_input = get_net_input(num_channels, in_size)\n",
    "\n",
    "    # create scaled ksp to be compatible w network magnitude\n",
    "    scale_factor = get_scale_factor(net, net_input, ksp_orig)\n",
    "    ksp_orig_ = ksp_orig * scale_factor\n",
    "\n",
    "    return net, net_input, ksp_orig_, hidden_size"
   ]
  },
  {
   "cell_type": "code",
   "execution_count": 34,
   "metadata": {},
   "outputs": [],
   "source": [
    "mse = torch.nn.MSELoss()\n",
    "\n",
    "def fit(ksp_masked, img_masked, net, net_input, mask2d, num_iter, lr=0.01, alpha_fm=0):\n",
    "\n",
    "    net_input = net_input.type(dtype)\n",
    "    best_net = copy.deepcopy(net)\n",
    "    best_mse = 10000.0\n",
    "    mse_wrt_ksp, mse_wrt_img = np.zeros(num_iter), np.zeros(num_iter)\n",
    "\n",
    "    p = [x for x in net.parameters()]\n",
    "    optimizer = torch.optim.Adam(p, lr=lr,weight_decay=0)\n",
    "    mse = torch.nn.MSELoss()\n",
    "\n",
    "    # convert complex [nc,x,y] --> real [2*nc,x,y] to match w net output\n",
    "    ksp_masked = reshape_complex_vals_to_adj_channels(ksp_masked).cuda()\n",
    "    img_masked = reshape_complex_vals_to_adj_channels(img_masked)[None,:].cuda()\n",
    "    mask2d = mask2d.cuda()\n",
    "    \n",
    "    # if performing feat map regulariz'n\n",
    "    ksp_m_down_list, feat_map_mask_list, w_pix_list = \\\n",
    "                        get_meta_for_feat_map_loss(hidden_size, ksp_masked)\n",
    "\n",
    "    for i in range(num_iter):\n",
    "        def closure(): # execute this for each iteration (gradient step)\n",
    "\n",
    "            optimizer.zero_grad()\n",
    "\n",
    "            out, feat_map_list = net(net_input) # out is in img space\n",
    "            out_ksp_masked = forwardm(out, mask2d).cuda() # convert img to ksp, apply mask\n",
    "\n",
    "            #if DC_STEP: # ... see code inlay at bottom of file\n",
    "            loss_ksp = mse(out_ksp_masked, ksp_masked)\n",
    "            \n",
    "            if i >= 800:\n",
    "                loss_feat_maps = get_loss_feat_maps(feat_map_list, ksp_m_down_list, \n",
    "                                                    feat_map_mask_list, w_pix_list)\n",
    "                loss_total = loss_ksp + alpha_fm*loss_feat_maps\n",
    "            else:\n",
    "                loss_total = loss_ksp\n",
    "\n",
    "            loss_total.backward(retain_graph=False)\n",
    "\n",
    "            # store loss over each iteration\n",
    "            mse_wrt_ksp[i] = loss_ksp.data.cpu().numpy()\n",
    "            loss_img = mse(out, img_masked) # loss in img space\n",
    "            mse_wrt_img[i] = loss_img.data.cpu().numpy()\n",
    "\n",
    "            return loss_ksp\n",
    "\n",
    "        loss = optimizer.step(closure)\n",
    "\n",
    "        # at each iteration, check if loss improves by 1%. if so, a new best net\n",
    "        loss_val = loss.data\n",
    "        if best_mse > 1.005*loss_val:\n",
    "            best_mse = loss_val\n",
    "            best_net = copy.deepcopy(net)\n",
    "\n",
    "    return best_net, mse_wrt_ksp, mse_wrt_img\n",
    "\n",
    "\n",
    "def forwardm(img, mask):\n",
    "    ''' convert img --> ksp (must be complex for fft), apply mask\n",
    "        input, output should have dim [2*nc,x,y] '''\n",
    "\n",
    "    img = reshape_adj_channels_to_complex_vals(img[0])\n",
    "    ksp = fft_2d(img).cuda()\n",
    "    ksp_masked_ = ksp * mask\n",
    "\n",
    "    return reshape_complex_vals_to_adj_channels(ksp_masked_)\n",
    "\n",
    "from utils.evaluate import normalize_img\n",
    "\n",
    "def get_loss_feat_maps(feat_map_list, ksp_m_down_list, \\\n",
    "                       feat_map_mask_list, w_pix_list):\n",
    "    ''' given feat_maps: hidden layer outputs of size [30,x_,y_], i.e. hidden_size\n",
    "            ksp_m_down_list: downsampled ksp_masked according to each [x_,y_]\n",
    "        compute weighted mse(feat_map_list, ksp_m_down_list) '''\n",
    "    \n",
    "    \n",
    "    \n",
    "    loss_feat = 0\n",
    "    for idx, feat_map in enumerate(feat_map_list):\n",
    "        \n",
    "        # mask feat_map s.t. we don't penalized the masked indices in ksp_masked\n",
    "        feat_map_m = feat_map * feat_map_mask_list[idx]\n",
    "        \n",
    "        # normalize ksp_m_down so we compute mse across similar distributions\n",
    "        ksp_m_down_norm = normalize_img(feat_map_m, ksp_m_down_list[idx]).cuda()\n",
    "        # overwrite masked indices which were non-zero'ed by normaliz'n\n",
    "        ksp_m_down_norm = ksp_m_down_norm * feat_map_mask_list[idx]\n",
    "        \n",
    "#         if idx == 0:\n",
    "#             print(feat_map_m[0])\n",
    "#             print(ksp_m_down_norm[0])\n",
    "        \n",
    "        # compute mse, weighted to account for different num_pix in different layers\n",
    "        loss_feat += w_pix_list[idx] * mse(feat_map_m, ksp_m_down_norm)\n",
    "        \n",
    "    return loss_feat\n",
    "\n",
    "def get_meta_for_feat_map_loss(hidden_size, ksp_masked, \\\n",
    "                               downsamp_mode='bicubic',\n",
    "                               weighting='all'):\n",
    "    ''' given: \n",
    "            ksp_masked: masked version of k-space\n",
    "            hidden_size: list of [x_,y_], each the size of that hidden layer\n",
    "            downsamp_mode: e.g. 'nearest', 'bilinear', or 'bicubic'\n",
    "            weighting: whether to apply fm_loss on 'early', 'late', or 'all' layers\n",
    "        return: \n",
    "            ksp_m_down_list: downsampled ksp_masked according to each [x_,y_]\n",
    "            feat_map_mask_list: binary mask for applying to feat_map s.t. we are not\n",
    "                                penalizing against the zero columns in ksp_m_down\n",
    "            w_pix: weights s.t. pixels from different layers are weighted equally '''\n",
    "    \n",
    "    if downsamp_mode == 'bicubic':\n",
    "        interp = PIL.Image.BICUBIC\n",
    "    elif downsamp_mode == 'bilinear':\n",
    "        interp = PIL.Image.BILINEAR\n",
    "    elif downsamp_mode == 'nearest':\n",
    "        interp = PIL.Image.NEAREST\n",
    "    \n",
    "    ksp_m_down_list, feat_map_mask_list = [], []\n",
    "    \n",
    "    for layer_size in hidden_size:\n",
    "        \n",
    "        # downsample ksp_masked according to each layer size\n",
    "        downsamp = torchvision.transforms.Resize(layer_size, interpolation=interp)\n",
    "        ksp_m_down = downsamp(ksp_masked)\n",
    "        ksp_m_down_list.append(ksp_m_down)\n",
    "        \n",
    "        # create 1d mask w 1 if that row contains all zeros, 0 otw\n",
    "        chan = ksp_m_down[0] # get single channel [x,y] from [2*nc,x,y]\n",
    "        fm_mask = torch.where(torch.sum(chan, dim=0)==0, 0, 1).type(torch.uint8)\n",
    "        feat_map_mask_list.append(fm_mask)\n",
    "    \n",
    "    pix_per_layer = np.array([x[0]*x[1] for x in hidden_size])\n",
    "    w_pix_list = np.array([pix_per_layer.sum() / x for x in pix_per_layer])\n",
    "    \n",
    "    # if we want to weight early or later layers\n",
    "    assert(len(w_pix_list) == 7)\n",
    "    if weighting == 'early':\n",
    "        w_pix_list[-3:] = 0\n",
    "    elif weighting == 'late':\n",
    "        w_pix_list[:4] = 0\n",
    "    \n",
    "    return ksp_m_down_list, feat_map_mask_list, w_pix_list"
   ]
  },
  {
   "cell_type": "markdown",
   "metadata": {},
   "source": [
    "### how to run this over a bunch of settings\n",
    "\n",
    "- make a dataframe where indiv row is one config setting, indiv column is one sample\n",
    "- rows, i.e. config attributes, according to one run_id\n",
    "    - num_iter\n",
    "        - total\n",
    "        - at which we turn on fm_loss, i.e. 0.5 * total and 0.8 * total\n",
    "    - alpha_fm = 10 ** exp\n",
    "    - weighting: early, late, or all\n",
    "    - downsampling method: nearest, bilinear, bicubic\n",
    "- each entry will be one sample's scores as a tuple w (ssim, psnr)\n",
    "\n",
    "### TODO\n",
    "- figure out how to run over all combinations: either method used in fdvd or iterating over zipped list\n",
    "- must set up s.t. all args pass down to necessary lower level functions\n",
    "- must write single line of csv for each run_id & file_id combination\n",
    "    - run_id, file_id, ssim, psnr, alpha_fm, num_iter, iter_start_fm_loss, weight_method, downsamp_method"
   ]
  },
  {
   "cell_type": "markdown",
   "metadata": {},
   "source": [
    "### all combinations and method for generating random run_id"
   ]
  },
  {
   "cell_type": "code",
   "execution_count": 45,
   "metadata": {},
   "outputs": [
    {
     "data": {
      "text/plain": [
       "[0, 500, 800]"
      ]
     },
     "execution_count": 45,
     "metadata": {},
     "output_type": "execute_result"
    }
   ],
   "source": [
    "exp_list = [-2, -3, -4, -5, -10]\n",
    "alpha_fm_list = [10**e for e in exp_list]\n",
    "\n",
    "weighting_options = ['all', 'early', 'late']\n",
    "downsamp_options = ['bicubic', 'bilinear', 'nearest']\n",
    "\n",
    "ITER_START_FM_LOSS = [0, int(0.5*NUM_ITER), int(0.8*NUM_ITER)]\n",
    "ITER_START_FM_LOSS\n",
    "\n",
    "import random, string\n",
    "''.join(random.choices(string.ascii_lowercase + string.digits, k=6))"
   ]
  },
  {
   "cell_type": "code",
   "execution_count": 39,
   "metadata": {
    "scrolled": false
   },
   "outputs": [],
   "source": [
    "DIM = 320\n",
    "SCALE_FAC = 0.1\n",
    "NUM_ITER = 1000\n",
    "\n",
    "file_id_list = ['1000273']#, '1000325', '1000464', '1000007', '1000537', '1000818', \\\n",
    "#                  '1001140', '1001219', '1001338', '1001598', '1001533', '1001798']\n",
    "file_id_list.sort()\n",
    "\n",
    "exp_list = [-1]#-2, -3, -4, -5, -10] # i.e. loss = loss_ksp + 10**exp * loss_feat_map\n",
    "\n",
    "imgs_run_list = []\n",
    "\n",
    "for file_id in file_id_list:\n",
    "\n",
    "    f, ksp_orig = load_h5(file_id)\n",
    "    ksp_orig = torch.from_numpy(ksp_orig)\n",
    "\n",
    "    mask = get_mask(ksp_orig)\n",
    "    \n",
    "    for exp in exp_list:\n",
    "\n",
    "        net, net_input, ksp_orig_, hidden_size = init_convdecoder(ksp_orig, mask)\n",
    "\n",
    "        ksp_masked = SCALE_FAC * ksp_orig_ * mask\n",
    "        img_masked = ifft_2d(ksp_masked)\n",
    "\n",
    "        net, mse_wrt_ksp, mse_wrt_img = fit(\n",
    "            ksp_masked=ksp_masked, img_masked=img_masked,\n",
    "            net=net, net_input=net_input, mask2d=mask, num_iter=NUM_ITER,\\\n",
    "            alpha_fm=10**exp)\n",
    "\n",
    "\n",
    "        # use above two lines when we don't want to access feature maps\n",
    "        img_out = net(net_input.type(dtype))\n",
    "        img_out = img_out[0] if type(img_out) is tuple else img_out\n",
    "    #     img_out, feat_maps = net(net_input.type(dtype))\n",
    "\n",
    "        img_out = reshape_adj_channels_to_complex_vals(img_out[0])\n",
    "        ksp_est = fft_2d(img_out)\n",
    "        ksp_dc = torch.where(mask, ksp_masked, ksp_est)\n",
    "\n",
    "        img_masked = crop_center(root_sum_squares(ifft_2d(ksp_masked)).detach(), DIM, DIM)\n",
    "        img_est = crop_center(root_sum_squares(ifft_2d(ksp_est)).detach(), DIM, DIM)\n",
    "        img_dc = crop_center(root_sum_squares(ifft_2d(ksp_dc)).detach(), DIM, DIM)\n",
    "        img_gt = crop_center(root_sum_squares(ifft_2d(ksp_orig)), DIM, DIM)\n",
    "        imgs_run_list.append([img_masked, img_est, img_dc, img_gt])\n",
    "\n",
    "    #     np.save('{}{}_est.npy'.format(path_out, file_id), img_est)\n",
    "    #     np.save('{}{}_dc.npy'.format(path_out, file_id), img_dc)\n",
    "    #     np.save('{}{}_gt.npy'.format(path_out, file_id), img_gt)"
   ]
  },
  {
   "cell_type": "code",
   "execution_count": 40,
   "metadata": {},
   "outputs": [
    {
     "name": "stdout",
     "output_type": "stream",
     "text": [
      "-1\n",
      "0.72 28.952\n"
     ]
    }
   ],
   "source": [
    "for idx_e, exp in enumerate(exp_list):\n",
    "    \n",
    "    print(exp)\n",
    "    \n",
    "    imgs_run = imgs_run_list[idx_e]\n",
    "    img_masked, img_est, img_dc, img_gt = imgs_run[0], imgs_run[1], imgs_run[2], imgs_run[3]\n",
    "    \n",
    "    _, _, ssim_, psnr_ = calc_metrics(np.array(img_dc), np.array(img_gt))\n",
    "    \n",
    "    print(np.round(ssim_, 3), np.round(psnr_, 3))"
   ]
  },
  {
   "cell_type": "code",
   "execution_count": 20,
   "metadata": {},
   "outputs": [
    {
     "name": "stdout",
     "output_type": "stream",
     "text": [
      "-2\n",
      "0.726 29.158\n",
      "-3\n",
      "0.552 21.671\n",
      "-4\n",
      "0.716 28.648\n",
      "-5\n",
      "0.718 28.853\n",
      "-10\n",
      "0.723 29.096\n"
     ]
    }
   ],
   "source": [
    "for idx_e, exp in enumerate(exp_list):\n",
    "    \n",
    "    print(exp)\n",
    "    \n",
    "    imgs_run = imgs_run_list[idx_e]\n",
    "    img_masked, img_est, img_dc, img_gt = imgs_run[0], imgs_run[1], imgs_run[2], imgs_run[3]\n",
    "    \n",
    "    _, _, ssim_, psnr_ = calc_metrics(np.array(img_dc), np.array(img_gt))\n",
    "    \n",
    "    print(np.round(ssim_, 3), np.round(psnr_, 3))"
   ]
  },
  {
   "cell_type": "code",
   "execution_count": 17,
   "metadata": {},
   "outputs": [
    {
     "name": "stdout",
     "output_type": "stream",
     "text": [
      "-10\n",
      "0.719 28.907\n",
      "-2\n",
      "0.682 28.116\n",
      "-3\n",
      "0.639 27.314\n",
      "-4\n",
      "0.71 28.632\n",
      "-5\n",
      "0.717 28.933\n"
     ]
    }
   ],
   "source": [
    "for idx_e, exp in enumerate(exp_list):\n",
    "    \n",
    "    print(exp)\n",
    "    \n",
    "    imgs_run = imgs_run_list[idx_e]\n",
    "    img_masked, img_est, img_dc, img_gt = imgs_run[0], imgs_run[1], imgs_run[2], imgs_run[3]\n",
    "    \n",
    "    _, _, ssim_, psnr_ = calc_metrics(np.array(img_dc), np.array(img_gt))\n",
    "    \n",
    "    print(np.round(ssim_, 3), np.round(psnr_, 3))"
   ]
  },
  {
   "cell_type": "markdown",
   "metadata": {},
   "source": [
    " "
   ]
  },
  {
   "cell_type": "code",
   "execution_count": null,
   "metadata": {},
   "outputs": [],
   "source": []
  },
  {
   "cell_type": "code",
   "execution_count": null,
   "metadata": {},
   "outputs": [],
   "source": []
  },
  {
   "cell_type": "code",
   "execution_count": 195,
   "metadata": {},
   "outputs": [
    {
     "data": {
      "text/plain": [
       "<matplotlib.image.AxesImage at 0x7f9306db9580>"
      ]
     },
     "execution_count": 195,
     "metadata": {},
     "output_type": "execute_result"
    },
    {
     "data": {
      "image/png": "[encoded data removed]",
      "text/plain": [
       "<Figure size 432x288 with 1 Axes>"
      ]
     },
     "metadata": {
      "needs_background": "light"
     },
     "output_type": "display_data"
    }
   ],
   "source": [
    "plt.imshow(img_gt, cmap='gray')"
   ]
  }
 ],
 "metadata": {
  "kernelspec": {
   "display_name": "Python 3",
   "language": "python",
   "name": "python3"
  },
  "language_info": {
   "codemirror_mode": {
    "name": "ipython",
    "version": 3
   },
   "file_extension": ".py",
   "mimetype": "text/x-python",
   "name": "python",
   "nbconvert_exporter": "python",
   "pygments_lexer": "ipython3",
   "version": "3.8.5"
  }
 },
 "nbformat": 4,
 "nbformat_minor": 4
}
