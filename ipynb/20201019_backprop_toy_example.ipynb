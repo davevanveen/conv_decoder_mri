{
 "cells": [
  {
   "cell_type": "markdown",
   "metadata": {},
   "source": [
    "### Notebook Purpose\n",
    "\n",
    "Gain insight into why gradient flow is inhibited when we fix the some values of output"
   ]
  },
  {
   "cell_type": "code",
   "execution_count": 12,
   "metadata": {},
   "outputs": [],
   "source": [
    "import numpy as np\n",
    "import matplotlib.pyplot as plt\n",
    "%matplotlib inline"
   ]
  },
  {
   "cell_type": "code",
   "execution_count": 23,
   "metadata": {},
   "outputs": [],
   "source": [
    "def sigmoid(x):\n",
    "    return np.divide(1, (1 + np.exp(-x)))\n",
    "\n",
    "def forward_prop(xx, ww, bb):\n",
    "    zh1 = ww[0]*xx[0] + ww[2]*xx[1] + bb[0]\n",
    "    zh2 = ww[1]*xx[0] + ww[3]*xx[1] + bb[1]\n",
    "    h1 = sigmoid(zh1)\n",
    "    h2 = sigmoid(zh2)\n",
    "    zo1 = ww[4]*h1 + ww[6]*h2 + bb[1]\n",
    "    zo2 = ww[5]*h1 + ww[7]*h2 + bb[1]\n",
    "    o1 = sigmoid(zo1)\n",
    "    o2 = sigmoid(zo2)\n",
    "    return h1, h2, o1, o2\n",
    "\n",
    "def error(oo, tt):\n",
    "    return 0.5 * (np.power(oo[0] - tt[0], 2) + np.power(oo[1] - tt[1], 2))"
   ]
  },
  {
   "cell_type": "code",
   "execution_count": 76,
   "metadata": {},
   "outputs": [],
   "source": [
    "num_iter = 5000\n",
    "alpha = 0.01\n",
    "\n",
    "ww = np.random.uniform(size=8)\n",
    "bb = [0.5, 0.5]\n",
    "xx = [1, 4]\n",
    "\n",
    "# tt = [0.1, 0.05]\n",
    "tt = [0.1, 0.05]\n",
    "\n",
    "error_list = []\n",
    "\n",
    "for i in range(num_iter):\n",
    "    \n",
    "    h1, h2, o1, o2 = forward_prop(xx, ww, bb)\n",
    "#     o1 = 0.1\n",
    "    h1 = 0.1\n",
    "    \n",
    "    error_list.append(error([o1, o2], tt))\n",
    "    \n",
    "    # preliminaries, second layer - including sigmoid\n",
    "    dE_do1 = (o1 - t1) * (o1 * (1-o1))\n",
    "    dE_do2 = (o2 - t2) * (o2 * (1-o2))\n",
    "    \n",
    "    # derivs, second layer\n",
    "    dE_dw5 = dE_do1 * h1\n",
    "    dE_dw6 = dE_do2 * h1\n",
    "    dE_dw7 = dE_do1 * h2\n",
    "    dE_dw8 = dE_do2 * h2\n",
    "    dE_db2 = dE_do1 * 1 + dE_do2 * 1\n",
    "    \n",
    "    # preliminaries, first layer\n",
    "    dE_dh1 = (dE_do1 * ww[4] + dE_do2 * ww[5]) * (h1 * (1 - h1))\n",
    "    dE_dh2 = (dE_do1 * ww[6] + dE_do2 * ww[7]) * (h2 * (1 - h2))\n",
    "    \n",
    "    # derivs, first layer\n",
    "    dE_dw1 = dE_dh1 * xx[0]\n",
    "    dE_dw2 = dE_dh2 * xx[0]\n",
    "    dE_dw3 = dE_dh1 * xx[1]\n",
    "    dE_dw4 = dE_dh2 * xx[1]\n",
    "    dE_db1 = dE_dh1 * 1 + dE_dh2 * 1\n",
    "    \n",
    "    dE_dww = [dE_dw1, dE_dw2, dE_dw3, dE_dw4, dE_dw5, dE_dw6, dE_dw7, dE_dw8]\n",
    "    dE_dbb = [dE_db1, dE_db2]\n",
    "    \n",
    "    for idx, w_ in enumerate(ww):\n",
    "        ww[idx] = w_ - alpha*dE_dww[idx]\n",
    "    for idx, b_ in enumerate(bb):\n",
    "        bb[idx] = b_ - alpha*dE_dbb[idx]"
   ]
  },
  {
   "cell_type": "code",
   "execution_count": 77,
   "metadata": {},
   "outputs": [
    {
     "data": {
      "image/png": "[encoded data removed]",
      "text/plain": [
       "<Figure size 432x288 with 1 Axes>"
      ]
     },
     "metadata": {
      "needs_background": "light"
     },
     "output_type": "display_data"
    }
   ],
   "source": [
    "plt.plot(error_list)\n",
    "plt.ylim(0, 0.01)\n",
    "plt.show()"
   ]
  },
  {
   "cell_type": "code",
   "execution_count": 73,
   "metadata": {},
   "outputs": [
    {
     "data": {
      "image/png": "[encoded data removed]",
      "text/plain": [
       "<Figure size 432x288 with 1 Axes>"
      ]
     },
     "metadata": {
      "needs_background": "light"
     },
     "output_type": "display_data"
    }
   ],
   "source": [
    "plt.plot(error_list)\n",
    "plt.ylim(0, 0.01)\n",
    "plt.show()"
   ]
  },
  {
   "cell_type": "code",
   "execution_count": null,
   "metadata": {},
   "outputs": [],
   "source": []
  }
 ],
 "metadata": {
  "kernelspec": {
   "display_name": "Python 3",
   "language": "python",
   "name": "python3"
  },
  "language_info": {
   "codemirror_mode": {
    "name": "ipython",
    "version": 3
   },
   "file_extension": ".py",
   "mimetype": "text/x-python",
   "name": "python",
   "nbconvert_exporter": "python",
   "pygments_lexer": "ipython3",
   "version": "3.8.5"
  }
 },
 "nbformat": 4,
 "nbformat_minor": 4
}
