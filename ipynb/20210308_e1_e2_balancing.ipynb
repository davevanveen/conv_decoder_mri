{
 "cells": [
  {
   "cell_type": "code",
   "execution_count": 8,
   "metadata": {},
   "outputs": [],
   "source": [
    "import os, sys\n",
    "from os import listdir\n",
    "from os.path import isfile, join, isdir\n",
    "import numpy as np\n",
    "import matplotlib.pyplot as plt\n",
    "import torch\n",
    "\n",
    "sys.path.append('/home/vanveen/ConvDecoder/')\n",
    "from utils.data_io import load_h5_qdess\n",
    "from utils.transform import reshape_adj_channels_to_complex_vals, \\\n",
    "                            reshape_complex_vals_to_adj_channels"
   ]
  },
  {
   "cell_type": "code",
   "execution_count": 21,
   "metadata": {},
   "outputs": [],
   "source": [
    "from include.decoder_conv import init_convdecoder\n",
    "from include.fit import fit, forwardm\n",
    "from utils.transform import ifft_2d, fft_2d\n",
    "from include.mri_helpers import apply_mask\n",
    "import copy\n",
    "\n",
    "torch.cuda.set_device(3)"
   ]
  },
  {
   "cell_type": "markdown",
   "metadata": {},
   "source": [
    "# TODO\n",
    "- build empirical loss adjustment per akshay rec\n",
    "    - make sure we are penalizing e1, e2 similarly\n",
    "    - what is the loss for e1, e2 separately? print these in ipynb\n",
    "        - if similar, then network is expressing each equally\n",
    "        - if not, want to re-balance these w empirical adjustment\n",
    "    - figure out what this means in terms of t2 maps..."
   ]
  },
  {
   "cell_type": "code",
   "execution_count": 10,
   "metadata": {},
   "outputs": [],
   "source": [
    "file_id = '005'\n",
    "ksp = load_h5_qdess(file_id)\n",
    "\n",
    "# load, concat both echo slices\n",
    "idx_kx = ksp.shape[0] // 2 # want central slice in kx (axial) b/c we undersample in (ky,kz)\n",
    "ksp_echo1 = ksp[:,:,:,0,:].permute(3,0,1,2)[:, idx_kx, :, :]\n",
    "ksp_echo2 = ksp[:,:,:,1,:].permute(3,0,1,2)[:, idx_kx, :, :]\n",
    "ksp_orig = torch.cat((ksp_echo1, ksp_echo2), 0)"
   ]
  },
  {
   "cell_type": "code",
   "execution_count": 11,
   "metadata": {},
   "outputs": [
    {
     "name": "stdout",
     "output_type": "stream",
     "text": [
      "torch.Size([16, 512, 160])\n"
     ]
    }
   ],
   "source": [
    "print(ksp_orig.shape)"
   ]
  },
  {
   "cell_type": "code",
   "execution_count": 14,
   "metadata": {},
   "outputs": [],
   "source": [
    "net, net_input, ksp_orig_ = init_convdecoder(ksp_orig)\n",
    "\n",
    "ksp_masked, mask = apply_mask(ksp_orig_, accel=4)\n",
    "im_masked = ifft_2d(ksp_masked)"
   ]
  },
  {
   "cell_type": "code",
   "execution_count": 38,
   "metadata": {},
   "outputs": [],
   "source": [
    "net, l_e1, l_e2 = fit(ksp_masked=ksp_masked, img_masked=im_masked,\n",
    "                       net=net, net_input=net_input, mask=mask, \n",
    "                       num_iter=1000)"
   ]
  },
  {
   "cell_type": "markdown",
   "metadata": {},
   "source": [
    "### findings\n",
    "\n",
    "- loss for e1 is higher initially\n",
    "- loss for e2 doesn't really decrease until e1 is same"
   ]
  },
  {
   "cell_type": "code",
   "execution_count": 44,
   "metadata": {},
   "outputs": [
    {
     "name": "stdout",
     "output_type": "stream",
     "text": [
      "0.03476027399301529 0.024845484644174576\n",
      "0.06083500385284424 0.030306167900562286\n",
      "0.04306095838546753 0.027166375890374184\n",
      "0.0417679138481617 0.026195574551820755\n",
      "0.034071121364831924 0.024922484531998634\n",
      "0.03151407465338707 0.024212108924984932\n",
      "0.030419494956731796 0.023715540766716003\n",
      "0.029395338147878647 0.023308541625738144\n",
      "0.030759822577238083 0.023028738796710968\n",
      "0.026678243651986122 0.022351644933223724\n",
      "0.02651272341609001 0.022076310589909554\n",
      "0.024549011141061783 0.02159462869167328\n",
      "0.024873077869415283 0.021346863359212875\n",
      "0.026411673054099083 0.021431464701890945\n",
      "0.022355729714035988 0.02060544304549694\n",
      "0.023955088108778 0.020804155617952347\n",
      "0.0226440392434597 0.02043996751308441\n",
      "0.023784033954143524 0.020198339596390724\n",
      "0.02053171955049038 0.019669849425554276\n",
      "0.02014797553420067 0.0193400289863348\n"
     ]
    }
   ],
   "source": [
    "for idx in np.arange(len(l_e1)):\n",
    "    if idx % 50 == 0:\n",
    "        print(l_e1[idx], l_e2[idx])"
   ]
  },
  {
   "cell_type": "code",
   "execution_count": 42,
   "metadata": {},
   "outputs": [
    {
     "data": {
      "image/png": "[encoded data removed]",
      "text/plain": [
       "<Figure size 432x288 with 1 Axes>"
      ]
     },
     "metadata": {
      "needs_background": "light"
     },
     "output_type": "display_data"
    }
   ],
   "source": [
    "plt.plot(l_e1, label='e1')\n",
    "plt.plot(l_e2, label='e2')\n",
    "plt.xlim([0, 200])\n",
    "plt.legend()\n",
    "plt.show()"
   ]
  },
  {
   "cell_type": "code",
   "execution_count": 37,
   "metadata": {},
   "outputs": [],
   "source": [
    "def fit(ksp_masked, img_masked, net, net_input, mask, mask2=None,\n",
    "        num_iter=10000, lr=0.01, img_ls=None, dtype=torch.cuda.FloatTensor,\n",
    "        LAMBDA_TV=1e-8):\n",
    "\n",
    "    # initialize variables\n",
    "    if img_ls is not None or net_input is None:\n",
    "        raise NotImplementedError('incorporate original code here')\n",
    "    net_input = net_input.type(dtype)\n",
    "    best_net = copy.deepcopy(net)\n",
    "    best_mse = 10000.0\n",
    "    #mse_wrt_ksp, mse_wrt_img = np.zeros(num_iter), np.zeros(num_iter)\n",
    "\n",
    "    p = [x for x in net.parameters()]\n",
    "    optimizer = torch.optim.Adam(p, lr=lr,weight_decay=0)\n",
    "    mse = torch.nn.MSELoss()\n",
    "\n",
    "    # convert complex [nc,x,y] --> real [2*nc,x,y] to match w net output\n",
    "    ksp_masked = reshape_complex_vals_to_adj_channels(ksp_masked).cuda()\n",
    "    img_masked = reshape_complex_vals_to_adj_channels(img_masked)[None,:].cuda()\n",
    "    mask = mask.cuda()\n",
    "    if mask2 != None:\n",
    "        mask2 = mask2.cuda()\n",
    "        \n",
    "    l_e1, l_e2 = np.empty(num_iter), np.empty(num_iter)\n",
    "\n",
    "    for i in range(num_iter):\n",
    "        def closure(): # execute this for each iteration (gradient step)\n",
    "\n",
    "            optimizer.zero_grad()\n",
    "\n",
    "            out = net(net_input) # out is in img space\n",
    "\n",
    "            out_img_masked = forwardm(out, mask, mask2) # img-->ksp, mask, convert to img\n",
    "\n",
    "            if mask2==None:# and i % 100 == 0:\n",
    "                loss_e1 = mse(out_img_masked[0, :8], img_masked[0, :8]) + \\\n",
    "                          mse(out_img_masked[0, 16:24], img_masked[0, 16:24])\n",
    "                loss_e2 = mse(out_img_masked[0, 8:16], img_masked[0, 8:16]) + \\\n",
    "                          mse(out_img_masked[0, 24:32], img_masked[0, 24:32])\n",
    "                loss_e1, loss_e2 = loss_e1.data.cpu().numpy(), \\\n",
    "                                   loss_e2.data.cpu().numpy()\n",
    "                l_e1[i], l_e2[i] = loss_e1, loss_e2\n",
    "#                 print(loss_e1, loss_e2)\n",
    "\n",
    "            loss_img = mse(out_img_masked, img_masked)\n",
    "\n",
    "            loss_tv = (torch.sum(torch.abs(out_img_masked[:,:,:,:-1] - \\\n",
    "                                           out_img_masked[:,:,:,1:])) \\\n",
    "                     + torch.sum(torch.abs(out_img_masked[:,:,:-1,:] - \\\n",
    "                                           out_img_masked[:,:,1:,:])))\n",
    "            loss_total = loss_img + LAMBDA_TV * loss_tv\n",
    "\n",
    "            loss_total.backward(retain_graph=False)\n",
    "\n",
    "            # mse_wrt_ksp[i] = loss_ksp.data.cpu().numpy() # store loss over each iteration\n",
    "\n",
    "            return loss_total\n",
    "\n",
    "        loss = optimizer.step(closure)\n",
    "\n",
    "        # at each iteration, check if loss improves by 1%. if so, a new best net\n",
    "        loss_val = loss.data\n",
    "        if best_mse > 1.005*loss_val:\n",
    "            best_mse = loss_val\n",
    "            best_net = copy.deepcopy(net)\n",
    "\n",
    "    return best_net, l_e1, l_e2#, mse_wrt_ksp, mse_wrt_img"
   ]
  },
  {
   "cell_type": "code",
   "execution_count": null,
   "metadata": {},
   "outputs": [],
   "source": []
  }
 ],
 "metadata": {
  "kernelspec": {
   "display_name": "Python 3",
   "language": "python",
   "name": "python3"
  },
  "language_info": {
   "codemirror_mode": {
    "name": "ipython",
    "version": 3
   },
   "file_extension": ".py",
   "mimetype": "text/x-python",
   "name": "python",
   "nbconvert_exporter": "python",
   "pygments_lexer": "ipython3",
   "version": "3.8.5"
  }
 },
 "nbformat": 4,
 "nbformat_minor": 4
}
