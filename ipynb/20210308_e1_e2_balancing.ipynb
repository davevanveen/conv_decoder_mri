{
 "cells": [
  {
   "cell_type": "code",
   "execution_count": 1,
   "metadata": {},
   "outputs": [],
   "source": [
    "import os, sys\n",
    "from os import listdir\n",
    "from os.path import isfile, join, isdir\n",
    "import numpy as np\n",
    "import matplotlib.pyplot as plt\n",
    "import torch\n",
    "\n",
    "sys.path.append('/home/vanveen/ConvDecoder/')\n",
    "from utils.data_io import load_h5_qdess\n",
    "from utils.transform import reshape_adj_channels_to_complex_vals, \\\n",
    "                            reshape_complex_vals_to_adj_channels"
   ]
  },
  {
   "cell_type": "code",
   "execution_count": 2,
   "metadata": {},
   "outputs": [],
   "source": [
    "from include.decoder_conv import init_convdecoder\n",
    "from include.fit import fit\n",
    "from utils.transform import ifft_2d, fft_2d\n",
    "from include.mri_helpers import apply_mask\n",
    "\n",
    "torch.cuda.set_device(2)"
   ]
  },
  {
   "cell_type": "markdown",
   "metadata": {},
   "source": [
    "# TODO\n",
    "- build empirical loss adjustment per akshay rec\n",
    "    - make sure we are penalizing e1, e2 similarly\n",
    "    - what is the loss for e1, e2 separately? print these in ipynb\n",
    "        - if similar, then network is expressing each equally\n",
    "        - if not, want to re-balance these w empirical adjustment\n",
    "    - figure out what this means in terms of t2 maps..."
   ]
  },
  {
   "cell_type": "code",
   "execution_count": 6,
   "metadata": {},
   "outputs": [],
   "source": [
    "file_id = '005'\n",
    "ksp = load_h5_qdess(file_id)\n",
    "\n",
    "# load, concat both echo slices\n",
    "idx_kx = ksp.shape[0] // 2 # want central slice in kx (axial) b/c we undersample in (ky,kz)\n",
    "ksp_echo1 = ksp[:,:,:,0,:].permute(3,0,1,2)[:, idx_kx, :, :]\n",
    "ksp_echo2 = ksp[:,:,:,1,:].permute(3,0,1,2)[:, idx_kx, :, :]\n",
    "ksp_orig = torch.cat((ksp_echo1, ksp_echo2), 0)"
   ]
  },
  {
   "cell_type": "code",
   "execution_count": 7,
   "metadata": {},
   "outputs": [
    {
     "name": "stdout",
     "output_type": "stream",
     "text": [
      "torch.Size([16, 512, 160])\n"
     ]
    }
   ],
   "source": [
    "print(ksp_orig.shape)"
   ]
  },
  {
   "cell_type": "code",
   "execution_count": null,
   "metadata": {},
   "outputs": [],
   "source": []
  },
  {
   "cell_type": "code",
   "execution_count": null,
   "metadata": {},
   "outputs": [],
   "source": [
    "net, net_input, ksp_orig_ = init_convdecoder(ksp_orig)\n",
    "\n",
    "ksp_masked, mask = apply_mask(ksp_orig_, accel=4)\n",
    "im_masked = ifft_2d(ksp_masked)"
   ]
  },
  {
   "cell_type": "code",
   "execution_count": null,
   "metadata": {},
   "outputs": [],
   "source": [
    "net = fit(ksp_masked=ksp_masked, img_masked=im_masked,\n",
    "                          net=net, net_input=net_input, mask=mask)"
   ]
  }
 ],
 "metadata": {
  "kernelspec": {
   "display_name": "Python 3",
   "language": "python",
   "name": "python3"
  },
  "language_info": {
   "codemirror_mode": {
    "name": "ipython",
    "version": 3
   },
   "file_extension": ".py",
   "mimetype": "text/x-python",
   "name": "python",
   "nbconvert_exporter": "python",
   "pygments_lexer": "ipython3",
   "version": "3.8.5"
  }
 },
 "nbformat": 4,
 "nbformat_minor": 4
}
