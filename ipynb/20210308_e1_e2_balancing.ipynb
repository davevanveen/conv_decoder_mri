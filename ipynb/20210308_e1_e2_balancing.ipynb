{
 "cells": [
  {
   "cell_type": "code",
   "execution_count": 8,
   "metadata": {},
   "outputs": [],
   "source": [
    "import os, sys\n",
    "from os import listdir\n",
    "from os.path import isfile, join, isdir\n",
    "import numpy as np\n",
    "import matplotlib.pyplot as plt\n",
    "import torch\n",
    "\n",
    "sys.path.append('/home/vanveen/ConvDecoder/')\n",
    "from utils.data_io import load_h5_qdess\n",
    "from utils.transform import reshape_adj_channels_to_complex_vals, \\\n",
    "                            reshape_complex_vals_to_adj_channels"
   ]
  },
  {
   "cell_type": "code",
   "execution_count": 21,
   "metadata": {},
   "outputs": [],
   "source": [
    "from include.decoder_conv import init_convdecoder\n",
    "from include.fit import fit, forwardm\n",
    "from utils.transform import ifft_2d, fft_2d\n",
    "from include.mri_helpers import apply_mask\n",
    "import copy\n",
    "\n",
    "torch.cuda.set_device(3)"
   ]
  },
  {
   "cell_type": "markdown",
   "metadata": {},
   "source": [
    "# TODO\n",
    "- build empirical loss adjustment per akshay rec\n",
    "    - make sure we are penalizing e1, e2 similarly\n",
    "    - what is the loss for e1, e2 separately? print these in ipynb\n",
    "        - if similar, then network is expressing each equally\n",
    "        - if not, want to re-balance these w empirical adjustment\n",
    "    - figure out what this means in terms of t2 maps..."
   ]
  },
  {
   "cell_type": "code",
   "execution_count": 10,
   "metadata": {},
   "outputs": [],
   "source": [
    "file_id = '005'\n",
    "ksp = load_h5_qdess(file_id)\n",
    "\n",
    "# load, concat both echo slices\n",
    "idx_kx = ksp.shape[0] // 2 # want central slice in kx (axial) b/c we undersample in (ky,kz)\n",
    "ksp_echo1 = ksp[:,:,:,0,:].permute(3,0,1,2)[:, idx_kx, :, :]\n",
    "ksp_echo2 = ksp[:,:,:,1,:].permute(3,0,1,2)[:, idx_kx, :, :]\n",
    "ksp_orig = torch.cat((ksp_echo1, ksp_echo2), 0)"
   ]
  },
  {
   "cell_type": "code",
   "execution_count": 14,
   "metadata": {},
   "outputs": [],
   "source": [
    "net, net_input, ksp_orig_ = init_convdecoder(ksp_orig)\n",
    "\n",
    "ksp_masked, mask = apply_mask(ksp_orig_, accel=4)\n",
    "im_masked = ifft_2d(ksp_masked)"
   ]
  },
  {
   "cell_type": "code",
   "execution_count": 84,
   "metadata": {},
   "outputs": [],
   "source": [
    "net, l_e1, l_e2 = fit(ksp_masked=ksp_masked, img_masked=im_masked,\n",
    "                       net=net, net_input=net_input, mask=mask, \n",
    "                       num_iter=1000)"
   ]
  },
  {
   "cell_type": "markdown",
   "metadata": {},
   "source": [
    "### findings\n",
    "\n",
    "- loss for e1 is higher initially\n",
    "- loss for e2 doesn't really decrease until e1 is same\n",
    "\n",
    "\n",
    "- loss balancing blows\n",
    "- maybe just adjust energy of e2 before, then switch it back after?\n",
    "    - does this mess w network init?"
   ]
  },
  {
   "cell_type": "code",
   "execution_count": 85,
   "metadata": {},
   "outputs": [
    {
     "name": "stdout",
     "output_type": "stream",
     "text": [
      "0.024138836190104485 0.01896723546087742\n",
      "0.017910316586494446 0.014204863458871841\n",
      "0.015521769411861897 0.011459867469966412\n",
      "0.014345623552799225 0.009930400177836418\n",
      "0.011941581964492798 0.008648107759654522\n",
      "0.010912482626736164 0.007877340540289879\n",
      "0.010115452110767365 0.007395523134618998\n",
      "0.009792712517082691 0.007267666980624199\n",
      "0.00874942447990179 0.006531320512294769\n",
      "0.008032833226025105 0.006140128709375858\n"
     ]
    }
   ],
   "source": [
    "for idx in np.arange(len(l_e1)):\n",
    "    if idx % 100 == 0:\n",
    "        print(l_e1[idx], l_e2[idx])\n",
    "#         sys.exit()"
   ]
  },
  {
   "cell_type": "code",
   "execution_count": 86,
   "metadata": {},
   "outputs": [
    {
     "data": {
      "image/png": "[encoded data removed]",
      "text/plain": [
       "<Figure size 432x288 with 1 Axes>"
      ]
     },
     "metadata": {
      "needs_background": "light"
     },
     "output_type": "display_data"
    }
   ],
   "source": [
    "plt.plot(l_e1, label='e1')\n",
    "plt.plot(l_e2, label='e2')\n",
    "plt.xlim([0, 200])\n",
    "plt.legend()\n",
    "plt.show()"
   ]
  },
  {
   "cell_type": "code",
   "execution_count": 82,
   "metadata": {},
   "outputs": [],
   "source": [
    "def fit(ksp_masked, img_masked, net, net_input, mask, mask2=None,\n",
    "        num_iter=10000, lr=0.01, img_ls=None, dtype=torch.cuda.FloatTensor,\n",
    "        LAMBDA_TV=1e-8):\n",
    "\n",
    "    # initialize variables\n",
    "    if img_ls is not None or net_input is None:\n",
    "        raise NotImplementedError('incorporate original code here')\n",
    "    net_input = net_input.type(dtype)\n",
    "    best_net = copy.deepcopy(net)\n",
    "    best_mse = 10000.0\n",
    "    #mse_wrt_ksp, mse_wrt_img = np.zeros(num_iter), np.zeros(num_iter)\n",
    "\n",
    "    p = [x for x in net.parameters()]\n",
    "    optimizer = torch.optim.Adam(p, lr=lr,weight_decay=0)\n",
    "    mse = torch.nn.MSELoss()\n",
    "\n",
    "    # convert complex [nc,x,y] --> real [2*nc,x,y] to match w net output\n",
    "    ksp_masked = reshape_complex_vals_to_adj_channels(ksp_masked).cuda()\n",
    "    img_masked = reshape_complex_vals_to_adj_channels(img_masked)[None,:].cuda()\n",
    "    mask = mask.cuda()\n",
    "    if mask2 != None:\n",
    "        mask2 = mask2.cuda()\n",
    "        \n",
    "    l_e1, l_e2 = np.empty(num_iter), np.empty(num_iter)\n",
    "    \n",
    "#     img_masked, k = scale_e2(img_masked)\n",
    "#     img_masked = img_masked.cuda()\n",
    "\n",
    "    for i in range(num_iter):\n",
    "        def closure(): # execute this for each iteration (gradient step)\n",
    "\n",
    "            optimizer.zero_grad()\n",
    "\n",
    "            out = net(net_input) # out is in img space\n",
    "\n",
    "            out_img_masked = forwardm(out, mask, mask2) # img-->ksp, mask, convert to img\n",
    "\n",
    "            if mask2==None:# and i % 100 == 0:\n",
    "                loss_e1 = mse(out_img_masked[0, :8], img_masked[0, :8]) + \\\n",
    "                          mse(out_img_masked[0, 16:24], img_masked[0, 16:24])\n",
    "                loss_e2 = mse(out_img_masked[0, 8:16], img_masked[0, 8:16]) + \\\n",
    "                          mse(out_img_masked[0, 24:32], img_masked[0, 24:32])\n",
    "                loss_e1, loss_e2 = loss_e1.data.cpu().numpy(), \\\n",
    "                                   loss_e2.data.cpu().numpy()\n",
    "                l_e1[i], l_e2[i] = loss_e1, loss_e2\n",
    "\n",
    "            loss_img = mse(out_img_masked, img_masked)\n",
    "#             loss_img = balance_loss_across_e(img_masked,\n",
    "#                                              out_img_masked,\n",
    "#                                              mse=mse)\n",
    "\n",
    "            loss_tv = (torch.sum(torch.abs(out_img_masked[:,:,:,:-1] - \\\n",
    "                                           out_img_masked[:,:,:,1:])) \\\n",
    "                     + torch.sum(torch.abs(out_img_masked[:,:,:-1,:] - \\\n",
    "                                           out_img_masked[:,:,1:,:])))\n",
    "            loss_total = loss_img + LAMBDA_TV * loss_tv\n",
    "\n",
    "            loss_total.backward(retain_graph=False)\n",
    "\n",
    "            # mse_wrt_ksp[i] = loss_ksp.data.cpu().numpy() # store loss over each iteration\n",
    "\n",
    "            return loss_total\n",
    "\n",
    "        loss = optimizer.step(closure)\n",
    "\n",
    "        # at each iteration, check if loss improves by 1%. if so, a new best net\n",
    "        loss_val = loss.data\n",
    "        if best_mse > 1.005*loss_val:\n",
    "            best_mse = loss_val\n",
    "            best_net = copy.deepcopy(net)\n",
    "\n",
    "    return best_net, l_e1, l_e2#, mse_wrt_ksp, mse_wrt_img"
   ]
  },
  {
   "cell_type": "markdown",
   "metadata": {},
   "source": [
    "# old"
   ]
  },
  {
   "cell_type": "code",
   "execution_count": 77,
   "metadata": {},
   "outputs": [],
   "source": [
    "def balance_loss_across_e(img_masked, out_img_masked,\n",
    "                          mse=torch.nn.MSELoss()):\n",
    "    ''' given net output out_img_masked and target img_masked \n",
    "        calculate loss contributions of e1, e2 \n",
    "        do empirical correction, i.e. s.t. \n",
    "            loss_total = loss_e1 + k * loss_e2, \n",
    "            where k = '''\n",
    "    \n",
    "    loss_e1 = mse(out_img_masked[0, :8], img_masked[0, :8]) + \\\n",
    "              mse(out_img_masked[0, 16:24], img_masked[0, 16:24])\n",
    "    loss_e2 = mse(out_img_masked[0, 8:16], img_masked[0, 8:16]) + \\\n",
    "              mse(out_img_masked[0, 24:32], img_masked[0, 24:32])\n",
    "    \n",
    "    k = loss_e2 / loss_e1\n",
    "    \n",
    "    return loss_e1 + k * loss_e2\n",
    "\n",
    "def compute_loss_tv(out_img_masked):\n",
    "    ''' compute tv loss on the output img \n",
    "        do we want to do this for real + imag parts separately? '''\n",
    "    return\n",
    "\n",
    "def scale_e2(img_masked):\n",
    "    ''' given adj format [re(e1) | re(e2) | im(e1) | im(e2)]\n",
    "        scale e2, return constant '''\n",
    "    \n",
    "    out = torch.empty(img_masked.shape)\n",
    "    \n",
    "    e1 = torch.cat((img_masked[0,:8], img_masked[0,16:24]), dim=1)\n",
    "    e2 = torch.cat((img_masked[0,8:16], img_masked[0,24:32]), dim=1)\n",
    "    k = torch.mean(e1) / torch.mean(e2)\n",
    "    \n",
    "    out[0,:8] = img_masked[0,:8]\n",
    "    out[0,8:16] = k * img_masked[0,8:16]\n",
    "    out[0,16:24] = img_masked[0,16:24]\n",
    "    out[0,24:32] = k * img_masked[0,24:32]\n",
    "    \n",
    "    return out, k"
   ]
  }
 ],
 "metadata": {
  "kernelspec": {
   "display_name": "Python 3",
   "language": "python",
   "name": "python3"
  },
  "language_info": {
   "codemirror_mode": {
    "name": "ipython",
    "version": 3
   },
   "file_extension": ".py",
   "mimetype": "text/x-python",
   "name": "python",
   "nbconvert_exporter": "python",
   "pygments_lexer": "ipython3",
   "version": "3.8.5"
  }
 },
 "nbformat": 4,
 "nbformat_minor": 4
}
