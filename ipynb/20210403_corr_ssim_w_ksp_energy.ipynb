{
 "cells": [
  {
   "cell_type": "markdown",
   "metadata": {},
   "source": [
    "### notebook purpose\n",
    "\n",
    "- compute energy coefficient of k-space\n",
    "    - fraction of signal energy concentrated on low, fully-sampled center frequencies over the energy of the whole of k-space\n",
    "- see if there's a correlation w metric output"
   ]
  },
  {
   "cell_type": "code",
   "execution_count": 193,
   "metadata": {},
   "outputs": [],
   "source": [
    "import os, sys\n",
    "from os import listdir\n",
    "from os.path import isfile, join, isdir\n",
    "import numpy as np\n",
    "import matplotlib.pyplot as plt\n",
    "import torch\n",
    "\n",
    "sys.path.append('/home/vanveen/ConvDecoder/')\n",
    "from utils.evaluate import calc_metrics_imgs, plot_row_qdess, scale_0_1\n",
    "from utils.data_io import get_mtr_ids_and, load_imgs, load_h5_qdess\n",
    "from utils.transform import reshape_adj_channels_to_complex_vals, \\\n",
    "                            reshape_complex_vals_to_adj_channels\n",
    "from include.mri_helpers import apply_mask"
   ]
  },
  {
   "cell_type": "code",
   "execution_count": 194,
   "metadata": {},
   "outputs": [],
   "source": [
    "def get_mtr_id_list(path_gt, path_bl):\n",
    "    ''' given two paths, return common samples \n",
    "        manually remove samples w shape != (16,512,160) '''\n",
    "    \n",
    "    mtr_id_list = get_mtr_ids_and(path_gt, path_bl)\n",
    "    mtr_ids_to_remove = ['066', '173'] # due to shape mismatch\n",
    "    for mtr_id_ in mtr_ids_to_remove:\n",
    "        if mtr_id_ in mtr_id_list: mtr_id_list.remove(mtr_id_)\n",
    "    \n",
    "    return mtr_id_list\n",
    "\n",
    "def compute_metrics(mtr_id_list, path_gt, path_bl):\n",
    "    ''' given a path w gt images and path w images to evaluate \n",
    "        return metric scores of all common samples in that path '''\n",
    "    \n",
    "    imgs_gt = load_imgs(mtr_id_list, path=path_gt)\n",
    "    imgs_bl = load_imgs(mtr_id_list, path=path_bl)\n",
    "\n",
    "    metrics_bl = calc_metrics_imgs(imgs_gt, imgs_bl)\n",
    "    \n",
    "    return metrics_bl\n",
    "\n",
    "def load_ksp(file_id_list, path_ksp, file_type):\n",
    "    ''' given list of mtr_ids\n",
    "              path_ksp: directory of ksp files, size (16,512,160)\n",
    "              file_type: gt or dc \n",
    "        return ksp_set, all ksp samples in one array'''\n",
    "    \n",
    "    NUM_SAMPS = len(file_id_list)\n",
    "    ksp_set = torch.empty((NUM_SAMPS, 16, 512, 160))\n",
    "    \n",
    "    for idx, file_id in enumerate(file_id_list):\n",
    "        \n",
    "        ksp_fn = '{}MTR_{}_ksp_{}.npy'.format(path_ksp, file_id, file_type)\n",
    "        ksp = torch.from_numpy(np.load(ksp_fn))\n",
    "        ksp = torch.abs(ksp)\n",
    "        \n",
    "        if ksp.shape != (16, 512, 160):\n",
    "            print(file_id + ' skipped. update mtr_id_list')\n",
    "            continue\n",
    "            \n",
    "        ksp_set[idx] = ksp\n",
    "        \n",
    "    return ksp_set\n",
    "\n",
    "def compute_energy_coef(ksp_set, C, accel=4, UNDERSAMP=False):\n",
    "    ''' given a set of ksp samples (NUM_SAMPS, 16, 512, 160)\n",
    "              C: the calibration region size\n",
    "              UNDERSAMP: boolean flag whether to apply mask\n",
    "        return coefs, a 1d array of length NUM_SAMPS w \n",
    "               the energy coefficient for each ksp sample\n",
    "               coef = energy(calib region) / energy(total ksp) '''\n",
    "    \n",
    "    # indices for isolating calibration region\n",
    "    C_ = C // 2\n",
    "    x0, x1 = 256-C_, 256+C_\n",
    "    y0, y1 = 80-C_, 80+C_\n",
    "    \n",
    "    coef_list = np.empty(len(ksp_set))\n",
    "    \n",
    "    for idx, ksp in enumerate(ksp_set):\n",
    "        assert ksp.shape[-2:] == (512, 160)\n",
    "        \n",
    "        if UNDERSAMP:\n",
    "            ksp, _ = apply_mask(ksp, accel=accel, custom_calib=C)\n",
    "        \n",
    "        energy_lo = torch.sum(ksp[:, x0:x1, y0:y1])\n",
    "        energy_hi = torch.sum(ksp) - energy_lo\n",
    "\n",
    "        coef = energy_lo / energy_hi\n",
    "        \n",
    "        coef_list[idx] = coef\n",
    "        \n",
    "    return coef_list"
   ]
  },
  {
   "cell_type": "markdown",
   "metadata": {},
   "source": [
    "### compute ssim"
   ]
  },
  {
   "cell_type": "code",
   "execution_count": 199,
   "metadata": {},
   "outputs": [],
   "source": [
    "accel = 8\n",
    "path_base = '/bmrNAS/people/dvv/out_qdess/accel_{}x/'.format(accel)\n",
    "path_gt = path_base + 'gt/'\n",
    "path_bl = path_base + 'baseline/'\n",
    "# path_bl = path_base + 'old/mask_incorrect/'"
   ]
  },
  {
   "cell_type": "code",
   "execution_count": 200,
   "metadata": {},
   "outputs": [],
   "source": [
    "mtr_id_list = get_mtr_id_list(path_gt, path_bl)\n",
    "\n",
    "metrics_bl = compute_metrics(mtr_id_list, path_gt, path_bl)\n",
    "\n",
    "ksp_set = load_ksp(mtr_id_list, path_gt, file_type='gt')\n",
    "# ksp_set = load_ksp(mtr_id_list, path_bl, file_type='dc')"
   ]
  },
  {
   "cell_type": "markdown",
   "metadata": {},
   "source": [
    "### compute corr(metric, energy coefficient)"
   ]
  },
  {
   "cell_type": "markdown",
   "metadata": {},
   "source": [
    "- note: if comparing gt/dc: get matching shapes, scale range"
   ]
  },
  {
   "cell_type": "code",
   "execution_count": 203,
   "metadata": {},
   "outputs": [
    {
     "name": "stdout",
     "output_type": "stream",
     "text": [
      "accel 8x\n",
      "calib size 40\n",
      "\n",
      "echo 1\n",
      "vif: 0.42\n",
      "msssim: 0.33\n",
      "ssim: 0.3\n",
      "psnr: -0.1\n",
      "\n",
      "echo 2\n",
      "vif: 0.8\n",
      "msssim: 0.67\n",
      "ssim: 0.63\n",
      "psnr: 0.53\n"
     ]
    }
   ],
   "source": [
    "UNDERSAMP = True # undersample k-space according to mask\n",
    "                  # note: using different mask than that used for recon\n",
    "metric_list = ['vif', 'msssim', 'ssim', 'psnr']\n",
    "\n",
    "print('accel {}x'.format(accel)) \n",
    "\n",
    "for C in [40]: # [24, 32, 40, 64]\n",
    "\n",
    "    print('calib size {}'.format(C))\n",
    "    coef_list = compute_energy_coef(ksp_set, C, accel, UNDERSAMP)\n",
    "\n",
    "    for ee in [0, 1]: # echo1, echo2\n",
    "        print('\\necho {}'.format(ee+1))\n",
    "        for mm in [0, 1, 2, 3]: # vif, msssim, ssim, psnr\n",
    "\n",
    "            metric_bl = metrics_bl[:, ee, mm]\n",
    "\n",
    "            corr = np.around(np.corrcoef(metric_bl, coef_list)[0,1], 2)\n",
    "            print('{}: {}'.format(metric_list[mm], corr))    "
   ]
  },
  {
   "cell_type": "code",
   "execution_count": 163,
   "metadata": {},
   "outputs": [],
   "source": [
    "ee = 0 # 0,1: echo1, echo2\n",
    "mm = 0 # 0,1,2,3: vif, msssim, ssim, psnr\n",
    "\n",
    "metric_bl = metrics_bl[:, ee, mm]"
   ]
  },
  {
   "cell_type": "code",
   "execution_count": 164,
   "metadata": {},
   "outputs": [
    {
     "data": {
      "image/png": "[encoded data removed]",
      "text/plain": [
       "<Figure size 432x288 with 1 Axes>"
      ]
     },
     "metadata": {
      "needs_background": "light"
     },
     "output_type": "display_data"
    }
   ],
   "source": [
    "plt.plot(coef_list, metric_bl, 'bo')\n",
    "plt.show()"
   ]
  }
 ],
 "metadata": {
  "kernelspec": {
   "display_name": "Python 3",
   "language": "python",
   "name": "python3"
  },
  "language_info": {
   "codemirror_mode": {
    "name": "ipython",
    "version": 3
   },
   "file_extension": ".py",
   "mimetype": "text/x-python",
   "name": "python",
   "nbconvert_exporter": "python",
   "pygments_lexer": "ipython3",
   "version": "3.8.5"
  }
 },
 "nbformat": 4,
 "nbformat_minor": 4
}
