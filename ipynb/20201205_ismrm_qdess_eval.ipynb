{
 "cells": [
  {
   "cell_type": "markdown",
   "metadata": {},
   "source": [
    "### Notebook Purpose\n",
    "\n",
    "Perform quant and qual evaluation for qdess results in ismrm paper\n",
    "\n",
    "Use `20201109_eval_qdess_expmt.ipynb` for inspiration"
   ]
  },
  {
   "cell_type": "code",
   "execution_count": 1,
   "metadata": {},
   "outputs": [],
   "source": [
    "import os, sys"
   ]
  },
  {
   "cell_type": "markdown",
   "metadata": {},
   "source": [
    "### identify training values for test set\n",
    "\n",
    "based off `/bmrNAS/people/arjun/data/stanford-qDESS/annotations/v0.0.2/splits.xlsx`, which has pathology-relevant samples `MTR_065` and `MTR_066` in its test set\n",
    "\n",
    "# TODO:\n",
    "- check recons from v0.0.2 test set. assuming metrics look good, tell arjun to run over this set with saved output"
   ]
  },
  {
   "cell_type": "code",
   "execution_count": 4,
   "metadata": {},
   "outputs": [
    {
     "data": {
      "text/plain": [
       "['MTR_065.h5',\n",
       " 'MTR_066.h5',\n",
       " 'MTR_240.h5',\n",
       " 'MTR_156.h5',\n",
       " 'MTR_188.h5',\n",
       " 'MTR_199.h5',\n",
       " 'MTR_224.h5',\n",
       " 'MTR_198.h5',\n",
       " 'MTR_219.h5',\n",
       " 'MTR_096.h5',\n",
       " 'MTR_052.h5',\n",
       " 'MTR_196.h5',\n",
       " 'MTR_221.h5',\n",
       " 'MTR_241.h5',\n",
       " 'MTR_223.h5',\n",
       " 'MTR_178.h5',\n",
       " 'MTR_227.h5',\n",
       " 'MTR_099.h5',\n",
       " 'MTR_218.h5',\n",
       " 'MTR_248.h5',\n",
       " 'MTR_006.h5',\n",
       " 'MTR_005.h5',\n",
       " 'MTR_173.h5',\n",
       " 'MTR_048.h5',\n",
       " 'MTR_158.h5',\n",
       " 'MTR_080.h5',\n",
       " 'MTR_034.h5',\n",
       " 'MTR_144.h5',\n",
       " 'MTR_176.h5',\n",
       " 'MTR_244.h5',\n",
       " 'MTR_120.h5',\n",
       " 'MTR_235.h5',\n",
       " 'MTR_237.h5',\n",
       " 'MTR_030.h5']"
      ]
     },
     "execution_count": 4,
     "metadata": {},
     "output_type": "execute_result"
    }
   ],
   "source": [
    "path = '/bmrNAS/people/arjun/data/qdess_knee_2020/files_recon_calib-16/'\n",
    "\n",
    "mtr_list = ['065', '066', '240', '156', '188', '199', '224', '198', '219', '096', '052', '196', '221', '241', '223', '178', '227', '099', '218', '248', '006', '005', '173', '048', '158', '080', '034', '144', '176', '244', '120', '235', '237', '030']\n",
    "fn_list = ['MTR_{}.h5'.format(f) for f in mtr_list]\n",
    "\n",
    "fn_list"
   ]
  },
  {
   "cell_type": "code",
   "execution_count": null,
   "metadata": {},
   "outputs": [],
   "source": []
  }
 ],
 "metadata": {
  "kernelspec": {
   "display_name": "Python 3",
   "language": "python",
   "name": "python3"
  },
  "language_info": {
   "codemirror_mode": {
    "name": "ipython",
    "version": 3
   },
   "file_extension": ".py",
   "mimetype": "text/x-python",
   "name": "python",
   "nbconvert_exporter": "python",
   "pygments_lexer": "ipython3",
   "version": "3.8.5"
  }
 },
 "nbformat": 4,
 "nbformat_minor": 4
}
