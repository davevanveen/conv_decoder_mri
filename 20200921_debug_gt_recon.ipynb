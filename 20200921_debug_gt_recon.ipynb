{
 "cells": [
  {
   "cell_type": "markdown",
   "metadata": {},
   "source": [
    "## Notebook Purpose\n",
    "\n",
    "Debugged issue with ground-truth reconstruction. Turns out that fastMRI test set only provides undersampled k-space. To get full k-space, must use validation set"
   ]
  },
  {
   "cell_type": "code",
   "execution_count": 1,
   "metadata": {},
   "outputs": [],
   "source": [
    "import os, sys\n",
    "import h5py\n",
    "import numpy as np\n",
    "import torch\n",
    "import matplotlib.pyplot as plt\n",
    "\n",
    "from utils.helpers import load_h5, get_masks\n",
    "from utils.transform import np_to_tt, apply_mask, ifft_2d,\\\n",
    "                            reshape_complex_channels_to_be_adj,\\\n",
    "                            combine_complex_channels, crop_center,\\\n",
    "                            root_sum_of_squares\n",
    "from include.mri_helpers import get_scale_factor"
   ]
  },
  {
   "cell_type": "code",
   "execution_count": 2,
   "metadata": {},
   "outputs": [],
   "source": [
    "def recon_ksp_to_img(ksp, dim=320):\n",
    "    ''' given a 3D npy array (or torch tensor) ksp k-space e.g. shape (15,x,y)\n",
    "        (1) perform ifft to img space\n",
    "        (2) reshape/combine complex channels\n",
    "        (3) combine multiple coils via root sum of squares\n",
    "        (4) crop center portion of image according to dim\n",
    "    '''\n",
    "\n",
    "    if type(ksp).__module__ == np.__name__:\n",
    "        ksp = np_to_tt(ksp)\n",
    "\n",
    "    arr = ifft_2d(ksp).cpu().numpy()\n",
    "    arr = reshape_complex_channels_to_be_adj(arr)\n",
    "    \n",
    "#     plt.hist(arr.flatten())\n",
    "    arr = combine_complex_channels(arr) # e.g. shape (30,x,y) --> (15,x,y)\n",
    "    arr = root_sum_of_squares(arr) # e.g. (15,x,y) --> (x,y)\n",
    "    \n",
    "    arr = crop_center(arr, dim, dim) # e.g. (x,y) --> (dim,dim)\n",
    "\n",
    "    return arr"
   ]
  },
  {
   "cell_type": "markdown",
   "metadata": {},
   "source": [
    "### Questions to answer\n",
    "\n",
    "- Are we zeroing out some information when combining complex channels or when performing rss operation?\n",
    "    - No - np.count_nonzero() returns same value for each step\n",
    "    - Scaling dynamic range to [0,255] doesn't help\n",
    "- Because I'm taking from test set, perhaps the k-space is already undersampled? e.g. test to see if applying the mask makes a difference in number of non-zeros\n",
    "    - Test 1: applying mask makes a very small difference - e.g. <1% of non-zero values become zero when mask is applied\n",
    "    - Test 2: when plotting boolean k-space, it sure looks as if the values have already been zeroed"
   ]
  },
  {
   "cell_type": "markdown",
   "metadata": {},
   "source": [
    "### Load sample"
   ]
  },
  {
   "cell_type": "code",
   "execution_count": 3,
   "metadata": {},
   "outputs": [],
   "source": [
    "def load_h5(file_id, slice_idx_from_last=None):\n",
    "    ''' given file_id, return the h5 file and central slice '''\n",
    "\n",
    "    VAL = True\n",
    "    \n",
    "    if VAL:\n",
    "        direc, v2 = 'multicoil_val', ''\n",
    "        v2 = ''\n",
    "    else:\n",
    "        direc, v2 = 'multicoil_test_v2', '_v2'\n",
    "    filename = '/bmrNAS/people/dvv/{}/file{}{}.h5'.format(direc, file_id, v2)\n",
    "    \n",
    "    f = h5py.File(filename, 'r')\n",
    "    #print('file_id {} w ksp shape (num_slices, num_coils, x, y): {}'.format( \\\n",
    "    #                                            file_id, f['kspace'].shape))\n",
    "\n",
    "    if f['kspace'].shape[3] == 320:\n",
    "        print('2D slice is length 320 -- may prevent masks from loading properly')\n",
    "\n",
    "    slice_idx = f['kspace'].shape[0] // 2\n",
    "    slice_ksp = f['kspace'][slice_idx]\n",
    "\n",
    "    return f, slice_ksp"
   ]
  },
  {
   "cell_type": "code",
   "execution_count": 9,
   "metadata": {},
   "outputs": [
    {
     "name": "stdout",
     "output_type": "stream",
     "text": [
      "(15, 640, 400)\n",
      "under-sampling factor: 4.17\n",
      "torch.Size([1, 1, 400, 1]) (640, 400) (400,)\n",
      "(15, 640, 372)\n",
      "under-sampling factor: 3.58\n",
      "torch.Size([1, 1, 372, 1]) (640, 372) (372,)\n",
      "(15, 640, 372)\n",
      "under-sampling factor: 3.84\n",
      "torch.Size([1, 1, 372, 1]) (640, 372) (372,)\n",
      "(15, 640, 372)\n",
      "under-sampling factor: 3.65\n",
      "torch.Size([1, 1, 372, 1]) (640, 372) (372,)\n"
     ]
    }
   ],
   "source": [
    "# test set\n",
    "# file_id_list = ['1000411', '1000186', '1000361', '1001524', '1000799', '1001152', '1001132']\n",
    "\n",
    "# val set\n",
    "file_id_list = ['1000267', '1000292', '1000254', '1000178']\n",
    "\n",
    "for file_id in file_id_list:\n",
    "    \n",
    "    f, slice_ksp = load_h5(file_id)\n",
    "    print(slice_ksp.shape)\n",
    "    \n",
    "    slice_ksp_tt = np_to_tt(slice_ksp)\n",
    "    \n",
    "    mask, mask2d, mask1d = get_masks(f, slice_ksp)\n",
    "    \n",
    "    ksp_premask = slice_ksp_tt.cpu().numpy()\n",
    "    ksp_masked = apply_mask(slice_ksp_tt, mask=mask).cpu().numpy()\n",
    "    \n",
    "\n",
    "    # slice_ksp is (15,x,y) w complex entries\n",
    "    img_gt = recon_ksp_to_img(slice_ksp) # skipped slice_ksp scaling"
   ]
  },
  {
   "cell_type": "code",
   "execution_count": 10,
   "metadata": {},
   "outputs": [
    {
     "name": "stdout",
     "output_type": "stream",
     "text": [
      "% nonzeros pre-mask: 0.9005, post-mask: 0.2554. num zeroed: 4607807\n"
     ]
    }
   ],
   "source": [
    "# how much of a difference does it make to apply the mask?\n",
    "masked_out = np.count_nonzero(ksp_premask) - np.count_nonzero(ksp_masked)\n",
    "size_ksp = ksp_premask.size\n",
    "perc_pre_mask = np.count_nonzero(ksp_premask) / size_ksp\n",
    "perc_post_mask = np.count_nonzero(ksp_masked) / size_ksp\n",
    "print('% nonzeros pre-mask: {}, post-mask: {}. num zeroed: {}'.format(\\\n",
    "            np.round(perc_pre_mask,4), np.round(perc_post_mask,4), masked_out))"
   ]
  },
  {
   "cell_type": "code",
   "execution_count": 121,
   "metadata": {},
   "outputs": [
    {
     "name": "stdout",
     "output_type": "stream",
     "text": [
      "torch.Size([1, 1, 372, 1]) torch.Size([15, 640, 372, 2])\n"
     ]
    },
    {
     "data": {
      "text/plain": [
       "torch.Size([15, 640, 372, 2])"
      ]
     },
     "execution_count": 121,
     "metadata": {},
     "output_type": "execute_result"
    }
   ],
   "source": [
    "ksp_pre = np_to_tt(slice_ksp)\n",
    "\n",
    "print(mask.shape, ksp_pre.shape)\n",
    "\n",
    "out = ksp_pre * mask\n",
    "out.shape"
   ]
  },
  {
   "cell_type": "code",
   "execution_count": 122,
   "metadata": {},
   "outputs": [],
   "source": [
    "def plot_boolean_kspace(ksp):\n",
    "    ''' plot kspace whether values have been zeroed out or not '''\n",
    "    \n",
    "    ksp_pre_comb = combine_complex_channels(reshape_complex_channels_to_be_adj(ksp.numpy()))\n",
    "    ksp_pre_cut = ksp_pre_comb[9, :50, :]\n",
    "\n",
    "    ksp_boo = ksp_pre_cut > 0\n",
    "    ksp_boo = ksp_boo.astype(int)\n",
    "\n",
    "    plt.figure(figsize=(16, 16))\n",
    "    plt.imshow(ksp_boo, cmap='gray')\n",
    "    plt.show()"
   ]
  },
  {
   "cell_type": "code",
   "execution_count": 123,
   "metadata": {},
   "outputs": [
    {
     "data": {
      "image/png": "[encoded data removed]",
      "text/plain": [
       "<Figure size 1152x1152 with 1 Axes>"
      ]
     },
     "metadata": {
      "needs_background": "light"
     },
     "output_type": "display_data"
    },
    {
     "data": {
      "image/png": "[encoded data removed]",
      "text/plain": [
       "<Figure size 1152x1152 with 1 Axes>"
      ]
     },
     "metadata": {
      "needs_background": "light"
     },
     "output_type": "display_data"
    }
   ],
   "source": [
    "plot_boolean_kspace(ksp_pre)\n",
    "plot_boolean_kspace(out)"
   ]
  },
  {
   "cell_type": "code",
   "execution_count": null,
   "metadata": {},
   "outputs": [],
   "source": []
  }
 ],
 "metadata": {
  "kernelspec": {
   "display_name": "Python 3",
   "language": "python",
   "name": "python3"
  },
  "language_info": {
   "codemirror_mode": {
    "name": "ipython",
    "version": 3
   },
   "file_extension": ".py",
   "mimetype": "text/x-python",
   "name": "python",
   "nbconvert_exporter": "python",
   "pygments_lexer": "ipython3",
   "version": "3.8.2"
  }
 },
 "nbformat": 4,
 "nbformat_minor": 4
}
