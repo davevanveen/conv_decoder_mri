{
 "cells": [
  {
   "cell_type": "markdown",
   "metadata": {},
   "source": [
    "## Notebook Purpose\n",
    "\n",
    "Previously was backpropagating on k-space using mse as loss function. This places very high emphasis on low frequency components.\n",
    "\n",
    "--> How would IQ vary if we applied transforms to emphasize high-frequency components of k-space?\n",
    "\n",
    "##### Scaling pixel/k-space values?\n",
    "- Current scaling method:\n",
    "    - create net_input ~U[0,1]\n",
    "    - given randomly generated net, compute out_img\n",
    "    - given slice_ksp, compute orig_img - i.e. ifft of very small k-space vals\n",
    "    - scale_factor = norm(out_img) / norm(orig_img)\n",
    "- FastMRI k-space data magnitude values are very small (pre-scale), w a handful of largest outlier values at 1e-3, but most, i.e. 99.9% are < 1e-5\n",
    "- Conclusion: Scaling of values in k-space or image space shouldn't matter, i.e. 16-bit floating point precision can handle it regardless. Only want output values to be in same range for computing ssim, psnr, etc."
   ]
  },
  {
   "cell_type": "code",
   "execution_count": 1,
   "metadata": {},
   "outputs": [],
   "source": [
    "import os, sys\n",
    "import h5py\n",
    "import numpy as np\n",
    "import torch\n",
    "import matplotlib.pyplot as plt\n",
    "import time\n",
    "\n",
    "from utils.transform import np_to_tt, split_complex_vals, recon_ksp_to_img\n",
    "from utils.helpers import num_params, load_h5, get_masks\n",
    "from include.decoder_conv import init_convdecoder\n",
    "from include.mri_helpers import get_scale_factor, get_masked_measurements, \\\n",
    "                                data_consistency, forwardm\n",
    "from include.fit import fit\n",
    "from utils.evaluate import calc_metrics\n",
    "\n",
    "if torch.cuda.is_available():\n",
    "    torch.backends.cudnn.enabled = True\n",
    "    torch.backends.cudnn.benchmark = True\n",
    "    dtype = torch.cuda.FloatTensor\n",
    "    torch.cuda.set_device(3)\n",
    "else:\n",
    "    dtype = torch.FloatTensor"
   ]
  },
  {
   "cell_type": "code",
   "execution_count": null,
   "metadata": {},
   "outputs": [
    {
     "name": "stdout",
     "output_type": "stream",
     "text": [
      "\n",
      "\n",
      "file_id: 1000325\n",
      "\n",
      "scale_val: 1\n",
      "scale factor 160860.7064655135\n",
      "scale factor 160655.9249854304\n",
      "scale factor 162145.45139315585\n",
      "scale factor 161123.80366872108\n",
      "scale factor 159633.40155506844\n",
      "scale factor 161796.30305533472\n",
      "scale factor 159969.8256809014\n",
      "scale factor 160705.1556860762\n",
      "\n",
      "scale_val: 10\n",
      "scale factor 162791.01671984425\n",
      "scale factor 159434.92859427736\n",
      "scale factor 161120.13261659196\n",
      "scale factor 159578.03537341167\n",
      "scale factor 163316.4340476324\n",
      "scale factor 158690.44298086775\n",
      "scale factor 157768.59681855762\n",
      "scale factor 159288.03423636293\n",
      "\n",
      "scale_val: 100\n",
      "scale factor 163662.1967611514\n",
      "scale factor 161775.08521875885\n",
      "scale factor 159847.07391605238\n",
      "scale factor 161311.0475817773\n",
      "scale factor 163833.31679907156\n",
      "scale factor 161257.49578337514\n",
      "scale factor 162540.19196742072\n",
      "scale factor 159774.30298797743\n",
      "\n",
      "scale_val: 1000\n",
      "scale factor 159829.8590031833\n",
      "scale factor 162966.13567468768\n",
      "scale factor 162839.74894983153\n",
      "scale factor 163202.44301779958\n",
      "scale factor 159955.4143181745\n",
      "scale factor 162070.02803967122\n"
     ]
    }
   ],
   "source": [
    "img_dc_list, img_est_list, img_gt_list, metrics_dc = [], [], [], []\n",
    "mse_wrt_ksp_list, mse_wrt_img_list = [], []\n",
    "ssim_list, psnr_list = [], []\n",
    "\n",
    "file_id_list = ['1000325', '1000464', '1000273', '1000007']#, '1000537', '1000818']#, \\\n",
    "                #'1001140', '1001219', '1001338', '1001598', '1001533', '1001798']\n",
    "SCALE_VAL_LIST = [1, 10, 100, 1000]\n",
    "NUM_ITER = 100\n",
    "DC_STEP = False\n",
    "\n",
    "NUM_RUNS = 8\n",
    "\n",
    "\n",
    "for idx, file_id in enumerate(file_id_list):  \n",
    "    print('')\n",
    "    print('')\n",
    "    print('file_id: {}'.format(file_id))\n",
    "    for scale_val in SCALE_VAL_LIST:\n",
    "        print('')\n",
    "        print('scale_val: {}'.format(scale_val))\n",
    "        for _ in range(NUM_RUNS):\n",
    "\n",
    "            f, slice_ksp = load_h5(file_id) # load full mri measurements\n",
    "            \n",
    "            mask, mask2d, mask1d = get_masks(f, slice_ksp) # load mask + variants, M\n",
    "            mask1d_ = torch.from_numpy(np.array(mask1d, dtype=np.uint8)) # for dc step\n",
    "\n",
    "            # initialize net, net input seed, and scale slice_ksp accordingly\n",
    "            net, net_input, slice_ksp = init_convdecoder(slice_ksp, mask)\n",
    "            slice_ksp = scale_val * slice_ksp\n",
    "\n",
    "            # for dc step - must do this after scaling slice_ksp\n",
    "            ksp_orig = np_to_tt(split_complex_vals(slice_ksp))[None, :].type(dtype) #[1,15,640,368,2]\n",
    "\n",
    "            # apply mask to measurements for fitting model\n",
    "            ksp_masked, img_masked = get_masked_measurements(slice_ksp, mask)\n",
    "\n",
    "            net, mse_wrt_ksp, mse_wrt_img = fit(\n",
    "                ksp_masked=ksp_masked, img_masked=img_masked,\n",
    "                net=net, net_input=net_input, mask2d=mask2d,\n",
    "                mask1d=mask1d_, ksp_orig=ksp_orig, DC_STEP=DC_STEP, alpha=0,#ALPHA,\n",
    "                img_ls=None, num_iter=NUM_ITER, dtype=dtype)\n",
    "\n",
    "            img_out = net(net_input.type(dtype))#[0] # estimate image \\hat{x} = G(\\hat{C})\n",
    "\n",
    "            out_ksp_masked = forwardm(img_out, mask2d)\n",
    "\n",
    "            img_dc, img_est = data_consistency(img_out[0], slice_ksp, mask1d)\n",
    "            img_gt = recon_ksp_to_img(slice_ksp) # must do this after slice_ksp is scaled\n",
    "\n",
    "            _, _, ssim_, psnr_ = calc_metrics(img_dc, img_gt)\n",
    "\n",
    "            # save images, metrics\n",
    "            img_dc_list.append(img_dc)\n",
    "            img_gt_list.append(img_gt) # could do this once per loop\n",
    "            mse_wrt_ksp_list.append(mse_wrt_ksp)\n",
    "            mse_wrt_img_list.append(mse_wrt_img)\n",
    "            ssim_list.append(ssim_)\n",
    "            psnr_list.append(psnr_)"
   ]
  },
  {
   "cell_type": "code",
   "execution_count": null,
   "metadata": {},
   "outputs": [],
   "source": [
    "list_oi = psnr_list\n",
    "list_compare = []\n",
    "\n",
    "for ss in range(len(SCALE_VAL_LIST)):\n",
    "    print('')\n",
    "    print('file_id {}'.format(file_id_list[ff]))\n",
    "\n",
    "    for ff in range(len(file_id_list)):\n",
    "        print('scale_val {}'.format(SCALE_VAL_LIST[ss]))\n",
    " \n",
    "        list_compare = []\n",
    "\n",
    "        for rr in range(NUM_RUNS)\n",
    "        \n",
    "            val = list_oi[32*ff + 8*ss + rr]\n",
    "            list_compare.append(val)\n",
    "     \n",
    "        list_compare = np.asarray(list_compare)\n",
    "        print(list_compare.mean(), list_compare.std())"
   ]
  },
  {
   "cell_type": "code",
   "execution_count": 3,
   "metadata": {},
   "outputs": [],
   "source": [
    "def convert_np_flatten(arr):\n",
    "    return arr.detach().cpu().numpy().flatten()\n",
    "\n",
    "ksp_orig, out_ksp_masked = convert_np_flatten(ksp_orig), convert_np_flatten(out_ksp_masked)"
   ]
  },
  {
   "cell_type": "code",
   "execution_count": 4,
   "metadata": {},
   "outputs": [
    {
     "data": {
      "text/plain": [
       "662.0300228223965"
      ]
     },
     "execution_count": 4,
     "metadata": {},
     "output_type": "execute_result"
    }
   ],
   "source": [
    "np.linalg.norm(img_est)"
   ]
  },
  {
   "cell_type": "code",
   "execution_count": 5,
   "metadata": {},
   "outputs": [
    {
     "data": {
      "text/plain": [
       "1542.6602"
      ]
     },
     "execution_count": 5,
     "metadata": {},
     "output_type": "execute_result"
    }
   ],
   "source": [
    "import include.transforms as transform\n",
    "\n",
    "ksp_tt = transform.to_tensor(slice_ksp)\n",
    "orig_tt = transform.ifft2(ksp_tt)   # apply ifft get the complex image\n",
    "orig_imgs_tt = transform.complex_abs(orig_tt)   # compute absolute value to get a real image\n",
    "orig_img_tt = transform.root_sum_of_squares(orig_imgs_tt, dim=0)\n",
    "orig_img_np = orig_img_tt.cpu().numpy()\n",
    "\n",
    "np.linalg.norm(orig_img_np)"
   ]
  },
  {
   "cell_type": "code",
   "execution_count": null,
   "metadata": {},
   "outputs": [],
   "source": []
  },
  {
   "cell_type": "code",
   "execution_count": 6,
   "metadata": {},
   "outputs": [
    {
     "data": {
      "text/plain": [
       "(-169.03912, 174.29456, -4.2347806e-06)"
      ]
     },
     "execution_count": 6,
     "metadata": {},
     "output_type": "execute_result"
    }
   ],
   "source": [
    "ksp_orig.min(), ksp_orig.max(), ksp_orig.mean()"
   ]
  },
  {
   "cell_type": "code",
   "execution_count": 14,
   "metadata": {},
   "outputs": [
    {
     "data": {
      "image/png": "[encoded data removed]",
      "text/plain": [
       "<Figure size 432x288 with 1 Axes>"
      ]
     },
     "metadata": {
      "needs_background": "light"
     },
     "output_type": "display_data"
    },
    {
     "data": {
      "text/plain": [
       "(array([3.0431e+04, 4.2809e+04, 1.6326e+04, 9.2220e+03, 2.4490e+03,\n",
       "        7.3700e+02, 2.8500e+02, 1.1100e+02, 2.5000e+01, 5.0000e+00]),\n",
       " array([ 0.59598503,  1.97162837,  3.34727171,  4.72291506,  6.0985584 ,\n",
       "         7.47420174,  8.84984509, 10.22548843, 11.60113177, 12.97677512,\n",
       "        14.35241846]),\n",
       " <BarContainer object of 10 artists>)"
      ]
     },
     "execution_count": 14,
     "metadata": {},
     "output_type": "execute_result"
    },
    {
     "data": {
      "image/png": "[encoded data removed]",
      "text/plain": [
       "<Figure size 432x288 with 1 Axes>"
      ]
     },
     "metadata": {
      "needs_background": "light"
     },
     "output_type": "display_data"
    }
   ],
   "source": [
    "plt.hist(img_gt.flatten())\n",
    "plt.show()\n",
    "\n",
    "plt.hist(img_dc.flatten())"
   ]
  },
  {
   "cell_type": "code",
   "execution_count": 8,
   "metadata": {},
   "outputs": [
    {
     "data": {
      "text/plain": [
       "(22.77463658749146, 14.352418461529624)"
      ]
     },
     "execution_count": 8,
     "metadata": {},
     "output_type": "execute_result"
    }
   ],
   "source": [
    "img_gt.max(), img_dc.max()"
   ]
  },
  {
   "cell_type": "code",
   "execution_count": 9,
   "metadata": {},
   "outputs": [],
   "source": [
    "# new_arr = np.delete(arr, np.where(arr == 2))\n",
    "\n",
    "slice_ksp_pre = np.absolute(slice_ksp_prescale.flatten())\n",
    "# slice_ksp_pre = np.delete(slice_ksp_pre, np.where(slice_ksp_pre>0.00013504))"
   ]
  },
  {
   "cell_type": "code",
   "execution_count": 10,
   "metadata": {},
   "outputs": [
    {
     "data": {
      "text/plain": [
       "(array([3.570861e+06, 1.980000e+02, 8.000000e+01, 2.500000e+01,\n",
       "        1.400000e+01, 1.200000e+01, 5.000000e+00, 3.000000e+00,\n",
       "        1.000000e+00, 1.000000e+00]),\n",
       " array([0.        , 0.00013504, 0.00027008, 0.00040512, 0.00054016,\n",
       "        0.0006752 , 0.00081024, 0.00094528, 0.00108032, 0.00121536,\n",
       "        0.0013504 ], dtype=float32),\n",
       " <BarContainer object of 10 artists>)"
      ]
     },
     "execution_count": 10,
     "metadata": {},
     "output_type": "execute_result"
    },
    {
     "data": {
      "image/png": "[encoded data removed]",
      "text/plain": [
       "<Figure size 432x288 with 1 Axes>"
      ]
     },
     "metadata": {
      "needs_background": "light"
     },
     "output_type": "display_data"
    }
   ],
   "source": [
    "plt.hist(slice_ksp_pre.flatten())"
   ]
  },
  {
   "cell_type": "code",
   "execution_count": 15,
   "metadata": {
    "scrolled": false
   },
   "outputs": [
    {
     "name": "stdout",
     "output_type": "stream",
     "text": [
      "tensor(0.0029, device='cuda:3', grad_fn=<MeanBackward0>) tensor(0.3073, device='cuda:3', grad_fn=<StdBackward0>)\n"
     ]
    },
    {
     "data": {
      "image/png": "[encoded data removed]",
      "text/plain": [
       "<Figure size 432x288 with 1 Axes>"
      ]
     },
     "metadata": {
      "needs_background": "light"
     },
     "output_type": "display_data"
    }
   ],
   "source": [
    "plt.hist(convert_np_flatten(img_out))\n",
    "print(img_out.mean(), img_out.std())"
   ]
  },
  {
   "cell_type": "code",
   "execution_count": 18,
   "metadata": {},
   "outputs": [
    {
     "data": {
      "image/png": "[encoded data removed]",
      "text/plain": [
       "<Figure size 432x288 with 1 Axes>"
      ]
     },
     "metadata": {
      "needs_background": "light"
     },
     "output_type": "display_data"
    },
    {
     "name": "stdout",
     "output_type": "stream",
     "text": [
      "[1.00000e+00 3.00000e+00 2.80000e+01 7.80000e+01 7.13913e+06 3.07400e+03\n",
      " 5.40000e+01 1.90000e+01 1.10000e+01 2.00000e+00]\n"
     ]
    },
    {
     "data": {
      "image/png": "[encoded data removed]",
      "text/plain": [
       "<Figure size 432x288 with 1 Axes>"
      ]
     },
     "metadata": {
      "needs_background": "light"
     },
     "output_type": "display_data"
    },
    {
     "name": "stdout",
     "output_type": "stream",
     "text": [
      "[5.00000e+00 1.40000e+01 4.40000e+01 3.70000e+02 7.14173e+06 1.81000e+02\n",
      " 3.60000e+01 1.20000e+01 4.00000e+00 4.00000e+00] [-99.26947  -76.5873   -53.90513  -31.22296   -8.54079   14.14138\n",
      "  36.82355   59.505722  82.18789  104.87006  127.55223 ]\n"
     ]
    }
   ],
   "source": [
    "(n, bins, patches) = plt.hist(ksp_orig, bins=10)\n",
    "plt.show()\n",
    "print(n)\n",
    "\n",
    "(n, bins, patches) = plt.hist(out_ksp_masked)\n",
    "plt.show()\n",
    "print(n, bins)"
   ]
  },
  {
   "cell_type": "code",
   "execution_count": null,
   "metadata": {},
   "outputs": [],
   "source": []
  }
 ],
 "metadata": {
  "kernelspec": {
   "display_name": "Python 3",
   "language": "python",
   "name": "python3"
  },
  "language_info": {
   "codemirror_mode": {
    "name": "ipython",
    "version": 3
   },
   "file_extension": ".py",
   "mimetype": "text/x-python",
   "name": "python",
   "nbconvert_exporter": "python",
   "pygments_lexer": "ipython3",
   "version": "3.8.2"
  }
 },
 "nbformat": 4,
 "nbformat_minor": 4
}
