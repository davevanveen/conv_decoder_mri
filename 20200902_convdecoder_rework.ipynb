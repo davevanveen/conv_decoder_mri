{
 "cells": [
  {
   "cell_type": "markdown",
   "metadata": {},
   "source": [
    "## Notebook Purpose\n",
    "\n",
    "Initial experiments with ConvDecoder, based upon the original notebook `ConvDecoder_vs_DIP_vs_DD_multicoil.ipynb`."
   ]
  },
  {
   "cell_type": "code",
   "execution_count": 1,
   "metadata": {},
   "outputs": [],
   "source": [
    "import os, sys\n",
    "import h5py\n",
    "import numpy as np\n",
    "import torch\n",
    "import matplotlib.pyplot as plt\n",
    "import time\n",
    "\n",
    "from utils.transform import np_to_tt, split_complex_vals, recon_ksp_to_img\n",
    "from utils.helpers import num_params, load_h5, get_masks\n",
    "from include.decoder_conv import init_convdecoder\n",
    "from include.mri_helpers import get_scale_factor, get_masked_measurements, \\\n",
    "                                data_consistency\n",
    "from include.fit import fit\n",
    "from utils.evaluate import calc_metrics\n",
    "\n",
    "if torch.cuda.is_available():\n",
    "    torch.backends.cudnn.enabled = True\n",
    "    torch.backends.cudnn.benchmark = True\n",
    "    dtype = torch.cuda.FloatTensor\n",
    "    torch.cuda.set_device(1)\n",
    "else:\n",
    "    dtype = torch.FloatTensor"
   ]
  },
  {
   "cell_type": "code",
   "execution_count": 2,
   "metadata": {},
   "outputs": [],
   "source": [
    "## UNCOMMENT for half precision and INJECT before fitting network\n",
    "# net = net.half()\n",
    "# ksp_masked = ksp_masked.half()\n",
    "# img_masked = img_masked.half()\n",
    "# mask = mask.half()\n",
    "# dtype=torch.cuda.HalfTensor"
   ]
  },
  {
   "cell_type": "markdown",
   "metadata": {},
   "source": [
    "### Run expmts"
   ]
  },
  {
   "cell_type": "code",
   "execution_count": null,
   "metadata": {},
   "outputs": [
    {
     "name": "stdout",
     "output_type": "stream",
     "text": [
      "file_id: 1000267\n"
     ]
    }
   ],
   "source": [
    "file_id_list = ['1000267', '1000292', '1000254', '1000178']   \n",
    "    \n",
    "img_dc_list, img_est_list, img_gt_list, metrics_dc = [], [], [], []\n",
    "mse_wrt_ksp_list, mse_wrt_img_list = [], []\n",
    "\n",
    "NUM_ITER_LIST = [1, 1000]\n",
    "NUM_ITER = 1000\n",
    "# DC_STEP = True\n",
    "\n",
    "for idx, file_id in enumerate(file_id_list):  \n",
    "    \n",
    "    # load full mri measurements\n",
    "    f, slice_ksp = load_h5(file_id)\n",
    "    print('file_id: {}'.format(file_id))\n",
    "\n",
    "    # load mask, M\n",
    "    mask, mask2d, mask1d = get_masks(f, slice_ksp)\n",
    "    \n",
    "    mask1d_ = torch.from_numpy(np.array(mask1d, dtype=np.uint8)) # for dc step\n",
    "    \n",
    "#     for NUM_ITER in NUM_ITER_LIST:\n",
    "    for DC_STEP in [False, True]:\n",
    "        \n",
    "        # initialize net, net input seed, and scale slice_ksp accordingly\n",
    "        net, net_input, slice_ksp = init_convdecoder(slice_ksp, mask)\n",
    "        \n",
    "        # for dc step - must do this after scaling slice_ksp\n",
    "        ksp_orig = np_to_tt(split_complex_vals(slice_ksp))[None, :].type(dtype) #[1,15,640,368,2]\n",
    "        \n",
    "        # apply mask to measurements for fitting model\n",
    "        ksp_masked, img_masked = get_masked_measurements(slice_ksp, mask)\n",
    "                \n",
    "        net, mse_wrt_ksp, mse_wrt_img = fit(\n",
    "            ksp_masked=ksp_masked, img_masked=img_masked,\n",
    "            net=net, net_input=net_input, mask2d=mask2d,\n",
    "            mask1d=mask1d_, ksp_orig=ksp_orig, DC_STEP=DC_STEP,\n",
    "            img_ls=None, num_iter=NUM_ITER, dtype=dtype)\n",
    "\n",
    "        img_out = net(net_input.type(dtype))[0] # estimate image \\hat{x} = G(\\hat{C})\n",
    "\n",
    "        img_dc, img_est = data_consistency(img_out, slice_ksp, mask1d)\n",
    "        img_gt = recon_ksp_to_img(slice_ksp) # must do this after slice_ksp is scaled\n",
    "\n",
    "        # save images, metrics\n",
    "        img_dc_list.append(img_dc)\n",
    "        img_est_list.append(img_est)\n",
    "        img_gt_list.append(img_gt) # could do this once per loop\n",
    "        mse_wrt_ksp_list.append(mse_wrt_ksp)\n",
    "        mse_wrt_img_list.append(mse_wrt_img)\n",
    "#         metrics_dc.append(calc_metrics(img_dc, img_gt))"
   ]
  },
  {
   "cell_type": "code",
   "execution_count": 4,
   "metadata": {},
   "outputs": [
    {
     "ename": "SystemExit",
     "evalue": "",
     "output_type": "error",
     "traceback": [
      "An exception has occurred, use %tb to see the full traceback.\n",
      "\u001b[0;31mSystemExit\u001b[0m\n"
     ]
    },
    {
     "name": "stderr",
     "output_type": "stream",
     "text": [
      "/home/vanveen/heck/lib/python3.8/site-packages/IPython/core/interactiveshell.py:3425: UserWarning: To exit: use 'exit', 'quit', or Ctrl-D.\n",
      "  warn(\"To exit: use 'exit', 'quit', or Ctrl-D.\", stacklevel=1)\n"
     ]
    }
   ],
   "source": [
    "sys.exit()"
   ]
  },
  {
   "cell_type": "code",
   "execution_count": null,
   "metadata": {},
   "outputs": [],
   "source": [
    "for i in np.arange(0, 2*len(file_id_list), 2):\n",
    "    \n",
    "    fig = plt.figure(figsize=(16, 8))\n",
    "\n",
    "    ax1 = fig.add_subplot(141)\n",
    "    ax1.imshow(img_gt_list[i], cmap='gray')\n",
    "    ax1.set_title('ground-truth')\n",
    "    ax1.axis('off')\n",
    "\n",
    "    ax2 = fig.add_subplot(142)\n",
    "    ax2.imshow(img_dc_list[i], cmap='gray')\n",
    "    ax2.set_title('conv_decoder, iter {}'.format(np.array(NUM_ITER_LIST).min()))\n",
    "    ax2.axis('off')\n",
    "\n",
    "    ax3 = fig.add_subplot(143)\n",
    "    ax3.imshow(img_dc_list[i+1], cmap='gray')\n",
    "    ax3.set_title('conv_decoder')\n",
    "    ax3.axis('off')\n",
    "    \n",
    "    ax4 = fig.add_subplot(144)\n",
    "    ax4.imshow(img_est_list[i+1], cmap='gray')\n",
    "    ax4.set_title('conv_decoder w/o dc post')\n",
    "    ax4.axis('off')\n",
    "    \n",
    "#     plt.savefig('png_out/sample{}.png'.format(i//2))\n",
    "    plt.show()"
   ]
  },
  {
   "cell_type": "code",
   "execution_count": null,
   "metadata": {},
   "outputs": [],
   "source": [
    "img_gt_shifted = img_gt * (img_dc.mean() / img_gt.mean())\n",
    "\n",
    "# est is output image without data consistency step\n",
    "plt.hist(img_est.flatten(), bins=100, alpha=0.5, label='est')\n",
    "plt.hist(img_dc.flatten(), bins=100, alpha=0.5, label='dc')\n",
    "plt.hist(img_gt.flatten(), bins=100, alpha=0.5, label='gt')\n",
    "plt.legend()\n",
    "plt.show()"
   ]
  }
 ],
 "metadata": {
  "kernelspec": {
   "display_name": "Python 3",
   "language": "python",
   "name": "python3"
  },
  "language_info": {
   "codemirror_mode": {
    "name": "ipython",
    "version": 3
   },
   "file_extension": ".py",
   "mimetype": "text/x-python",
   "name": "python",
   "nbconvert_exporter": "python",
   "pygments_lexer": "ipython3",
   "version": "3.8.2"
  }
 },
 "nbformat": 4,
 "nbformat_minor": 4
}
