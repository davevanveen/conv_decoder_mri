{
 "cells": [
  {
   "cell_type": "markdown",
   "metadata": {},
   "source": [
    "## Notebook Purpose\n",
    "\n",
    "Recreate deep decoder experiments run in `ConvDecoder_vs_DIP_vs_DD_multicoil.ipynb`, hereon referred to as the original notebook, which was extremely messy and unnecessarily complicated."
   ]
  },
  {
   "cell_type": "code",
   "execution_count": 1,
   "metadata": {},
   "outputs": [],
   "source": [
    "import os, sys\n",
    "import h5py\n",
    "import numpy as np\n",
    "import torch\n",
    "import matplotlib.pyplot as plt\n",
    "import time\n",
    "\n",
    "from utils.transform import np_to_tt, np_to_var, apply_mask, ifft_2d, fft_2d, \\\n",
    "                            reshape_complex_channels_to_sep_dimn, \\\n",
    "                            reshape_complex_channels_to_be_adj, \\\n",
    "                            split_complex_vals, combine_complex_channels, \\\n",
    "                            crop_center, root_sum_of_squares\n",
    "from utils.helpers import num_params\n",
    "from include.decoder_conv import convdecoder\n",
    "from include.mri_helpers import get_scale_factor\n",
    "from include.fit import fit\n",
    "\n",
    "from pytorch_msssim import ms_ssim\n",
    "from common.evaluate import vifp_mscale, ssim, psnr"
   ]
  },
  {
   "cell_type": "code",
   "execution_count": 2,
   "metadata": {},
   "outputs": [],
   "source": [
    "if torch.cuda.is_available():\n",
    "    torch.backends.cudnn.enabled = True\n",
    "    torch.backends.cudnn.benchmark = True\n",
    "    dtype = torch.cuda.FloatTensor\n",
    "    torch.cuda.set_device(0)\n",
    "#     print(\"num GPUs\",torch.cuda.device_count())\n",
    "else:\n",
    "    dtype = torch.FloatTensor"
   ]
  },
  {
   "cell_type": "code",
   "execution_count": 40,
   "metadata": {},
   "outputs": [],
   "source": [
    "def recon_ksp_to_img(ksp, dim=320):\n",
    "    ''' given a 3D npy array (or torch tensor) ksp k-space e.g. shape (15,x,y)\n",
    "        (1) perform ifft to img space\n",
    "        (2) reshape/combine complex channels\n",
    "        (3) combine multiple coils via root sum of squares\n",
    "        (4) crop center portion of image according to dim\n",
    "    '''\n",
    "    \n",
    "    if type(ksp).__module__ == np.__name__:\n",
    "        ksp = np_to_tt(ksp)\n",
    "\n",
    "    arr = ifft_2d(ksp).cpu().numpy()\n",
    "    arr = reshape_complex_channels_to_be_adj(arr)\n",
    "    arr = combine_complex_channels(arr) # e.g. shape (30,x,y) --> (15,x,y)\n",
    "    arr = root_sum_of_squares(arr) # e.g. (15,x,y) --> (x,y)\n",
    "    arr = crop_center(arr, dim, dim) # e.g. (x,y) --> (dim,dim)\n",
    "    \n",
    "    return arr\n",
    "\n",
    "def normalize_img(img_out, img_gt):\n",
    "    ''' normalize the pixel values in im_gt according to (mean, std) of im_out\n",
    "        verified: step is necessary '''\n",
    "    \n",
    "    if img_out.mean() < img_gt.mean():\n",
    "        raise NotImplementedError('assumes img_gt has much smaller pixel vals')\n",
    "\n",
    "    img_gt = (img_gt - img_gt.mean()) / img_gt.std()\n",
    "    img_gt *= img_out.std()\n",
    "    img_gt += img_out.mean()\n",
    "    \n",
    "    return img_gt\n",
    "\n",
    "def calc_metrics(img_out, img_gt):\n",
    "    ''' compute vif, ssim, and psnr of arr_out using im_gt as ground-truth reference '''\n",
    "    \n",
    "    img_gt = normalize_img(img_out, img_gt)\n",
    "    \n",
    "    vif_ = vifp_mscale(img_out, img_gt, sigma_nsq=img_out.mean())\n",
    "    ssim_ = ssim(np.array([img_out]), np.array([img_gt]))\n",
    "    psnr_ = psnr(np.array([img_out]), np.array([img_gt]))\n",
    "    \n",
    "    dt = torch.FloatTensor\n",
    "    img_out_t = torch.from_numpy(np.array([[img_out]])).type(dt)\n",
    "    img_gt_t = torch.from_numpy(np.array([[img_gt]])).type(dt)\n",
    "    msssim_ = ms_ssim(img_out_t, img_gt_t, data_range=img_gt_t.max())\n",
    "    msssim_ = msssim_.data.cpu().numpy()[np.newaxis][0]\n",
    "    \n",
    "    return vif_, msssim_, ssim_, psnr_ "
   ]
  },
  {
   "cell_type": "markdown",
   "metadata": {},
   "source": [
    "### Load MRI measurements, y\n",
    "\n",
    "Isolate individual 2D slice"
   ]
  },
  {
   "cell_type": "code",
   "execution_count": 4,
   "metadata": {},
   "outputs": [],
   "source": [
    "def load_h5(file_id):\n",
    "    ''' given file_id, return the h5 file and central slice '''\n",
    "    \n",
    "    filename = '/bmrNAS/people/dvv/multicoil_test_v2/file{}_v2.h5'.format(file_id)\n",
    "    f = h5py.File(filename, 'r') \n",
    "    \n",
    "#     print('file_id {} w ksp shape (num_slices, num_coils, x, y): {}'.format( \\\n",
    "#                                             file_id, f['kspace'].shape))\n",
    "\n",
    "    # isolate central k-space slice\n",
    "    slice_idx = f['kspace'].shape[0] // 2\n",
    "    slice_ksp = f['kspace'][slice_idx]\n",
    "    \n",
    "    return f, slice_ksp"
   ]
  },
  {
   "cell_type": "markdown",
   "metadata": {},
   "source": [
    "### Load mask, M\n",
    "\n",
    "- Format of loaded mask is 1d binary vector of size ~368, i.e. sampling of vertical lines in image\n",
    "- Convert mask to 0's and 1's, zero pad, convert to 2D, create torch transform\n",
    "\n",
    "##### TODO's\n",
    "- work through this on low-level to simplify steps + reduce number of returned items\n",
    "\n",
    "Note: See original notebook for generating a new mask, e.g. if .h5 doesn't have a mask"
   ]
  },
  {
   "cell_type": "code",
   "execution_count": 5,
   "metadata": {},
   "outputs": [],
   "source": [
    "def get_masks(file_h5):\n",
    "    ''' given h5 file, return three different versions of masks:\n",
    "            mask: used for masking k-space as network input\n",
    "            mask2d: 2D mask used to fit network \n",
    "            mask1d: 1D mask used for data consistency step '''\n",
    "    try:\n",
    "        mask1d = np.array([1 if e else 0 for e in file_h5[\"mask\"]]) # load 1D binary mask\n",
    "    except:\n",
    "        print('Implement method for generating a mask')\n",
    "        sys.exit()\n",
    "\n",
    "    # zero out mask in outer regions e.g. mask and data have last dimn 368, but actual data is size 320\n",
    "    # TODO: if actual data is size 320, then why do we have dimn 368?\n",
    "    idxs_zero = (mask1d.shape[-1] - 320) // 2 # e.g. zero first/last (368-320)/2=24 indices\n",
    "    mask1d[:idxs_zero], mask1d[-idxs_zero:] = 0, 0\n",
    "\n",
    "    # create 2d mask. zero pad if dimensions don't line up - is this necessary?\n",
    "    mask2d = np.repeat(mask1d[None,:], slice_ksp.shape[1], axis=0)#.astype(int)\n",
    "    mask2d = np.pad(mask2d, ((0,),((slice_ksp.shape[-1]-mask2d.shape[-1])//2,)), mode='constant')\n",
    "\n",
    "    # convert shape e.g. (368,) --> (1, 1, 368, 1)\n",
    "    mask = np_to_tt(np.array([[mask2d[0][np.newaxis].T]])).type(torch.FloatTensor)\n",
    "    #print('under-sampling factor:', round(len(mask1d) / sum(mask1d), 2))\n",
    "    \n",
    "    return mask, mask2d, mask1d"
   ]
  },
  {
   "cell_type": "markdown",
   "metadata": {},
   "source": [
    "### Set up ConvDecoder\n",
    "\n",
    "##### TODO's\n",
    "- make separate function that returns net_input given the appropriate scale_factor, i.e. split up mri_helpers.get_scale_factor() into two different functions"
   ]
  },
  {
   "cell_type": "code",
   "execution_count": 55,
   "metadata": {},
   "outputs": [],
   "source": [
    "def init_convdecoder(slice_ksp, mask):\n",
    "    ''' parameters: \n",
    "                slice_ksp: original, unmasked k-space measurements\n",
    "                mask: mask used to downsample original k-space\n",
    "        return:\n",
    "                net: initialized convdecoder\n",
    "                net_input: random, scaled input seed \n",
    "                ksp_masked: masked measurements to fit\n",
    "                img_masked: masked image, i.e. ifft(ksp_masked) '''\n",
    "\n",
    "    in_size = [8,4]\n",
    "    out_size = slice_ksp.shape[1:] # shape of (x,y) image slice, e.g. (640, 368)\n",
    "    out_depth = slice_ksp.shape[0]*2 # 2*n_c, i.e. 2*15=30 if multi-coil\n",
    "    num_layers = 8\n",
    "    strides = [1]*(num_layers-1)\n",
    "    num_channels = 160\n",
    "    kernel_size = 3\n",
    "\n",
    "    net = convdecoder(in_size, out_size, out_depth, num_layers, \\\n",
    "                      strides, num_channels).type(dtype)\n",
    "    #print('# parameters of ConvDecoder:',num_params(net))\n",
    "    \n",
    "    # fix the scaling b/w original image and random output image = net(input tensor w values ~U[0,1]) \n",
    "    # e.g. scale_factor = 168813\n",
    "    # note: can be done using the under-sampled kspace, but we use the full kspace\n",
    "    scale_factor, net_input = get_scale_factor(net,\n",
    "                                       num_channels,\n",
    "                                       in_size,\n",
    "                                       slice_ksp)\n",
    "    slice_ksp = slice_ksp * scale_factor # original fit_untrained() f'n returns this\n",
    "\n",
    "    # mask the kspace\n",
    "    ksp_masked = apply_mask(np_to_tt(slice_ksp), mask=mask)\n",
    "    ksp_masked = np_to_var(ksp_masked.data.cpu().numpy()).type(dtype)\n",
    "\n",
    "    # perform ifft of masked kspace\n",
    "    img_masked = ifft_2d(ksp_masked[0]).cpu().numpy()\n",
    "    img_masked = reshape_complex_channels_to_be_adj(img_masked)\n",
    "    img_masked = np_to_var(img_masked).type(dtype)\n",
    "    \n",
    "    return net, net_input, ksp_masked, img_masked, slice_ksp"
   ]
  },
  {
   "cell_type": "markdown",
   "metadata": {},
   "source": [
    "### Fit network via `fit(...)`\n",
    "\n",
    "##### Returns\n",
    "- net: the best network. network output is in image space but not computed\n",
    "- mse_wrt_ksp = mse(ksp_masked, fft(out) * mask)\n",
    "- mse_wrt_img = mse(img_masked, out)\n",
    "\n",
    "##### args:\n",
    "- `ksp_masked`: masked k-space of single slice\n",
    "- `img_masked`: ifft(ksp_masked)\n",
    "- `img_ls`: least-squares recon of original (unmasked) k-space. This is used only to compute ssim, psnr, and norm_ratio across number of iterations. Too see how this is created, refer to original ipynb for definining `lsimg`\n",
    "\n",
    "Note: Original code has opt_input argument (default False) which would hence return a new version of net_input\n",
    "\n",
    "##### TODO's (in fit.py)\n",
    "- make apply_f call less confusing. compare forwardm to utils.transform.apply_mask()\n",
    "- understand why we backprop on loss_ksp and not loss_img\n",
    "- what is difference b/w \"image loss\" and \"image loss orig\"?\n",
    "\n",
    "##### Findings:\n",
    "- When evaluating on one image, 1000 iterations was sufficient. Seemingly no benefit running for 10000 images\n",
    "- Runtime per iteration is ~ 0.125s --> ~125s per 1000 iterations. Most expensive steps:\n",
    "    - backprop loss_ksp: ~0.085s\n",
    "    - compute net output: ~0.025s\n",
    "    - all the rest combined: ~0.015s\n",
    "- Cut down runtime by ~15% by removing unnecessary data type conversions\n",
    "- Can cut down runtime by ~20% using HalfTensor. In order to implement this, must do the following:\n",
    "    - Uncomment casting lines below\n",
    "    - Add apply_f(...).half() in loss_ksp calc of fit.py\n",
    "    - After all this, gradients go to zero because their values are small and cannot be represented in fp16. As such, follow the blog post under \"Mixed-Precision Training Iteration\" at https://developer.nvidia.com/blog/mixed-precision-training-deep-neural-networks/. Note: cannot use autocast, as it currently isn't supported in the main version of pytorch\n",
    "    - Once that works, need to verify no loss in output image quality"
   ]
  },
  {
   "cell_type": "code",
   "execution_count": 7,
   "metadata": {},
   "outputs": [],
   "source": [
    "## UNCOMMENT for half precision and INJECT before fitting network\n",
    "# net = net.half()\n",
    "# ksp_masked = ksp_masked.half()\n",
    "# img_masked = img_masked.half()\n",
    "# mask = mask.half()\n",
    "# dtype=torch.cuda.HalfTensor"
   ]
  },
  {
   "cell_type": "code",
   "execution_count": 8,
   "metadata": {},
   "outputs": [],
   "source": [
    "# plt.plot(mse_wrt_ksp, label='ksp')\n",
    "# plt.plot(mse_wrt_img, label='img')\n",
    "# plt.ylim(0, 0.05)"
   ]
  },
  {
   "cell_type": "markdown",
   "metadata": {},
   "source": [
    "# TODO: fix method for computing gt\n",
    "\n",
    "currently we see that mse_wrt_ksp and mse_wrt_img decrease as NUM_ITER increases. However, ssim and psnr computed with img_gt actually get worse as NUM_ITER increases. Must not be computing img_gt correctly\n",
    "\n",
    "current method: perform ifft of original k-space ksp_orig, combine complex values, combine multi-channel via rss (same method for recon of ksp_dc and ksp_est)"
   ]
  },
  {
   "cell_type": "markdown",
   "metadata": {},
   "source": [
    "### Perform data consistency step\n",
    "\n",
    "Compute network output, convert to k-space and perform data-consistency step, then convert back to image space\n",
    "\n",
    "What is actually happening in this dc step?\n",
    "- 41/368 of mask coefficients are set to true \n",
    "- 41 columns, e.g. 41 * 640 = 787200 of values in ksp are overwritten\n",
    "\n",
    "##### TODO:\n",
    "- check and reduce redundant computations, i.e. here we subsample k-space again"
   ]
  },
  {
   "cell_type": "code",
   "execution_count": 9,
   "metadata": {},
   "outputs": [],
   "source": [
    "def data_consistency(img_out, slice_ksp, mask1d):\n",
    "    ''' perform data-consistency step so no \n",
    "        parameters:\n",
    "                img_out: network output image, shape torch.Size([30, x, y])\n",
    "                slice_ksp: original k-space measurements \n",
    "        returns:\n",
    "                img_dc: data-consistent output image\n",
    "                img_est: output image without data consistency '''\n",
    "    \n",
    "    img_out = reshape_complex_channels_to_sep_dimn(img_out)\n",
    "\n",
    "    # now get F*G(\\hat{C}), i.e. estimated recon in k-space\n",
    "    ksp_est = fft_2d(img_out) # ([15, 640, 368, 2])\n",
    "    ksp_orig = np_to_tt(split_complex_vals(slice_ksp)) # ([15, 640, 368, 2]); slice_ksp (15,640,368) complex\n",
    "\n",
    "    # replace estimated coeffs in k-space by original coeffs if it has been sampled\n",
    "    mask1d = torch.from_numpy(np.array(mask1d, dtype=np.uint8)) # shape: torch.Size([368]) w 41 non-zero elements\n",
    "    ksp_dc = ksp_est.clone().detach().cpu()\n",
    "    ksp_dc[:,:,mask1d==1,:] = ksp_orig[:,:,mask1d==1,:]\n",
    "\n",
    "    img_dc = recon_ksp_to_img(ksp_dc)\n",
    "    img_est = recon_ksp_to_img(ksp_est.detach().cpu())\n",
    "    \n",
    "    return img_dc, img_est"
   ]
  },
  {
   "cell_type": "code",
   "execution_count": null,
   "metadata": {},
   "outputs": [
    {
     "name": "stdout",
     "output_type": "stream",
     "text": [
      "file_id: 1000186\n",
      "file_id: 1000361\n"
     ]
    }
   ],
   "source": [
    "# file_id_list = '1000411' #'1000781'\n",
    "file_id_list = ['1000186', '1000361', '1001524', '1000799', '1001152', '1001132']#, '1001826', '1000522']\n",
    "  \n",
    "img_dc_list, img_est_list, img_gt_list, metrics_dc = [], [], [], []\n",
    "\n",
    "# NUM_ITER = 1000  \n",
    "NUM_ITER_LIST = [1, 1000]\n",
    "\n",
    "for idx, file_id in enumerate(file_id_list):  \n",
    "    \n",
    "    f, slice_ksp = load_h5(file_id)\n",
    "    if f['kspace'].shape[3] == 320:\n",
    "        continue\n",
    "    print('file_id: {}'.format(file_id))\n",
    "\n",
    "    mask, mask2d, mask1d = get_masks(f)\n",
    "\n",
    "    for NUM_ITER in NUM_ITER_LIST:\n",
    "    \n",
    "        net, net_input, ksp_masked, img_masked, slice_ksp = \\\n",
    "                init_convdecoder(slice_ksp, mask)\n",
    "\n",
    "        net, mse_wrt_ksp, mse_wrt_img = fit(\n",
    "            ksp_masked=ksp_masked, img_masked=img_masked,\n",
    "            net=net, net_input=net_input, mask=mask2d,\n",
    "            img_ls=None, num_iter=NUM_ITER, dtype=dtype)\n",
    "\n",
    "        img_out = net(net_input.type(dtype))[0] # estimate image \\hat{x} = G(\\hat{C})\n",
    "\n",
    "        img_dc, img_est = data_consistency(img_out, slice_ksp, mask1d)\n",
    "        img_gt = recon_ksp_to_img(slice_ksp) # must do this after slice_ksp is scaled\n",
    "\n",
    "        img_dc_list.append(img_dc)\n",
    "        if NUM_ITER == np.array(NUM_ITER_LIST).min():\n",
    "            img_est_list.append(img_est)\n",
    "            img_gt_list.append(img_gt)\n",
    "#     metrics_dc.append(calc_metrics(img_dc, img_gt))\n",
    "        \n",
    "# img_dc_list = np.array(img_dc_list)"
   ]
  },
  {
   "cell_type": "code",
   "execution_count": null,
   "metadata": {},
   "outputs": [],
   "source": [
    "KEY_WORD = '' #'iter{}'.format(NUM_ITER)\n",
    "\n",
    "for i in np.arange(len(file_id_list)):\n",
    "    \n",
    "    fig = plt.figure(figsize=(16, 8))\n",
    "\n",
    "    ax1 = fig.add_subplot(141)\n",
    "    ax1.imshow(img_gt_list[i], cmap='gray')\n",
    "    ax1.set_title('ground-truth?')\n",
    "    ax1.axis('off')\n",
    "\n",
    "    ax2 = fig.add_subplot(142)\n",
    "    ax2.imshow(img_dc_list[i], cmap='gray')\n",
    "    ax2.set_title('conv_decoder, iter {}'.format(np.array(NUM_ITER_LIST).min()))\n",
    "    ax2.axis('off')\n",
    "\n",
    "    ax3 = fig.add_subplot(143)\n",
    "    ax3.imshow(img_dc_list[i+1], cmap='gray')\n",
    "    ax3.set_title('conv_decoder')\n",
    "    ax3.axis('off')\n",
    "    \n",
    "    ax4 = fig.add_subplot(144)\n",
    "    ax4.imshow(img_est_list[i], cmap='gray')\n",
    "    ax4.set_title('conv_decoder w/o dc post')\n",
    "    ax4.axis('off')\n",
    "    \n",
    "    plt.savefig('png_out/sample{}_{}.png'.format(i, KEY_WORD))\n",
    "    plt.show()"
   ]
  },
  {
   "cell_type": "markdown",
   "metadata": {},
   "source": [
    "# TODO 16 September    \n",
    "- get baseline performance over e.g. 10 images\n",
    "- implement data consistency in last layer; compare performance to the same 10 images\n",
    "- review papers sent by akshay\n",
    "\n",
    "\n",
    "\n",
    "- data consistency in the loss\n",
    "    - need to implement dc step into torch variables (done in numpy above)\n",
    "    - then i can call this similar to how apply_f()=forwardm() is done in current `fit.py`\n",
    "- next step: how to do layer-wise data consistency?"
   ]
  },
  {
   "cell_type": "code",
   "execution_count": 57,
   "metadata": {},
   "outputs": [
    {
     "data": {
      "image/png": "[encoded data removed]",
      "text/plain": [
       "<Figure size 432x288 with 1 Axes>"
      ]
     },
     "metadata": {
      "needs_background": "light"
     },
     "output_type": "display_data"
    }
   ],
   "source": [
    "img_gt_shifted = img_gt * (img_dc.mean() / img_gt.mean())\n",
    "\n",
    "# est is output image without data consistency step\n",
    "plt.hist(img_est.flatten(), bins=100, alpha=0.5, label='est')\n",
    "plt.hist(img_dc.flatten(), bins=100, alpha=0.5, label='dc')\n",
    "plt.hist(img_gt.flatten(), bins=100, alpha=0.5, label='gt')\n",
    "plt.legend()\n",
    "plt.show()"
   ]
  },
  {
   "cell_type": "code",
   "execution_count": null,
   "metadata": {},
   "outputs": [],
   "source": []
  }
 ],
 "metadata": {
  "kernelspec": {
   "display_name": "Python 3",
   "language": "python",
   "name": "python3"
  },
  "language_info": {
   "codemirror_mode": {
    "name": "ipython",
    "version": 3
   },
   "file_extension": ".py",
   "mimetype": "text/x-python",
   "name": "python",
   "nbconvert_exporter": "python",
   "pygments_lexer": "ipython3",
   "version": "3.8.2"
  }
 },
 "nbformat": 4,
 "nbformat_minor": 4
}
