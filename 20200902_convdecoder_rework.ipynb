{
 "cells": [
  {
   "cell_type": "markdown",
   "metadata": {},
   "source": [
    "## Notebook Purpose\n",
    "\n",
    "Recreate deep decoder experiments run in `ConvDecoder_vs_DIP_vs_DD_multicoil.ipynb`, hereon referred to as the original notebook, which was extremely messy and unnecessarily complicated."
   ]
  },
  {
   "cell_type": "code",
   "execution_count": 1,
   "metadata": {},
   "outputs": [],
   "source": [
    "import os, sys\n",
    "import h5py\n",
    "import numpy as np\n",
    "import torch\n",
    "import matplotlib.pyplot as plt\n",
    "import time\n",
    "\n",
    "from utils.transform import np_to_tt, np_to_var, apply_mask, ifft_2d, fft_2d, \\\n",
    "                            reshape_complex_channels_to_sep_dimn, \\\n",
    "                            reshape_complex_channels_to_be_adj, \\\n",
    "                            split_complex_vals, combine_complex_channels, \\\n",
    "                            crop_center, root_sum_of_squares\n",
    "from utils.helpers import num_params\n",
    "from include.decoder_conv import convdecoder\n",
    "from include.mri_helpers import get_scale_factor\n",
    "from include.fit import fit\n",
    "\n",
    "from pytorch_msssim import ms_ssim\n",
    "from common.evaluate import vifp_mscale, ssim, psnr"
   ]
  },
  {
   "cell_type": "code",
   "execution_count": 2,
   "metadata": {},
   "outputs": [],
   "source": [
    "if torch.cuda.is_available():\n",
    "    torch.backends.cudnn.enabled = True\n",
    "    torch.backends.cudnn.benchmark = True\n",
    "    dtype = torch.cuda.FloatTensor\n",
    "    torch.cuda.set_device(0)\n",
    "#     print(\"num GPUs\",torch.cuda.device_count())\n",
    "else:\n",
    "    dtype = torch.FloatTensor"
   ]
  },
  {
   "cell_type": "code",
   "execution_count": 3,
   "metadata": {},
   "outputs": [],
   "source": [
    "def recon_ksp_to_img(ksp, dim=320):\n",
    "    ''' given a 3D npy array (or torch tensor) ksp k-space e.g. shape (15,x,y)\n",
    "        (1) perform ifft to img space\n",
    "        (2) reshape/combine complex channels\n",
    "        (3) combine multiple coils via root sum of squares\n",
    "        (4) crop center portion of image according to dim\n",
    "    '''\n",
    "    \n",
    "    if type(ksp).__module__ == np.__name__:\n",
    "        ksp = np_to_tt(ksp)\n",
    "\n",
    "    arr = ifft_2d(ksp).cpu().numpy()\n",
    "    arr = reshape_complex_channels_to_be_adj(arr)\n",
    "    arr = combine_complex_channels(arr) # e.g. shape (30,x,y) --> (15,x,y)\n",
    "    arr = root_sum_of_squares(arr) # e.g. (15,x,y) --> (x,y)\n",
    "    arr = crop_center(arr, dim, dim) # e.g. (x,y) --> (dim,dim)\n",
    "    \n",
    "    return arr\n",
    "\n",
    "def normalize_img(img_out, img_gt):\n",
    "    ''' normalize the pixel values in im_out according to (mean, std) of im_gt\n",
    "        TODO: decide if this step should be included\n",
    "              seems to make a big difference for vif, but not other metrics '''\n",
    "    \n",
    "    img_out = (img_out - img_out.mean()) / img_out.std()\n",
    "    img_out *= img_gt.std()\n",
    "    img_out += img_gt.mean()\n",
    "    \n",
    "    return img_out  \n",
    "\n",
    "def calc_metrics(img_out, img_gt):\n",
    "    ''' compute vif, ssim, and psnr of arr_out using im_gt as ground-truth reference '''\n",
    "    \n",
    "    img_out = normalize_img(img_out, img_gt)\n",
    "    \n",
    "    vif_ = vifp_mscale(img_out, img_gt, sigma_nsq=img_out.mean())\n",
    "    ssim_ = ssim(np.array([img_out]), np.array([img_gt]))\n",
    "    psnr_ = psnr(np.array([img_out]), np.array([img_gt]))\n",
    "    \n",
    "    dt = torch.FloatTensor\n",
    "    img_out_t = torch.from_numpy(np.array([[img_out]])).type(dt)\n",
    "    img_gt_t = torch.from_numpy(np.array([[img_gt]])).type(dt)\n",
    "    msssim_ = ms_ssim(img_out_t, img_gt_t, data_range=img_gt_t.max())\n",
    "    msssim_ = msssim_.data.cpu().numpy()[np.newaxis][0]\n",
    "    \n",
    "    return vif_, msssim_, ssim_, psnr_ "
   ]
  },
  {
   "cell_type": "markdown",
   "metadata": {},
   "source": [
    "### Load MRI measurements, y\n",
    "\n",
    "Isolate individual 2D slice"
   ]
  },
  {
   "cell_type": "code",
   "execution_count": 4,
   "metadata": {},
   "outputs": [
    {
     "name": "stdout",
     "output_type": "stream",
     "text": [
      "k-space shape (num_slices, num_coils, x, y):  (40, 15, 640, 368)\n"
     ]
    }
   ],
   "source": [
    "file_id = '1000411' #'1000781'\n",
    "\n",
    "filename = '/bmrNAS/people/dvv/multicoil_test_v2/file{}_v2.h5'.format(file_id)\n",
    "f = h5py.File(filename, 'r') \n",
    "# print('h5 file keys: ', f.keys())\n",
    "print('k-space shape (num_slices, num_coils, x, y): ', f['kspace'].shape)\n",
    "\n",
    "# isolate central k-space slice\n",
    "slice_idx = f['kspace'].shape[0] // 2\n",
    "slice_ksp = f['kspace'][slice_idx]\n",
    "# note: didn't add tensor version e.g. slice_ksp_torchtensor in original"
   ]
  },
  {
   "cell_type": "markdown",
   "metadata": {},
   "source": [
    "### Load mask, M\n",
    "\n",
    "- Format of loaded mask is 1d binary vector of size ~368, i.e. sampling of vertical lines in image\n",
    "- Convert mask to 0's and 1's, zero pad, convert to 2D, create torch transform\n",
    "\n",
    "Note: See original notebook for generating a new mask, e.g. if .h5 doesn't have a mask"
   ]
  },
  {
   "cell_type": "code",
   "execution_count": 5,
   "metadata": {},
   "outputs": [
    {
     "name": "stdout",
     "output_type": "stream",
     "text": [
      "under-sampling factor: 8.76\n"
     ]
    }
   ],
   "source": [
    "try:\n",
    "    mask1d = np.array([1 if e else 0 for e in f[\"mask\"]]) # load 1D binary mask\n",
    "except:\n",
    "    print('Implement method for generating a mask')\n",
    "    sys.exit()\n",
    "    \n",
    "# zero out mask in outer regions e.g. mask and data have last dimn 368, but actual data is size 320\n",
    "# TODO: if actual data is size 320, then why do we have dimn 368?\n",
    "idxs_zero = (mask1d.shape[-1] - 320) // 2 # e.g. zero first/last (368-320)/2=24 indices\n",
    "mask1d[:idxs_zero], mask1d[-idxs_zero:] = 0, 0\n",
    "\n",
    "# create 2d mask. zero pad if dimensions don't line up - is this necessary?\n",
    "mask2d = np.repeat(mask1d[None,:], slice_ksp.shape[1], axis=0)#.astype(int)\n",
    "mask2d = np.pad(mask2d, ((0,),((slice_ksp.shape[-1]-mask2d.shape[-1])//2,)), mode='constant')\n",
    "\n",
    "# convert shape e.g. (368,) --> (1, 1, 368, 1)\n",
    "mask = np_to_tt(np.array([[mask2d[0][np.newaxis].T]])).type(torch.FloatTensor)\n",
    "print('under-sampling factor:', round(len(mask1d) / sum(mask1d), 2))"
   ]
  },
  {
   "cell_type": "markdown",
   "metadata": {},
   "source": [
    "### Set up ConvDecoder"
   ]
  },
  {
   "cell_type": "code",
   "execution_count": 6,
   "metadata": {},
   "outputs": [
    {
     "name": "stdout",
     "output_type": "stream",
     "text": [
      "[(15, 8), (28, 15), (53, 28), (98, 53), (183, 102), (343, 193), (640, 368)]\n",
      "# parameters of ConvDecoder: 1850560\n"
     ]
    }
   ],
   "source": [
    "arch_name = 'ConvDecoder'\n",
    "\n",
    "in_size = [8,4]\n",
    "out_size = slice_ksp.shape[1:] # shape of (x,y) image slice, e.g. (640, 368)\n",
    "out_depth = slice_ksp.shape[0]*2 # 2*n_c, i.e. 2*15=30 if multi-coil\n",
    "num_layers = 8\n",
    "strides = [1]*(num_layers-1)\n",
    "num_channels = 160\n",
    "kernel_size = 3\n",
    "# dtype = \n",
    "\n",
    "net = convdecoder(in_size, out_size, out_depth, num_layers, \\\n",
    "                  strides, num_channels).type(dtype)\n",
    "\n",
    "print('# parameters of {}:'.format(arch_name),num_params(net))\n",
    "#print(net)"
   ]
  },
  {
   "cell_type": "markdown",
   "metadata": {},
   "source": [
    "### Fit ConvDecoder\n",
    "\n",
    "##### TODO's\n",
    "- clean up unnecessary conversions b/w numpy, torch tensor [C,H,W], and torch var [1,C,H,W]\n",
    "- make separate function that returns net_input given the appropriate scale_factor, i.e. split up mri_helpers.get_scale_factor() into two different functions"
   ]
  },
  {
   "cell_type": "code",
   "execution_count": 7,
   "metadata": {},
   "outputs": [],
   "source": [
    "# fix the scaling b/w original image and random output image = net(input tensor w values ~U[0,1]) \n",
    "# e.g. scale_factor = 168813\n",
    "# note: can be done using the under-sampled kspace, but we use the full kspace\n",
    "scale_factor, net_input = get_scale_factor(net,\n",
    "                                   num_channels,\n",
    "                                   in_size,\n",
    "                                   slice_ksp)#,\n",
    "                                   #dtype=torch.FloatTensor)\n",
    "slice_ksp = slice_ksp * scale_factor # original fit_untrained() f'n returns this\n",
    "    \n",
    "# mask the kspace\n",
    "ksp_masked = apply_mask(np_to_tt(slice_ksp), mask=mask)\n",
    "ksp_masked = np_to_var(ksp_masked.data.cpu().numpy()).type(dtype)\n",
    "\n",
    "# perform ifft of masked kspace\n",
    "img_masked = ifft_2d(ksp_masked[0]).cpu().numpy()\n",
    "img_masked = reshape_complex_channels_to_be_adj(img_masked)\n",
    "img_masked = np_to_var(img_masked).type(dtype)"
   ]
  },
  {
   "cell_type": "markdown",
   "metadata": {},
   "source": [
    "### Fit network via `fit(...)`\n",
    "\n",
    "##### Returns\n",
    "- net: the best network. network output is in image space but not computed\n",
    "- mse_wrt_ksp = mse(ksp_masked, fft(out) * mask)\n",
    "- mse_wrt_img = mse(img_masked, out)\n",
    "\n",
    "##### args:\n",
    "- `ksp_masked`: masked k-space of single slice\n",
    "- `img_masked`: ifft(ksp_masked)\n",
    "- `img_ls`: least-squares recon of original (unmasked) k-space. This is used only to compute ssim, psnr, and norm_ratio across number of iterations. Too see how this is created, refer to original ipynb for definining `lsimg`\n",
    "\n",
    "Note: Original code has opt_input argument (default False) which would hence return a new version of net_input\n",
    "\n",
    "##### TODO's (in fit.py)\n",
    "- make apply_f call less confusing. compare forwardm to utils.transform.apply_mask()\n",
    "- understand why we backprop on loss_ksp and not loss_img\n",
    "- what is difference b/w \"image loss\" and \"image loss orig\"?\n",
    "\n",
    "##### Findings:\n",
    "- When evaluating on one image, 1000 iterations was sufficient. Seemingly no benefit running for 10000 images\n",
    "- Runtime per iteration is ~ 0.125s --> ~125s per 1000 iterations. Most expensive steps:\n",
    "    - backprop loss_ksp: ~0.085s\n",
    "    - compute net output: ~0.025s\n",
    "    - all the rest combined: ~0.015s\n",
    "- Cut down runtime by ~15% by removing unnecessary data type conversions\n",
    "- Can cut down runtime by ~20% using HalfTensor. In order to implement this, must do the following:\n",
    "    - Uncomment casting lines below\n",
    "    - Add apply_f(...).half() in loss_ksp calc of fit.py\n",
    "    - After all this, gradients go to zero because their values are small and cannot be represented in fp16. As such, follow the blog post under \"Mixed-Precision Training Iteration\" at https://developer.nvidia.com/blog/mixed-precision-training-deep-neural-networks/. Note: cannot use autocast, as it currently isn't supported in the main version of pytorch\n",
    "    - Once that works, need to verify no loss in output image quality"
   ]
  },
  {
   "cell_type": "code",
   "execution_count": 14,
   "metadata": {},
   "outputs": [],
   "source": [
    "## UNCOMMENT for half precision\n",
    "# net = net.half()\n",
    "# ksp_masked = ksp_masked.half()\n",
    "# img_masked = img_masked.half()\n",
    "# mask = mask.half()\n",
    "# dtype=torch.cuda.HalfTensor"
   ]
  },
  {
   "cell_type": "code",
   "execution_count": 12,
   "metadata": {},
   "outputs": [
    {
     "name": "stdout",
     "output_type": "stream",
     "text": [
      "optimize with adam 0.01\n",
      "Time for fit: 12.994202375411987s 0.914697  img loss 0.950774 \n"
     ]
    }
   ],
   "source": [
    "torch.cuda.synchronize()\n",
    "tt0 = time.time()\n",
    "\n",
    "net, mse_wrt_ksp, mse_wrt_img = fit(\n",
    "        ksp_masked=ksp_masked, img_masked=img_masked,\n",
    "        net=net, net_input=net_input, mask=mask2d,\n",
    "        img_ls=None, num_iter=100, dtype=dtype)\n",
    "\n",
    "torch.cuda.synchronize()\n",
    "print('Time for fit: {}'.format(time.time()-tt0))"
   ]
  },
  {
   "cell_type": "code",
   "execution_count": 13,
   "metadata": {},
   "outputs": [
    {
     "data": {
      "text/plain": [
       "(0.0, 0.05)"
      ]
     },
     "execution_count": 13,
     "metadata": {},
     "output_type": "execute_result"
    },
    {
     "data": {
      "image/png": "[encoded data removed]",
      "text/plain": [
       "<Figure size 432x288 with 1 Axes>"
      ]
     },
     "metadata": {
      "needs_background": "light"
     },
     "output_type": "display_data"
    }
   ],
   "source": [
    "plt.plot(mse_wrt_ksp, label='ksp')\n",
    "plt.plot(mse_wrt_img, label='img')\n",
    "plt.ylim(0, 0.05)"
   ]
  },
  {
   "cell_type": "markdown",
   "metadata": {},
   "source": [
    "### Perform data consistency step\n",
    "\n",
    "Compute network output, convert to k-space and perform data-consistency step, then convert back to image space\n",
    "\n",
    "What is actually happening in this dc step?\n",
    "- 41/368 of mask coefficients are set to true \n",
    "- 41 columns, e.g. 41 * 640 = 787200 of values in ksp are overwritten"
   ]
  },
  {
   "cell_type": "code",
   "execution_count": null,
   "metadata": {},
   "outputs": [],
   "source": [
    "# estimate image \\hat{x} = G(\\hat{C})\n",
    "img_est = net(net_input.type(dtype))[0] # shape: torch.Size([30, 640, 368])\n",
    "img_est = reshape_complex_channels_to_sep_dimn(img_est)\n",
    "    \n",
    "# now get F*G(\\hat{C}), i.e. estimated recon in k-space\n",
    "ksp_est = fft_2d(img_est) # ([15, 640, 368, 2])\n",
    "ksp_orig = np_to_tt(split_complex_vals(slice_ksp)) # ([15, 640, 368, 2]); slice_ksp (15,640,368) complex\n",
    "\n",
    "# replace estimated coeffs in k-space by original coeffs if it has been sampled\n",
    "mask = torch.from_numpy(np.array(mask1d, dtype=np.uint8)) # shape: torch.Size([368]) w 41 non-zero elements\n",
    "ksp_dc = ksp_est.clone().detach().cpu()\n",
    "ksp_dc[:,:,mask==1,:] = ksp_orig[:,:,mask==1,:]\n",
    "\n",
    "img_dc = recon_ksp_to_img(ksp_dc)"
   ]
  },
  {
   "cell_type": "markdown",
   "metadata": {},
   "source": [
    "### Create ground-truth image and image without data consistency\n",
    "\n",
    "##### TODO: verify whether current method for creating ground-truth is correct -- i think not\n",
    "but maybe the ground-truth for this sample is corrupted with an artifact?\n",
    "\n",
    "current method: perform ifft of original k-space ksp_orig, combine complex values, combine multi-channel via rss (same method for recon of ksp_dc and ksp_est)"
   ]
  },
  {
   "cell_type": "code",
   "execution_count": null,
   "metadata": {},
   "outputs": [],
   "source": [
    "img_gt = recon_ksp_to_img(slice_ksp)\n",
    "img_est = recon_ksp_to_img(ksp_est.detach().cpu())"
   ]
  },
  {
   "cell_type": "markdown",
   "metadata": {},
   "source": [
    "# TODO 12 September    \n",
    "- try running over a set of images, for different slices, etc\n",
    "\n",
    "- think about implementing data consistency in the loss\n",
    "    - need to implement dc step into torch variables (done in numpy above)\n",
    "    - then i can call this similar to how apply_f()=forwardm() is done in current `fit.py`\n",
    "- next step: how to do layer-wise data consistency?"
   ]
  },
  {
   "cell_type": "code",
   "execution_count": null,
   "metadata": {},
   "outputs": [],
   "source": [
    "calc_metrics(img_est, img_gt)"
   ]
  },
  {
   "cell_type": "code",
   "execution_count": null,
   "metadata": {},
   "outputs": [],
   "source": [
    "calc_metrics(img_dc, img_gt)"
   ]
  },
  {
   "cell_type": "markdown",
   "metadata": {},
   "source": [
    "### Plot results"
   ]
  },
  {
   "cell_type": "code",
   "execution_count": null,
   "metadata": {},
   "outputs": [],
   "source": [
    "fig = plt.figure(figsize=(16, 8))\n",
    "\n",
    "ax1 = fig.add_subplot(131)\n",
    "ax1.imshow(img_gt, cmap='gray')\n",
    "ax1.set_title('ground-truth image??')\n",
    "ax1.axis('off')\n",
    "\n",
    "ax2 = fig.add_subplot(132)\n",
    "ax2.imshow(img_dc, cmap='gray')\n",
    "ax2.set_title('conv_decoder')\n",
    "ax2.axis('off')\n",
    "\n",
    "ax2 = fig.add_subplot(133)\n",
    "ax2.imshow(img_est, cmap='gray')\n",
    "ax2.set_title('conv_decoder w/o dc')\n",
    "ax2.axis('off')\n",
    "\n",
    "plt.show()"
   ]
  },
  {
   "cell_type": "code",
   "execution_count": null,
   "metadata": {},
   "outputs": [],
   "source": [
    "# est is output image without data consistency step\n",
    "plt.hist(img_est.flatten(), bins=100, alpha=0.5, label='est')\n",
    "plt.hist(img_dc.flatten(), bins=100, alpha=0.5, label='dc')\n",
    "plt.hist(img_gt.flatten(), bins=100, alpha=0.5, label='gt')\n",
    "plt.legend()\n",
    "plt.show()"
   ]
  },
  {
   "cell_type": "code",
   "execution_count": null,
   "metadata": {},
   "outputs": [],
   "source": []
  }
 ],
 "metadata": {
  "kernelspec": {
   "display_name": "Python 3",
   "language": "python",
   "name": "python3"
  },
  "language_info": {
   "codemirror_mode": {
    "name": "ipython",
    "version": 3
   },
   "file_extension": ".py",
   "mimetype": "text/x-python",
   "name": "python",
   "nbconvert_exporter": "python",
   "pygments_lexer": "ipython3",
   "version": "3.8.2"
  }
 },
 "nbformat": 4,
 "nbformat_minor": 4
}
